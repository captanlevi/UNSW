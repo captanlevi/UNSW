{
 "cells": [
  {
   "cell_type": "code",
   "execution_count": 1,
   "metadata": {},
   "outputs": [],
   "source": [
    "from tqdm import tqdm\n",
    "from typing import List, Dict\n",
    "import datetime\n",
    "import numpy as np\n",
    "import pandas as pd\n",
    "import matplotlib.pyplot as plt\n",
    "from flowprintOptimal.sekigo.core.flowRepresentation import FlowRepresentation,PacketFlowRepressentation\n",
    "from flowprintOptimal.sekigo.dataAnalysis.vNATDataFrameProcessor import VNATDataFrameProcessor\n",
    "from flowprintOptimal.sekigo.core.flowConfig import FlowConfig\n",
    "import random\n",
    "from flowprintOptimal.sekigo.flowUtils.flowDatasets import PacketFlowDataset\n",
    "from torch.utils.data import Dataset,DataLoader\n",
    "from torchsampler import ImbalancedDatasetSampler\n",
    "from sklearn.model_selection import train_test_split\n",
    "from flowprintOptimal.sekigo.flowUtils.commons import normalizePacketRep\n",
    "import os\n",
    "from joblib import Parallel, delayed\n",
    "from flowprintOptimal.sekigo.flowUtils.commons import saveFlows,loadFlows\n",
    "from flowprintOptimal.sekigo.dataAnalysis.dataFrameProcessor import UTMobileNetProcessor\n",
    "from flowprintOptimal.sekigo.flowUtils.dataGetter import getTrainTestOOD\n",
    "from sklearn.metrics import confusion_matrix\n",
    "import json\n",
    "import torch\n",
    "from sklearn.metrics import precision_recall_fscore_support\n",
    "from sklearn.metrics import accuracy_score\n",
    "device = torch.device(\"cuda\" if torch.cuda.is_available() else \"cpu\")\n",
    "from flowprintOptimal.sekigo.modeling.neuralNetworks import LSTMNetwork,TransformerGenerator,CNNNetwork1D\n",
    "#device = torch.device(\"cpu\")\n",
    "from flowprintOptimal.sekigo.utils.evaluations import Evaluator,EarlyEvaluation\n",
    "from flowprintOptimal.sekigo.utils.documentor import Documenter"
   ]
  },
  {
   "cell_type": "code",
   "execution_count": 21,
   "metadata": {},
   "outputs": [],
   "source": [
    "documenter = Documenter.load(name= \"UTMobileNet2021_no_sample_ood_standard\")"
   ]
  },
  {
   "cell_type": "code",
   "execution_count": 22,
   "metadata": {},
   "outputs": [
    {
     "data": {
      "text/plain": [
       "'UTMobileNet2021 with OOD detection (no balancers used) no ood samples generated'"
      ]
     },
     "execution_count": 22,
     "metadata": {},
     "output_type": "execute_result"
    }
   ],
   "source": [
    "documenter.configs[\"description\"]"
   ]
  },
  {
   "cell_type": "code",
   "execution_count": 23,
   "metadata": {},
   "outputs": [
    {
     "data": {
      "text/plain": [
       "{'dataset_name': 'UTMobileNet2021',\n",
       " 'subsampleConfig': None,\n",
       " 'max_flow_length': 80,\n",
       " 'test_size': 0.2,\n",
       " 'ood_classes': ['google-maps', 'youtube', 'messenger'],\n",
       " 'do_balance': False}"
      ]
     },
     "execution_count": 23,
     "metadata": {},
     "output_type": "execute_result"
    }
   ],
   "source": [
    "documenter.configs[\"data_config\"]"
   ]
  },
  {
   "cell_type": "code",
   "execution_count": 15,
   "metadata": {},
   "outputs": [],
   "source": [
    "evaluator = EarlyEvaluation(min_steps= documenter.configs[\"memory_fillter_config\"][\"min_length\"], device= device, model= documenter.early_model)\n",
    "all_evaluator = Evaluator(model= documenter.full_model,device= device)"
   ]
  },
  {
   "cell_type": "code",
   "execution_count": 16,
   "metadata": {},
   "outputs": [
    {
     "data": {
      "text/plain": [
       "{'micro_f1': 0.8888541014402004,\n",
       " 'macro_f1': 0.8173771432150136,\n",
       " 'accuracy': 0.8888541014402004,\n",
       " 'cm': array([[379,   1,   1,   3,   0,   1,   4,   6,   2,   0,   0,   0,   0],\n",
       "        [  0, 154,   0,   2,   0,   2,   4,   3,   0,   0,   0,   1,   0],\n",
       "        [  0,   0, 204,   4,   0,   1,  16,   1,   0,   0,   0,   1,   0],\n",
       "        [  0,   6,   3, 620,   1,   1,   7,   3,  22,   0,   0,   0,   0],\n",
       "        [  0,   1,   0,   2, 206,   1,   3,  13,   1,   1,   0,   0,   0],\n",
       "        [  0,   3,   0,   3,   0, 100,   1,   0,   0,   0,   0,   1,   0],\n",
       "        [  1,   1,   9,   1,   0,   0, 259,   1,   0,   0,   0,   0,   8],\n",
       "        [  0,   1,   2,   0,  20,   1,   4, 269,   1,   2,   0,   2,   0],\n",
       "        [  1,   0,   0,  37,   0,   4,   0,   1, 234,   0,   0,   1,   0],\n",
       "        [  0,   0,   0,   0,   1,   0,   1,  12,   0, 153,   4,   5,   0],\n",
       "        [  0,   0,   0,   2,   0,   0,   1,   0,   1,   0,  67,   2,   0],\n",
       "        [  0,   0,   1,   0,   1,   0,   2,   2,   0,   3,   2, 152,   0],\n",
       "        [  0,   0,   2,   2,   0,   0,  25,   6,   0,   0,   0,   0,  42]]),\n",
       " 'incorrect_ood': 0.017532874139010644,\n",
       " 'time': 8.425798371947401}"
      ]
     },
     "execution_count": 16,
     "metadata": {},
     "output_type": "execute_result"
    }
   ],
   "source": [
    "evaluator.getMetrices(dataset= documenter.test_dataset)"
   ]
  },
  {
   "cell_type": "code",
   "execution_count": 17,
   "metadata": {},
   "outputs": [
    {
     "data": {
      "text/plain": [
       "{'micro_f1': 0.9283030682529744,\n",
       " 'macro_f1': 0.911474829395677,\n",
       " 'accuracy': 0.9283030682529744,\n",
       " 'cm': array([[381,   2,   4,   2,   1,   0,   1,   8,   1,   0,   0,   1,   0],\n",
       "        [  1, 159,   3,   1,   1,   0,   1,   0,   0,   0,   0,   1,   1],\n",
       "        [  1,   1, 212,   2,   0,   0,   9,   2,   0,   0,   0,   0,   1],\n",
       "        [  4,   3,   7, 642,   3,   0,   5,   2,   5,   0,   0,   1,   0],\n",
       "        [  2,   0,   2,   1, 193,   2,   4,  32,   0,   1,   0,   1,   1],\n",
       "        [  0,   2,   1,   0,   2, 104,   1,   0,   0,   0,   0,   1,   0],\n",
       "        [  0,   1,   4,   0,   0,   0, 273,   1,   1,   0,   0,   1,   3],\n",
       "        [  0,   1,   2,   1,   0,   0,   6, 301,   0,   1,   0,   2,   0],\n",
       "        [  0,   1,   0,   7,   1,   0,   0,   2, 266,   0,   0,   1,   0],\n",
       "        [  0,   1,   1,   0,   0,   0,   0,   6,   0, 164,   3,   4,   0],\n",
       "        [  2,   1,   0,   1,   0,   0,   0,   0,   0,   0,  71,   0,   0],\n",
       "        [  0,   2,   1,   0,   0,   0,   0,   3,   1,   2,   1, 154,   1],\n",
       "        [  4,   1,   4,   0,   0,   0,  18,   8,   0,   0,   0,   0,  45]]),\n",
       " 'incorrect_ood': 0.0}"
      ]
     },
     "execution_count": 17,
     "metadata": {},
     "output_type": "execute_result"
    }
   ],
   "source": [
    "all_evaluator.getMetrices(dataset= documenter.test_dataset)"
   ]
  },
  {
   "cell_type": "code",
   "execution_count": 18,
   "metadata": {},
   "outputs": [],
   "source": [
    "info = documenter.getScores(device= device)"
   ]
  },
  {
   "cell_type": "code",
   "execution_count": 19,
   "metadata": {},
   "outputs": [],
   "source": [
    "train_counts, test_counts = info[\"train_dataset_counts\"],info[\"test_dataset_counts\"]\n",
    "train_counts , test_counts = dict(train_counts), dict(test_counts)"
   ]
  },
  {
   "cell_type": "code",
   "execution_count": 20,
   "metadata": {},
   "outputs": [
    {
     "data": {
      "text/plain": [
       "{'google-maps': 2584,\n",
       " 'netflix': 1680,\n",
       " 'reddit': 1295,\n",
       " 'youtube': 1031,\n",
       " 'facebook': 1028,\n",
       " 'instagram': 994,\n",
       " 'pinterest': 994,\n",
       " 'google-drive': 709,\n",
       " 'spotify': 699,\n",
       " 'twitter': 682,\n",
       " 'gmail': 400,\n",
       " 'hangout': 351,\n",
       " 'messenger': 329}"
      ]
     },
     "execution_count": 20,
     "metadata": {},
     "output_type": "execute_result"
    }
   ],
   "source": [
    "train_counts"
   ]
  },
  {
   "cell_type": "code",
   "execution_count": 10,
   "metadata": {},
   "outputs": [],
   "source": [
    "total_flows = train_counts.copy()\n",
    "\n",
    "for key in total_flows:\n",
    "    total_flows[key] += test_counts[key]"
   ]
  },
  {
   "cell_type": "code",
   "execution_count": 11,
   "metadata": {},
   "outputs": [
    {
     "data": {
      "text/plain": [
       "{'BROWSERS': 18820, 'P2P': 14175, 'MAIL': 4432, 'OTHER': 2368, 'Skype': 499}"
      ]
     },
     "execution_count": 11,
     "metadata": {},
     "output_type": "execute_result"
    }
   ],
   "source": [
    "total_flows"
   ]
  },
  {
   "cell_type": "code",
   "execution_count": 13,
   "metadata": {},
   "outputs": [
    {
     "data": {
      "text/plain": [
       "array([[2033,  122,    0,    4],\n",
       "       [  67, 2129,    0,    5],\n",
       "       [   0,    2, 1086,    0],\n",
       "       [   2,    0,    0, 1789]])"
      ]
     },
     "execution_count": 13,
     "metadata": {},
     "output_type": "execute_result"
    }
   ],
   "source": [
    "info[\"full_metrices\"][\"cm\"]"
   ]
  },
  {
   "cell_type": "code",
   "execution_count": 11,
   "metadata": {},
   "outputs": [
    {
     "data": {
      "text/plain": [
       "array([[2006,  104,    4,   28],\n",
       "       [ 157, 2035,    0,    6],\n",
       "       [   1,    2, 1081,    4],\n",
       "       [   2,    8,    0, 1781]])"
      ]
     },
     "execution_count": 11,
     "metadata": {},
     "output_type": "execute_result"
    }
   ],
   "source": [
    "info[\"early_metrices\"][\"cm\"]"
   ]
  },
  {
   "cell_type": "code",
   "execution_count": 12,
   "metadata": {},
   "outputs": [
    {
     "data": {
      "text/plain": [
       "['streaming', 'FT', 'chat', 'control']"
      ]
     },
     "execution_count": 12,
     "metadata": {},
     "output_type": "execute_result"
    }
   ],
   "source": [
    "info[\"labels\"]"
   ]
  },
  {
   "cell_type": "code",
   "execution_count": null,
   "metadata": {},
   "outputs": [],
   "source": []
  }
 ],
 "metadata": {
  "kernelspec": {
   "display_name": "Python 3",
   "language": "python",
   "name": "python3"
  },
  "language_info": {
   "codemirror_mode": {
    "name": "ipython",
    "version": 3
   },
   "file_extension": ".py",
   "mimetype": "text/x-python",
   "name": "python",
   "nbconvert_exporter": "python",
   "pygments_lexer": "ipython3",
   "version": "3.10.12"
  }
 },
 "nbformat": 4,
 "nbformat_minor": 2
}
