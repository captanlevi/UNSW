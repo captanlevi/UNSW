{
 "cells": [
  {
   "cell_type": "code",
   "execution_count": 1,
   "metadata": {},
   "outputs": [],
   "source": [
    "import numpy as np\n",
    "import pandas as pd\n",
    "import torch\n",
    "import torch.nn as nn\n",
    "from flowprintOptimal.sekigo.core.flowConfig import FlowConfig\n",
    "device = torch.device(\"cuda\" if torch.cuda.is_available() else \"cpu\")\n",
    "from flowprintOptimal.sekigo.flowUtils.commons import loadFlows, saveFlows\n",
    "from flowprintOptimal.sekigo.flowUtils.sampler import FixedLengthSampler, FixedLengthSimpleSampler\n",
    "from flowprintOptimal.sekigo.core.flowRepresentation import FlowRepresentation\n",
    "from typing import List\n",
    "from flowprintOptimal.sekigo.flowUtils.flowDatasets import MaxNormalizedDataset,ActivityDataset,BaseFlowDataset,DDQNActivityDataset\n",
    "from flowprintOptimal.sekigo.dataAnalysis.vNATDataFrameProcessor import VNATDataFrameProcessor\n",
    "from flowprintOptimal.sekigo.flowUtils.commons import getValidInvalidStartingPointsForSubFlowStart, getActivityArrayFromFlow\n",
    "from flowprintOptimal.sekigo.modeling.neuralNetworks import LSTMNetwork,TransformerGenerator,CNNNetwork1D\n",
    "from flowprintOptimal.sekigo.modeling.loggers import Logger\n",
    "from sklearn.ensemble import RandomForestClassifier\n",
    "from torch.utils.data import Dataset, DataLoader,WeightedRandomSampler\n",
    "from tqdm import tqdm\n",
    "from copy import deepcopy\n",
    "import matplotlib.pyplot as plt\n",
    "from joblib import delayed, Parallel\n",
    "from typing import List\n",
    "from flowprintOptimal.sekigo.earlyClassification.DQL.memoryFiller import MemoryFiller\n",
    "from flowprintOptimal.sekigo.earlyClassification.DQL.core import MemoryElement,Rewarder,State\n",
    "from flowprintOptimal.sekigo.earlyClassification.DQL.datasets import MemoryDataset\n",
    "from torch.nn.utils.rnn import pack_sequence, unpack_sequence\n",
    "from flowprintOptimal.sekigo.dataAnalysis.dataFrameProcessor import SoftwareUpdateDataProcessor,GamingDownloadDataFrameProcessor\n",
    "from flowprintOptimal.sekigo.dataAnalysis.dataFrameExtractor import DataFrameExtractor\n",
    "from sklearn.metrics import precision_recall_fscore_support\n",
    "import matplotlib.pyplot as plt\n",
    "from sklearn.metrics import confusion_matrix,  ConfusionMatrixDisplay\n",
    "from flowprintOptimal.sekigo.earlyClassification.DQL.trainers import EarlyClassificationtrainer\n",
    "from flowprintOptimal.sekigo.modeling.neuralNetworks import LinearPredictor\n",
    "import warnings\n",
    "from flowprintOptimal.sekigo.utils.commons import augmentData\n",
    "warnings.filterwarnings('ignore')\n",
    "import torch.nn.functional as F\n",
    "import random"
   ]
  },
  {
   "cell_type": "code",
   "execution_count": 3,
   "metadata": {},
   "outputs": [],
   "source": [
    "seq_len = 30\n",
    "data_dim = 4\n",
    "random_dim = 128\n",
    "\n",
    "\n",
    "decoder = TransformerGenerator(random_dim= random_dim,seq_len= seq_len,embedding_dim= 64,num_heads= 4,cond_dim= None,\n",
    "                               num_layers= 6,output_dim= data_dim,out_layer= nn.Sigmoid()).to(device)\n",
    "encoder = CNNNetwork1D(in_channels= data_dim,num_filters= 32,output_dim= random_dim,num_layers= 3,num_outputs= 2,cond_dim= None).to(device)\n",
    "\n",
    "encoder = torch.compile(encoder)\n",
    "decoder = torch.compile(decoder)\n",
    "encoder.load_state_dict(torch.load(\"models/VAE/encoder.pt\"))\n",
    "decoder.load_state_dict(torch.load(\"models/VAE/decoder.pt\"))\n",
    "\n",
    "encoder = encoder.eval()\n",
    "decoder = decoder.eval()"
   ]
  },
  {
   "cell_type": "code",
   "execution_count": 3,
   "metadata": {},
   "outputs": [
    {
     "name": "stdout",
     "output_type": "stream",
     "text": [
      "initial software update length = 72826\n",
      "final software update length = 36790\n",
      "after adding uploads size = 73580\n"
     ]
    },
    {
     "data": {
      "text/plain": [
       "True"
      ]
     },
     "execution_count": 3,
     "metadata": {},
     "output_type": "execute_result"
    }
   ],
   "source": [
    "flow_config = FlowConfig(grain= 1, band_thresholds= [1250])\n",
    "processor1 = SoftwareUpdateDataProcessor(parquet_path= \"data/software-update-1w.parquet\")\n",
    "processor2 = GamingDownloadDataFrameProcessor(parquet_path= \"data/2023-12-01--2023-12-31--flowprint.parquet\")\n",
    "flows = DataFrameExtractor.getData(data_frame_processors= [processor2,processor1],needed_flow_config= flow_config)\n",
    "class_type_filtered_flows = flows\n",
    "FT_filtered_flows = list(filter(lambda x : x.class_type != \"Download\",class_type_filtered_flows))\n",
    "FT_flows = list(filter(lambda x : x.class_type == \"Download\",class_type_filtered_flows))\n",
    "len(FT_filtered_flows) + len(FT_flows) == len(class_type_filtered_flows)"
   ]
  },
  {
   "cell_type": "code",
   "execution_count": null,
   "metadata": {},
   "outputs": [],
   "source": []
  },
  {
   "cell_type": "code",
   "execution_count": 23,
   "metadata": {},
   "outputs": [
    {
     "data": {
      "text/plain": [
       "True"
      ]
     },
     "execution_count": 23,
     "metadata": {},
     "output_type": "execute_result"
    }
   ],
   "source": [
    "flows = loadFlows(path= \"data/VNAT/flowStore/vnatflowshalfsecond_2_bands.json\")\n",
    "class_type_filtered_flows = VNATDataFrameProcessor.convertLabelsToTopLevel(flows)\n",
    "FT_filtered_flows = list(filter(lambda x : x.class_type != \"FT\",class_type_filtered_flows))\n",
    "FT_flows = list(filter(lambda x : x.class_type == \"FT\",class_type_filtered_flows))\n",
    "len(FT_filtered_flows) + len(FT_flows) == len(class_type_filtered_flows)"
   ]
  },
  {
   "cell_type": "code",
   "execution_count": 32,
   "metadata": {},
   "outputs": [
    {
     "data": {
      "text/plain": [
       "(2, 1)"
      ]
     },
     "execution_count": 32,
     "metadata": {},
     "output_type": "execute_result"
    }
   ],
   "source": [
    "class_type_filtered_flows[4000].up_bytes.shape"
   ]
  },
  {
   "cell_type": "code",
   "execution_count": 27,
   "metadata": {},
   "outputs": [],
   "source": [
    "length_filtered = list(filter(lambda x : x.up_bytes.shape[1] > 20, class_type_filtered_flows))"
   ]
  },
  {
   "cell_type": "code",
   "execution_count": 28,
   "metadata": {},
   "outputs": [
    {
     "data": {
      "text/plain": [
       "control      1637\n",
       "streaming     840\n",
       "FT            667\n",
       "chat          563\n",
       "Name: count, dtype: int64"
      ]
     },
     "execution_count": 28,
     "metadata": {},
     "output_type": "execute_result"
    }
   ],
   "source": [
    "pd.Series(map(lambda x : x.class_type, length_filtered)).value_counts()"
   ]
  },
  {
   "cell_type": "code",
   "execution_count": 34,
   "metadata": {},
   "outputs": [
    {
     "name": "stdout",
     "output_type": "stream",
     "text": [
      "{'chat': 0.009978081619872665, 'control': 0.17486738613499178, 'streaming': 0.0999790838736666}\n",
      "overlapping points = 0\n",
      "{'FT': 0.49921752738654146}\n",
      "overlapping points = 0\n",
      "{'FT': 1, 'chat': 0.05498904080993633, 'control': 0.9636912383391256, 'streaming': 0.55098305793767}\n",
      "overlapping points = 0\n"
     ]
    }
   ],
   "source": [
    "sampler = FixedLengthSampler(flow_config= FT_filtered_flows[0].flow_config,required_length_in_seconds = 30,ratio_of_median_to_sample= .1,min_activity_for_start_point= 25,sample_wise_train_ratio= .8, temporal_train_ratio= 1)\n",
    "FT_filtered_split_flows = sampler.sampleAndCutToLength(data= FT_filtered_flows)\n",
    "ft_sampler = FixedLengthSampler(flow_config= FT_filtered_flows[0].flow_config,required_length_in_seconds = 30,ratio_of_median_to_sample= .5,min_activity_for_start_point= 25,sample_wise_train_ratio= 1, temporal_train_ratio= 1)\n",
    "FT_split_flows = ft_sampler.sampleAndCutToLength(data= FT_flows)\n",
    "all_sampler = FixedLengthSampler(flow_config= class_type_filtered_flows[0].flow_config,required_length_in_seconds = 30,ratio_of_median_to_sample= .1,min_activity_for_start_point= 25,sample_wise_train_ratio= .8, temporal_train_ratio= 1)\n",
    "all_flows = all_sampler.sampleAndCutToLength(data= class_type_filtered_flows)"
   ]
  },
  {
   "cell_type": "code",
   "execution_count": 36,
   "metadata": {},
   "outputs": [
    {
     "name": "stdout",
     "output_type": "stream",
     "text": [
      "control      1929\n",
      "streaming    1720\n",
      "chat         1400\n",
      "Name: count, dtype: int64\n",
      "chat         569\n",
      "streaming    487\n",
      "control      206\n",
      "Name: count, dtype: int64\n",
      "chat         9415\n",
      "streaming    9244\n",
      "control      8198\n",
      "FT            624\n",
      "Name: count, dtype: int64\n",
      "control      2458\n",
      "streaming    1504\n",
      "chat         1192\n",
      "FT             15\n",
      "Name: count, dtype: int64\n",
      "FT    325\n",
      "Name: count, dtype: int64\n"
     ]
    }
   ],
   "source": [
    "print(pd.Series(map(lambda x : x.class_type,FT_filtered_split_flows[\"train_flows\"])).value_counts())\n",
    "print(pd.Series(map(lambda x : x.class_type,FT_filtered_split_flows[\"test_flows\"])).value_counts())\n",
    "print(pd.Series(map(lambda x : x.class_type,all_flows[\"train_flows\"])).value_counts())\n",
    "print(pd.Series(map(lambda x : x.class_type,all_flows[\"test_flows\"])).value_counts())\n",
    "print(pd.Series(map(lambda x : x.class_type,FT_split_flows[\"train_flows\"])).value_counts())\n",
    "#print(pd.Series(map(lambda x : x.class_type,FT_split_flows[\"test_flows\"])).value_counts())"
   ]
  },
  {
   "cell_type": "code",
   "execution_count": 25,
   "metadata": {},
   "outputs": [],
   "source": [
    "class DDQNActivityDataset(BaseFlowDataset):\n",
    "    def __init__(self, flows: List[FlowRepresentation], label_to_index: dict,do_aug = False,balance = False):\n",
    "        super().__init__(flows = flows, label_to_index= label_to_index)\n",
    "        self.do_aug = do_aug\n",
    "        self.labels = list(map(lambda x : self.label_to_index[x.class_type],self.flows))\n",
    "        self.flows = list(map(lambda x : getActivityArrayFromFlow(x), self.flows))\n",
    "\n",
    "        if balance == True:\n",
    "            print(\"balancing\")\n",
    "            self.cureImbalance()\n",
    "    \n",
    "    def __getitem__(self, index):\n",
    "        return dict(data = self.flows[index] if (self.do_aug == False) else augmentData(self.flows[index],fraction_range= [0,.15]), label  = self.labels[index])\n",
    "    \n",
    "    def cureImbalance(self):\n",
    "        \n",
    "        label_to_indices = dict()\n",
    "        for i,label in enumerate(self.labels):\n",
    "            if label not in label_to_indices:\n",
    "                label_to_indices[label] = []\n",
    "            label_to_indices[label].append(i)\n",
    "        \n",
    "        \n",
    "        counts = [len(x) for _,x in label_to_indices.items()]\n",
    "        max_counts = max(counts)\n",
    "        print(counts)\n",
    "        added_flows,added_labels = [],[]\n",
    "        for label,indices in label_to_indices.items():\n",
    "            to_add = max_counts - len(indices)\n",
    "            if to_add > 0:\n",
    "                replication_indices = random.choices(population= indices,k= to_add)\n",
    "            \n",
    "                for replication_index in replication_indices:\n",
    "                    added_flows.append(self.flows[replication_index].copy())\n",
    "                    added_labels.append(self.labels[replication_index])\n",
    "        \n",
    "\n",
    "\n",
    "        self.flows.extend(added_flows)\n",
    "        self.labels.extend(added_labels)\n",
    "            "
   ]
  },
  {
   "cell_type": "code",
   "execution_count": 26,
   "metadata": {},
   "outputs": [],
   "source": [
    "all_train_dataset = DDQNActivityDataset(flows= all_flows[\"train_flows\"],label_to_index= None,do_aug= False,balance= False)\n",
    "all_test_dataset = DDQNActivityDataset(flows = all_flows[\"test_flows\"], label_to_index= all_train_dataset.label_to_index)\n",
    "train_dataset = DDQNActivityDataset(flows= FT_filtered_split_flows[\"train_flows\"],label_to_index= None,do_aug= False)\n",
    "test_dataset = DDQNActivityDataset(flows= FT_filtered_split_flows[\"test_flows\"],label_to_index= train_dataset.label_to_index)\n",
    "ood_dataset = DDQNActivityDataset(flows= FT_split_flows[\"train_flows\"],label_to_index= None)\n",
    "#ood_support_dataset = DDQNActivityDataset(flows= FT_split_flows[\"train_flows\"],label_to_index= ood_dataset.label_to_index)"
   ]
  },
  {
   "cell_type": "code",
   "execution_count": 78,
   "metadata": {},
   "outputs": [
    {
     "data": {
      "text/plain": [
       "0    869\n",
       "1    869\n",
       "2    869\n",
       "3    869\n",
       "Name: count, dtype: int64"
      ]
     },
     "execution_count": 78,
     "metadata": {},
     "output_type": "execute_result"
    }
   ],
   "source": [
    "pd.Series(map(lambda x : x[\"label\"],all_train_dataset)).value_counts()"
   ]
  },
  {
   "cell_type": "code",
   "execution_count": 53,
   "metadata": {},
   "outputs": [
    {
     "name": "stdout",
     "output_type": "stream",
     "text": [
      "[[0.04664886 0.04649501 0.04668455 0.04668231 0.04660827 0.04662975\n",
      "  0.04668901 0.04659536 0.04662084 0.04694938 0.04580732 0.04672945\n",
      "  0.04237838 0.         0.         0.         0.         0.\n",
      "  0.         0.         0.         0.         0.         0.12088888\n",
      "  0.         0.         0.         0.         0.         0.        ]\n",
      " [0.         0.         0.         0.         0.         0.\n",
      "  0.         0.         0.         0.         0.         0.\n",
      "  0.         0.         0.         0.         0.         0.\n",
      "  0.         0.         0.         0.         0.         0.\n",
      "  0.         0.         0.         0.         0.         0.        ]\n",
      " [0.20760839 0.0416     0.0416     0.0416     0.0416     0.0416\n",
      "  0.13291034 0.0416     0.0416     0.0416     0.0416     0.08402424\n",
      "  0.04159996 0.         0.         0.         0.         0.\n",
      "  0.         0.         0.         0.         0.         0.08610908\n",
      "  0.         0.         0.         0.         0.         0.        ]\n",
      " [0.91866667 0.91866667 0.91866667 0.91866667 0.91866667 0.91866667\n",
      "  0.91866667 0.91866667 0.91866667 0.91866667 0.91866667 0.91866667\n",
      "  0.91866666 0.         0.         0.         0.         0.\n",
      "  0.         0.         0.         0.         0.         0.\n",
      "  0.         0.         0.         0.         0.         0.        ]\n",
      " [0.97818748 0.97799655 0.97790886 0.97837131 0.97786022 0.97812198\n",
      "  0.97769774 0.97795549 0.97848121 0.97757736 0.97874177 0.97900663\n",
      "  0.98344972 0.         0.         0.         0.         0.\n",
      "  0.         0.         0.         0.         0.         0.46540881\n",
      "  0.         0.         0.         0.         0.         0.        ]\n",
      " [0.65784624 0.65420964 0.65428287 0.65952524 0.65393117 0.6562619\n",
      "  0.65294118 0.65503876 0.66022989 0.65194628 0.65895503 0.66658465\n",
      "  0.69672131 0.         0.         0.         0.         0.\n",
      "  0.         0.         0.         0.         0.         0.55\n",
      "  0.         0.         0.         0.         0.         0.        ]]\n"
     ]
    },
    {
     "data": {
      "image/png": "[encoded data removed]",
      "text/plain": [
       "<Figure size 640x480 with 1 Axes>"
      ]
     },
     "metadata": {},
     "output_type": "display_data"
    }
   ],
   "source": [
    "index = np.random.randint(0,len(ood_dataset))\n",
    "plt.imshow(ood_dataset[index][\"data\"].T)\n",
    "print(ood_dataset[index][\"data\"].T)\n"
   ]
  },
  {
   "cell_type": "code",
   "execution_count": 26,
   "metadata": {},
   "outputs": [
    {
     "name": "stdout",
     "output_type": "stream",
     "text": [
      "{'chat': 0, 'control': 1, 'streaming': 2}\n",
      "[[0.16986666 0.         0.         0.         0.         0.\n",
      "  0.         0.         0.         0.         0.         0.\n",
      "  0.         0.         0.         0.         0.         0.\n",
      "  0.         0.         0.         0.         0.         0.\n",
      "  0.         0.         0.         0.         0.         0.        ]\n",
      " [0.91866621 0.         0.         0.         0.         0.\n",
      "  0.         0.         0.         0.         0.         0.\n",
      "  0.         0.         0.         0.         0.         0.\n",
      "  0.         0.         0.         0.         0.         0.\n",
      "  0.         0.         0.         0.         0.         0.        ]\n",
      " [0.20456986 0.         0.         0.         0.         0.\n",
      "  0.         0.         0.         0.         0.         0.\n",
      "  0.         0.         0.         0.         0.         0.\n",
      "  0.         0.         0.         0.         0.         0.\n",
      "  0.         0.         0.         0.         0.         0.        ]\n",
      " [0.91866621 0.         0.         0.         0.         0.\n",
      "  0.         0.         0.         0.         0.         0.\n",
      "  0.         0.         0.         0.         0.         0.\n",
      "  0.         0.         0.         0.         0.         0.\n",
      "  0.         0.         0.         0.         0.         0.        ]\n",
      " [0.53418612 0.         0.         0.         0.         0.\n",
      "  0.         0.         0.         0.         0.         0.\n",
      "  0.         0.         0.         0.         0.         0.\n",
      "  0.         0.         0.         0.         0.         0.\n",
      "  0.         0.         0.         0.         0.         0.        ]\n",
      " [0.49342105 0.         0.         0.         0.         0.\n",
      "  0.         0.         0.         0.         0.         0.\n",
      "  0.         0.         0.         0.         0.         0.\n",
      "  0.         0.         0.         0.         0.         0.\n",
      "  0.         0.         0.         0.         0.         0.        ]]\n",
      "0\n"
     ]
    },
    {
     "data": {
      "image/png": "[encoded data removed]",
      "text/plain": [
       "<Figure size 640x480 with 1 Axes>"
      ]
     },
     "metadata": {},
     "output_type": "display_data"
    }
   ],
   "source": [
    "print(train_dataset.label_to_index)\n",
    "index = np.random.randint(0,len(train_dataset))\n",
    "plt.imshow(train_dataset[index][\"data\"].T)\n",
    "print(train_dataset[index][\"data\"].T)\n",
    "print(train_dataset[index][\"label\"])"
   ]
  },
  {
   "cell_type": "code",
   "execution_count": 27,
   "metadata": {},
   "outputs": [],
   "source": [
    "class Rewarder:\n",
    "    def __init__(self,max_length,l,num_labels : int):\n",
    "        self.max_length = max_length\n",
    "        self.l = l # l is smaller than 1\n",
    "        self.num_labels = num_labels\n",
    "\n",
    "    def reward(self,state : State,action : int):\n",
    "        if state.label == action:\n",
    "            # reward 1 on a correct prediction\n",
    "            return 1, True\n",
    "        else:\n",
    "            # either incorrect or wait\n",
    "            # wait \n",
    "            # treat the wait action with a negative reward\n",
    "            if action == self.num_labels:\n",
    "                if state.label == -1:\n",
    "                    # sample is ood then give 0 reward not negative 1\n",
    "                    if state.length == self.max_length:\n",
    "                        # if is the last timestamp\n",
    "                        return self.l*(state.length/self.max_length),True\n",
    "                    else:\n",
    "                        return self.l*(state.length/self.max_length),False\n",
    "                else:\n",
    "                    # the sample is not ood\n",
    "                    if state.length == self.max_length:\n",
    "                        # it is the last timestamp\n",
    "                        return -self.l*(state.length/self.max_length),True\n",
    "                    else:\n",
    "                        # waiting negative reward on ID sample\n",
    "                        return -self.l*(state.length/self.max_length), False\n",
    "            else:\n",
    "                # incorrect\n",
    "                return -1,True\n",
    "            \n",
    "\n",
    "\n",
    "class Rewarder:\n",
    "    def __init__(self,max_length,l,num_labels : int):\n",
    "        self.max_length = max_length\n",
    "        self.l = l # l is smaller than 1\n",
    "        self.num_labels = num_labels\n",
    "\n",
    "    def reward(self,state : State,action : int):\n",
    "        if state.label == action:\n",
    "            # reward 1 on a correct prediction\n",
    "            return 1, True\n",
    "        else:\n",
    "            # either incorrect or wait\n",
    "            # wait \n",
    "            # treat the wait action with a negative reward\n",
    "            if action == self.num_labels:\n",
    "                if state.length == self.max_length:\n",
    "                    # it is the last timestamp\n",
    "                    if state.label == -1:\n",
    "                        assert False\n",
    "                        return 0, True\n",
    "                    else:\n",
    "                        return -1,True#self.l*(state.length/self.max_length),True\n",
    "                else:\n",
    "                    if state.label == -1:\n",
    "                        assert False\n",
    "                        return 0, False\n",
    "                    else:\n",
    "                        return -self.l*(state.length/self.max_length), False\n",
    "            else:\n",
    "                # incorrect\n",
    "                return -1,True"
   ]
  },
  {
   "cell_type": "code",
   "execution_count": 16,
   "metadata": {},
   "outputs": [],
   "source": [
    "def getOffSample(data,encoder,decoder):\n",
    "    \"\"\"\n",
    "    data is of shape (BS,seq_len,data_dim), pytorch tensor\n",
    "    \"\"\"\n",
    "    encoder.eval()\n",
    "    decoder.eval()\n",
    "    def sampleOODZ(mu,log_var,delta):\n",
    "        sigma = torch.exp(log_var/2)\n",
    "        epsilon = torch.randn_like(sigma)\n",
    "        if np.random.random() <= .5:\n",
    "            z = mu + sigma*delta + sigma*epsilon\n",
    "        else:\n",
    "            z = mu - sigma*delta + sigma*epsilon\n",
    "        return z\n",
    "    with torch.no_grad():\n",
    "        mu,log_var = encoder(data,None)\n",
    "        mu = torch.zeros_like(mu)\n",
    "        log_var = torch.zeros_like(log_var)\n",
    "        z_ood = sampleOODZ(mu= mu, log_var= log_var,delta= 1 + np.random.random())\n",
    "        out_ood = decoder(z_ood,None)[0]\n",
    "        return out_ood"
   ]
  },
  {
   "cell_type": "code",
   "execution_count": 28,
   "metadata": {},
   "outputs": [],
   "source": [
    "class MemoryFiller:\n",
    "    def __init__(self,dataset : BaseFlowDataset,rewarder : Rewarder,min_length_in_seconds : int,max_length_in_seconds,random_sample_ratio : int):\n",
    "        self.dataset = dataset\n",
    "        self.rewarder = rewarder\n",
    "\n",
    "        grain = self.dataset.flow_config.grain\n",
    "        self.min_length = int(min_length_in_seconds/grain)\n",
    "        self.max_length = int(max_length_in_seconds/grain)\n",
    "\n",
    "        self.actions = list(self.dataset.label_to_index.values())  \n",
    "        self.random_sample_ratio = random_sample_ratio\n",
    "        self.actions.append(len(self.actions))\n",
    "\n",
    "    def processSingleSample(self,data):\n",
    "        flow, label = data[\"data\"], data[\"label\"]\n",
    "        memory_elements : List[MemoryElement] = []\n",
    "        for length in range(self.min_length, self.max_length+1):\n",
    "            for action in self.actions:\n",
    "                state = State(timeseries= flow,label= label,length= length)\n",
    "                reward, terminate = self.rewarder.reward(state= state,action= action)\n",
    "                \n",
    "                next_state = State(timeseries= flow,label= label,length= length + 1)\n",
    "                if terminate == True:\n",
    "                    # I am reducing the length as I will ahve to pass the state to LSTM \n",
    "                    # So I instead of filtering I will just zero all terminal states later.\n",
    "                    next_state.length -= 1\n",
    "                    next_state.setTerminal()\n",
    "\n",
    "                \n",
    "                memory_element = MemoryElement(state= state,action= action,reward= reward,next_state= next_state)\n",
    "                memory_elements.append(memory_element)\n",
    "        return memory_elements\n",
    "    def processDataset(self):\n",
    "\n",
    "        memory_elements = []\n",
    "        \n",
    "        for i in range(1,len(self.dataset)+1):\n",
    "            # using 1 to len(dataset) + 1 so modulo does not throw an error\n",
    "            if i%self.random_sample_ratio == 0:\n",
    "                #data = ood_support_dataset[np.random.randint(len(ood_support_dataset))]\n",
    "                #data[\"label\"] = -1\n",
    "                #memory_elements.extend(self.processSingleSample(data))\n",
    "                \"\"\"\n",
    "                #if np.random.random() > .5:\n",
    "                random_data_value = augmentData(original_data= self.dataset[i-1][\"data\"],fraction_range= [.2,.8])#np.random.random(self.dataset[i-1][\"data\"].shape)\n",
    "                random_data_label = -1\n",
    "                data = dict(data = random_data_value,label = random_data_label)\n",
    "                memory_elements.extend(self.processSingleSample(data))\n",
    "     \n",
    "                X = torch.tensor(self.dataset[i-1][\"data\"]).unsqueeze(0).float().to(device)\n",
    "                X_off = getOffSample(data= X,encoder= encoder,decoder= decoder)[0].cpu().numpy()\n",
    "                vae_data = dict(data = X_off, label = -1)\n",
    "                memory_elements.extend(self.processSingleSample(vae_data))\n",
    "                \"\"\"\n",
    "                pass\n",
    "                \n",
    "\n",
    "            data = self.dataset[i-1]\n",
    "            memory_elements.extend(self.processSingleSample(data))\n",
    " \n",
    "        return memory_elements"
   ]
  },
  {
   "cell_type": "code",
   "execution_count": 29,
   "metadata": {},
   "outputs": [],
   "source": [
    "rewarder = Rewarder(max_length= 30,l= .1,num_labels= len(all_train_dataset.label_to_index))\n",
    "memory_filler = MemoryFiller(dataset= all_train_dataset,rewarder= rewarder, min_length_in_seconds= 5, max_length_in_seconds= 30,random_sample_ratio= 20)"
   ]
  },
  {
   "cell_type": "code",
   "execution_count": 30,
   "metadata": {},
   "outputs": [
    {
     "name": "stdout",
     "output_type": "stream",
     "text": [
      "3329560\n"
     ]
    }
   ],
   "source": [
    "memory = memory_filler.processDataset()\n",
    "print(len(memory))"
   ]
  },
  {
   "cell_type": "code",
   "execution_count": 31,
   "metadata": {},
   "outputs": [],
   "source": [
    "memory_dataset = MemoryDataset(memories= memory,num_classes= len(all_train_dataset.label_to_index), corrupt_prob= 0,\n",
    "                               min_length= memory_filler.min_length,max_length= memory_filler.max_length)\n",
    "predictor = LSTMNetwork(lstm_input_size= 6,lstm_hidden_size= 128,output_dim= len(all_train_dataset.label_to_index) + 1)\n",
    "logger = Logger(verbose= True)\n",
    "logger.default_step_size = 1000"
   ]
  },
  {
   "cell_type": "code",
   "execution_count": null,
   "metadata": {},
   "outputs": [],
   "source": []
  },
  {
   "cell_type": "code",
   "execution_count": 32,
   "metadata": {},
   "outputs": [],
   "source": [
    "ddq_model = EarlyClassificationtrainer(predictor= predictor,train_dataset = all_train_dataset,test_dataset= all_test_dataset,memory_dataset= memory_dataset,\n",
    "                                       ood_dataset= ood_dataset,\n",
    "                                       logger= logger,device=device,model_replacement_steps= 100)"
   ]
  },
  {
   "cell_type": "code",
   "execution_count": 33,
   "metadata": {},
   "outputs": [
    {
     "name": "stdout",
     "output_type": "stream",
     "text": [
      " ---- 1000 metric loss = 0.26391721753031017\n",
      " ---- 1 metric test_eval_f1 = 0.9258312020460358\n",
      " ---- 1 metric test_eval_time = 9.008951406649617\n",
      " ---- 1 metric ood_eval = 1.0\n",
      " ---- 1 metric ood_eval_time = 30.0\n",
      " ---- 2000 metric loss = 0.13307612888328732\n",
      " ---- 2 metric test_eval_f1 = 0.9376243250923558\n",
      " ---- 2 metric test_eval_time = 9.321113952827508\n",
      " ---- 2 metric ood_eval = 1.0\n",
      " ---- 2 metric ood_eval_time = 30.0\n",
      " ---- 1 metric train_eval_f1 = 0.9491254099640793\n",
      " ---- 1 metric train_eval_time = 9.43549898485085\n",
      " ---- 3000 metric loss = 0.11292457897402346\n",
      " ---- 3 metric test_eval_f1 = 0.9423131571469168\n",
      " ---- 3 metric test_eval_time = 9.540920716112533\n",
      " ---- 3 metric ood_eval = 0.8646153846153846\n",
      " ---- 3 metric ood_eval_time = 28.31692307692308\n",
      " ---- 4000 metric loss = 0.1013836984373629\n",
      " ---- 4 metric test_eval_f1 = 0.9457232168229611\n",
      " ---- 4 metric test_eval_time = 9.901392441034385\n",
      " ---- 4 metric ood_eval = 0.36923076923076925\n",
      " ---- 4 metric ood_eval_time = 22.252307692307692\n",
      " ---- 2 metric train_eval_f1 = 0.9607215367796346\n",
      " ---- 2 metric train_eval_time = 10.157894736842104\n",
      " ---- 5000 metric loss = 0.08291480924095959\n",
      " ---- 5 metric test_eval_f1 = 0.9552429667519181\n",
      " ---- 5 metric test_eval_time = 8.112816140949134\n",
      " ---- 5 metric ood_eval = 0.48307692307692307\n",
      " ---- 5 metric ood_eval_time = 23.07076923076923\n",
      " ---- 6000 metric loss = 0.07434186356514692\n",
      " ---- 6 metric test_eval_f1 = 0.9614947428246661\n",
      " ---- 6 metric test_eval_time = 8.71994884910486\n",
      " ---- 6 metric ood_eval = 0.3507692307692308\n",
      " ---- 6 metric ood_eval_time = 20.833846153846153\n",
      " ---- 3 metric train_eval_f1 = 0.9792675308449165\n",
      " ---- 3 metric train_eval_time = 8.708144619709511\n",
      " ---- 7000 metric loss = 0.07043012078432366\n",
      " ---- 7 metric test_eval_f1 = 0.9376243250923558\n",
      " ---- 7 metric test_eval_time = 10.932651321398124\n",
      " ---- 7 metric ood_eval = 0.46153846153846156\n",
      " ---- 7 metric ood_eval_time = 23.07076923076923\n",
      " ---- 8000 metric loss = 0.06649562146374956\n",
      " ---- 8 metric test_eval_f1 = 0.9641943734015346\n",
      " ---- 8 metric test_eval_time = 8.348394430235862\n",
      " ---- 8 metric ood_eval = 0.36\n",
      " ---- 8 metric ood_eval_time = 20.326153846153847\n",
      " ---- 4 metric train_eval_f1 = 0.9793456192409807\n",
      " ---- 4 metric train_eval_time = 8.174098079025457\n",
      " ---- 9000 metric loss = 0.057863200317136945\n",
      " ---- 9 metric test_eval_f1 = 0.960642227905655\n",
      " ---- 9 metric test_eval_time = 7.941318556408071\n",
      " ---- 9 metric ood_eval = 0.36615384615384616\n",
      " ---- 9 metric ood_eval_time = 20.587692307692308\n",
      " ---- 10000 metric loss = 0.05357114739762619\n",
      " ---- 10 metric test_eval_f1 = 0.9631997726626883\n",
      " ---- 10 metric test_eval_time = 8.28005115089514\n",
      " ---- 10 metric ood_eval = 0.3415384615384615\n",
      " ---- 10 metric ood_eval_time = 21.31692307692308\n",
      " ---- 5 metric train_eval_f1 = 0.9834843042323911\n",
      " ---- 5 metric train_eval_time = 8.093081368108699\n",
      " ---- 11000 metric loss = 0.04998258175840602\n",
      " ---- 11 metric test_eval_f1 = 0.9053708439897699\n",
      " ---- 11 metric test_eval_time = 8.718385905086672\n",
      " ---- 11 metric ood_eval = 0.24\n",
      " ---- 11 metric ood_eval_time = 16.556923076923077\n",
      " ---- 12000 metric loss = 0.05111617474583909\n",
      " ---- 12 metric test_eval_f1 = 0.9678886047172492\n",
      " ---- 12 metric test_eval_time = 7.938618925831202\n",
      " ---- 12 metric ood_eval = 0.35384615384615387\n",
      " ---- 12 metric ood_eval_time = 20.71076923076923\n",
      " ---- 6 metric train_eval_f1 = 0.9826643760737155\n",
      " ---- 6 metric train_eval_time = 7.871622676870217\n",
      " ---- 13000 metric loss = 0.04465005083475262\n",
      " ---- 13 metric test_eval_f1 = 0.9636260301221938\n",
      " ---- 13 metric test_eval_time = 7.666240409207161\n",
      " ---- 13 metric ood_eval = 0.3046153846153846\n",
      " ---- 13 metric ood_eval_time = 19.052307692307693\n",
      " ---- 14000 metric loss = 0.04150950713455677\n",
      " ---- 14 metric test_eval_f1 = 0.9663256606990622\n",
      " ---- 14 metric test_eval_time = 8.632139812446718\n",
      " ---- 14 metric ood_eval = 0.3076923076923077\n",
      " ---- 14 metric ood_eval_time = 20.264615384615386\n",
      " ---- 7 metric train_eval_f1 = 0.9862173980946431\n",
      " ---- 7 metric train_eval_time = 8.529868811494612\n",
      " ---- 15000 metric loss = 0.03984011115401517\n",
      " ---- 15 metric test_eval_f1 = 0.972435350951975\n",
      " ---- 15 metric test_eval_time = 9.820971867007673\n",
      " ---- 15 metric ood_eval = 0.29846153846153844\n",
      " ---- 15 metric ood_eval_time = 18.563076923076924\n",
      " ---- 16000 metric loss = 0.03955188253696542\n",
      " ---- 16 metric test_eval_f1 = 0.9631997726626883\n",
      " ---- 16 metric test_eval_time = 8.309747087240693\n",
      " ---- 16 metric ood_eval = 0.3723076923076923\n",
      " ---- 16 metric ood_eval_time = 20.630769230769232\n",
      " ---- 8 metric train_eval_f1 = 0.9853584257379353\n",
      " ---- 8 metric train_eval_time = 8.247813524910198\n",
      " ---- 17000 metric loss = 0.03636101113306359\n",
      " ---- 17 metric test_eval_f1 = 0.96845694799659\n",
      " ---- 17 metric test_eval_time = 7.685279909065075\n",
      " ---- 17 metric ood_eval = 0.28307692307692306\n",
      " ---- 17 metric ood_eval_time = 17.944615384615386\n",
      " ---- 18000 metric loss = 0.0337397586699808\n",
      " ---- 18 metric test_eval_f1 = 0.9670360897982382\n",
      " ---- 18 metric test_eval_time = 7.549161693662972\n",
      " ---- 18 metric ood_eval = 0.28\n",
      " ---- 18 metric ood_eval_time = 19.19076923076923\n",
      " ---- 9 metric train_eval_f1 = 0.986412619084804\n",
      " ---- 9 metric train_eval_time = 7.385171013587381\n",
      " ---- 19000 metric loss = 0.03256684019160457\n",
      " ---- 19 metric test_eval_f1 = 0.9683148621767548\n",
      " ---- 19 metric test_eval_time = 8.985933503836318\n",
      " ---- 19 metric ood_eval = 0.27692307692307694\n",
      " ---- 19 metric ood_eval_time = 17.615384615384617\n",
      " ---- 20000 metric loss = 0.03628749771369621\n",
      " ---- 20 metric test_eval_f1 = 0.9670360897982382\n",
      " ---- 20 metric test_eval_time = 7.58226768968457\n",
      " ---- 20 metric ood_eval = 0.28923076923076924\n",
      " ---- 20 metric ood_eval_time = 18.00923076923077\n",
      " ---- 10 metric train_eval_f1 = 0.9856707793221927\n",
      " ---- 10 metric train_eval_time = 7.511244729033265\n",
      " ---- 21000 metric loss = 0.03139460576104466\n",
      " ---- 21 metric test_eval_f1 = 0.969309462915601\n",
      " ---- 21 metric test_eval_time = 7.824381926683717\n",
      " ---- 21 metric ood_eval = 0.28615384615384615\n",
      " ---- 21 metric ood_eval_time = 18.375384615384615\n"
     ]
    },
    {
     "ename": "KeyboardInterrupt",
     "evalue": "",
     "output_type": "error",
     "traceback": [
      "\u001b[0;31m---------------------------------------------------------------------------\u001b[0m",
      "\u001b[0;31mKeyboardInterrupt\u001b[0m                         Traceback (most recent call last)",
      "Cell \u001b[0;32mIn[33], line 1\u001b[0m\n\u001b[0;32m----> 1\u001b[0m \u001b[43mddq_model\u001b[49m\u001b[38;5;241;43m.\u001b[39;49m\u001b[43mtrain\u001b[49m\u001b[43m(\u001b[49m\u001b[43mepochs\u001b[49m\u001b[38;5;241;43m=\u001b[39;49m\u001b[43m \u001b[49m\u001b[38;5;241;43m10\u001b[39;49m\u001b[43m,\u001b[49m\u001b[43mbatch_size\u001b[49m\u001b[38;5;241;43m=\u001b[39;49m\u001b[43m \u001b[49m\u001b[38;5;241;43m128\u001b[39;49m\u001b[43m,\u001b[49m\u001b[43mmodel_lag_in_steps\u001b[49m\u001b[38;5;241;43m=\u001b[39;49m\u001b[43m \u001b[49m\u001b[38;5;241;43m100\u001b[39;49m\u001b[43m,\u001b[49m\u001b[43mlr\u001b[49m\u001b[38;5;241;43m=\u001b[39;49m\u001b[43m \u001b[49m\u001b[38;5;241;43m.0005\u001b[39;49m\u001b[43m)\u001b[49m \n",
      "File \u001b[0;32m~/Desktop/UNSW/flowprintOptimal/sekigo/earlyClassification/DQL/trainers.py:201\u001b[0m, in \u001b[0;36mEarlyClassificationtrainer.train\u001b[0;34m(self, epochs, batch_size, lr, lam, model_lag_in_steps)\u001b[0m\n\u001b[1;32m    199\u001b[0m \u001b[38;5;28;01mfor\u001b[39;00m epoch \u001b[38;5;129;01min\u001b[39;00m \u001b[38;5;28mrange\u001b[39m(epochs):\n\u001b[1;32m    200\u001b[0m     \u001b[38;5;28;01mfor\u001b[39;00m batch \u001b[38;5;129;01min\u001b[39;00m train_dataloader:\n\u001b[0;32m--> 201\u001b[0m         \u001b[38;5;28;43mself\u001b[39;49m\u001b[38;5;241;43m.\u001b[39;49m\u001b[43mtrainStep\u001b[49m\u001b[43m(\u001b[49m\u001b[43msteps\u001b[49m\u001b[43m \u001b[49m\u001b[38;5;241;43m=\u001b[39;49m\u001b[43m \u001b[49m\u001b[43msteps\u001b[49m\u001b[43m,\u001b[49m\u001b[43mbatch\u001b[49m\u001b[38;5;241;43m=\u001b[39;49m\u001b[43m \u001b[49m\u001b[43mbatch\u001b[49m\u001b[43m,\u001b[49m\u001b[43mlam\u001b[49m\u001b[38;5;241;43m=\u001b[39;49m\u001b[43m \u001b[49m\u001b[43mlam\u001b[49m\u001b[43m,\u001b[49m\u001b[43m \u001b[49m\u001b[43mpredictor_optimizer\u001b[49m\u001b[38;5;241;43m=\u001b[39;49m\u001b[43m \u001b[49m\u001b[43mpredictor_optimizer\u001b[49m\u001b[43m)\u001b[49m\n\u001b[1;32m    202\u001b[0m         steps \u001b[38;5;241m+\u001b[39m\u001b[38;5;241m=\u001b[39m \u001b[38;5;241m1\u001b[39m            \n\u001b[1;32m    204\u001b[0m         \u001b[38;5;28;01mif\u001b[39;00m steps\u001b[38;5;241m%\u001b[39m\u001b[38;5;241m1000\u001b[39m \u001b[38;5;241m==\u001b[39m \u001b[38;5;241m0\u001b[39m:\n",
      "File \u001b[0;32m~/Desktop/UNSW/flowprintOptimal/sekigo/earlyClassification/DQL/trainers.py:89\u001b[0m, in \u001b[0;36mEarlyClassificationtrainer.trainStep\u001b[0;34m(self, steps, batch, lam, predictor_optimizer)\u001b[0m\n\u001b[1;32m     86\u001b[0m     next_state_values_for_max_action \u001b[38;5;241m=\u001b[39m next_state_values_for_max_action\u001b[38;5;241m*\u001b[39m(\u001b[38;5;241m~\u001b[39m(is_terminal\u001b[38;5;241m.\u001b[39munsqueeze(\u001b[38;5;241m-\u001b[39m\u001b[38;5;241m1\u001b[39m)))\n\u001b[1;32m     87\u001b[0m     target \u001b[38;5;241m=\u001b[39m reward \u001b[38;5;241m+\u001b[39m lam\u001b[38;5;241m*\u001b[39m(next_state_values_for_max_action\u001b[38;5;241m.\u001b[39msqueeze())\n\u001b[0;32m---> 89\u001b[0m predicted_values \u001b[38;5;241m=\u001b[39m \u001b[38;5;28;43mself\u001b[39;49m\u001b[38;5;241;43m.\u001b[39;49m\u001b[43mpredictor\u001b[49m\u001b[43m(\u001b[49m\u001b[43mstate\u001b[49m\u001b[43m)\u001b[49m[\u001b[38;5;241m0\u001b[39m]\n\u001b[1;32m     90\u001b[0m predicted_values_for_taken_action \u001b[38;5;241m=\u001b[39m torch\u001b[38;5;241m.\u001b[39mgather(\u001b[38;5;28minput\u001b[39m\u001b[38;5;241m=\u001b[39m predicted_values, dim\u001b[38;5;241m=\u001b[39m \u001b[38;5;241m1\u001b[39m,index\u001b[38;5;241m=\u001b[39m action\u001b[38;5;241m.\u001b[39munsqueeze(\u001b[38;5;241m-\u001b[39m\u001b[38;5;241m1\u001b[39m))\u001b[38;5;241m.\u001b[39msqueeze()\n\u001b[1;32m     92\u001b[0m loss \u001b[38;5;241m=\u001b[39m \u001b[38;5;28mself\u001b[39m\u001b[38;5;241m.\u001b[39mmse_loss_function(target, predicted_values_for_taken_action\u001b[38;5;241m.\u001b[39msqueeze())\u001b[38;5;241m.\u001b[39mmean()\n",
      "File \u001b[0;32m~/.local/lib/python3.10/site-packages/torch/nn/modules/module.py:1511\u001b[0m, in \u001b[0;36mModule._wrapped_call_impl\u001b[0;34m(self, *args, **kwargs)\u001b[0m\n\u001b[1;32m   1509\u001b[0m     \u001b[38;5;28;01mreturn\u001b[39;00m \u001b[38;5;28mself\u001b[39m\u001b[38;5;241m.\u001b[39m_compiled_call_impl(\u001b[38;5;241m*\u001b[39margs, \u001b[38;5;241m*\u001b[39m\u001b[38;5;241m*\u001b[39mkwargs)  \u001b[38;5;66;03m# type: ignore[misc]\u001b[39;00m\n\u001b[1;32m   1510\u001b[0m \u001b[38;5;28;01melse\u001b[39;00m:\n\u001b[0;32m-> 1511\u001b[0m     \u001b[38;5;28;01mreturn\u001b[39;00m \u001b[38;5;28;43mself\u001b[39;49m\u001b[38;5;241;43m.\u001b[39;49m\u001b[43m_call_impl\u001b[49m\u001b[43m(\u001b[49m\u001b[38;5;241;43m*\u001b[39;49m\u001b[43margs\u001b[49m\u001b[43m,\u001b[49m\u001b[43m \u001b[49m\u001b[38;5;241;43m*\u001b[39;49m\u001b[38;5;241;43m*\u001b[39;49m\u001b[43mkwargs\u001b[49m\u001b[43m)\u001b[49m\n",
      "File \u001b[0;32m~/.local/lib/python3.10/site-packages/torch/nn/modules/module.py:1520\u001b[0m, in \u001b[0;36mModule._call_impl\u001b[0;34m(self, *args, **kwargs)\u001b[0m\n\u001b[1;32m   1515\u001b[0m \u001b[38;5;66;03m# If we don't have any hooks, we want to skip the rest of the logic in\u001b[39;00m\n\u001b[1;32m   1516\u001b[0m \u001b[38;5;66;03m# this function, and just call forward.\u001b[39;00m\n\u001b[1;32m   1517\u001b[0m \u001b[38;5;28;01mif\u001b[39;00m \u001b[38;5;129;01mnot\u001b[39;00m (\u001b[38;5;28mself\u001b[39m\u001b[38;5;241m.\u001b[39m_backward_hooks \u001b[38;5;129;01mor\u001b[39;00m \u001b[38;5;28mself\u001b[39m\u001b[38;5;241m.\u001b[39m_backward_pre_hooks \u001b[38;5;129;01mor\u001b[39;00m \u001b[38;5;28mself\u001b[39m\u001b[38;5;241m.\u001b[39m_forward_hooks \u001b[38;5;129;01mor\u001b[39;00m \u001b[38;5;28mself\u001b[39m\u001b[38;5;241m.\u001b[39m_forward_pre_hooks\n\u001b[1;32m   1518\u001b[0m         \u001b[38;5;129;01mor\u001b[39;00m _global_backward_pre_hooks \u001b[38;5;129;01mor\u001b[39;00m _global_backward_hooks\n\u001b[1;32m   1519\u001b[0m         \u001b[38;5;129;01mor\u001b[39;00m _global_forward_hooks \u001b[38;5;129;01mor\u001b[39;00m _global_forward_pre_hooks):\n\u001b[0;32m-> 1520\u001b[0m     \u001b[38;5;28;01mreturn\u001b[39;00m \u001b[43mforward_call\u001b[49m\u001b[43m(\u001b[49m\u001b[38;5;241;43m*\u001b[39;49m\u001b[43margs\u001b[49m\u001b[43m,\u001b[49m\u001b[43m \u001b[49m\u001b[38;5;241;43m*\u001b[39;49m\u001b[38;5;241;43m*\u001b[39;49m\u001b[43mkwargs\u001b[49m\u001b[43m)\u001b[49m\n\u001b[1;32m   1522\u001b[0m \u001b[38;5;28;01mtry\u001b[39;00m:\n\u001b[1;32m   1523\u001b[0m     result \u001b[38;5;241m=\u001b[39m \u001b[38;5;28;01mNone\u001b[39;00m\n",
      "File \u001b[0;32m~/Desktop/UNSW/flowprintOptimal/sekigo/modeling/neuralNetworks.py:46\u001b[0m, in \u001b[0;36mLSTMNetwork.forward\u001b[0;34m(self, X)\u001b[0m\n\u001b[1;32m     37\u001b[0m \u001b[38;5;28;01mdef\u001b[39;00m \u001b[38;5;21mforward\u001b[39m(\u001b[38;5;28mself\u001b[39m,X):\n\u001b[1;32m     38\u001b[0m     \u001b[38;5;124;03m\"\"\"\u001b[39;00m\n\u001b[1;32m     39\u001b[0m \u001b[38;5;124;03m    X is the timeseries input of shape \u001b[39;00m\n\u001b[1;32m     40\u001b[0m \u001b[38;5;124;03m    (BS,Seq len, lstm_input_size)\u001b[39;00m\n\u001b[0;32m   (...)\u001b[0m\n\u001b[1;32m     44\u001b[0m \u001b[38;5;124;03m    The output is of shape (BS,num_classes)\u001b[39;00m\n\u001b[1;32m     45\u001b[0m \u001b[38;5;124;03m    \"\"\"\u001b[39;00m\n\u001b[0;32m---> 46\u001b[0m     lstm_out, _ \u001b[38;5;241m=\u001b[39m \u001b[38;5;28;43mself\u001b[39;49m\u001b[38;5;241;43m.\u001b[39;49m\u001b[43mlstm\u001b[49m\u001b[43m(\u001b[49m\u001b[43mX\u001b[49m\u001b[43m)\u001b[49m\n\u001b[1;32m     47\u001b[0m     \u001b[38;5;28;01mif\u001b[39;00m \u001b[38;5;28misinstance\u001b[39m(X,torch\u001b[38;5;241m.\u001b[39mTensor):\n\u001b[1;32m     48\u001b[0m         lstm_out \u001b[38;5;241m=\u001b[39m lstm_out[:,\u001b[38;5;241m-\u001b[39m\u001b[38;5;241m1\u001b[39m,:]\n",
      "File \u001b[0;32m~/.local/lib/python3.10/site-packages/torch/nn/modules/module.py:1511\u001b[0m, in \u001b[0;36mModule._wrapped_call_impl\u001b[0;34m(self, *args, **kwargs)\u001b[0m\n\u001b[1;32m   1509\u001b[0m     \u001b[38;5;28;01mreturn\u001b[39;00m \u001b[38;5;28mself\u001b[39m\u001b[38;5;241m.\u001b[39m_compiled_call_impl(\u001b[38;5;241m*\u001b[39margs, \u001b[38;5;241m*\u001b[39m\u001b[38;5;241m*\u001b[39mkwargs)  \u001b[38;5;66;03m# type: ignore[misc]\u001b[39;00m\n\u001b[1;32m   1510\u001b[0m \u001b[38;5;28;01melse\u001b[39;00m:\n\u001b[0;32m-> 1511\u001b[0m     \u001b[38;5;28;01mreturn\u001b[39;00m \u001b[38;5;28;43mself\u001b[39;49m\u001b[38;5;241;43m.\u001b[39;49m\u001b[43m_call_impl\u001b[49m\u001b[43m(\u001b[49m\u001b[38;5;241;43m*\u001b[39;49m\u001b[43margs\u001b[49m\u001b[43m,\u001b[49m\u001b[43m \u001b[49m\u001b[38;5;241;43m*\u001b[39;49m\u001b[38;5;241;43m*\u001b[39;49m\u001b[43mkwargs\u001b[49m\u001b[43m)\u001b[49m\n",
      "File \u001b[0;32m~/.local/lib/python3.10/site-packages/torch/nn/modules/module.py:1520\u001b[0m, in \u001b[0;36mModule._call_impl\u001b[0;34m(self, *args, **kwargs)\u001b[0m\n\u001b[1;32m   1515\u001b[0m \u001b[38;5;66;03m# If we don't have any hooks, we want to skip the rest of the logic in\u001b[39;00m\n\u001b[1;32m   1516\u001b[0m \u001b[38;5;66;03m# this function, and just call forward.\u001b[39;00m\n\u001b[1;32m   1517\u001b[0m \u001b[38;5;28;01mif\u001b[39;00m \u001b[38;5;129;01mnot\u001b[39;00m (\u001b[38;5;28mself\u001b[39m\u001b[38;5;241m.\u001b[39m_backward_hooks \u001b[38;5;129;01mor\u001b[39;00m \u001b[38;5;28mself\u001b[39m\u001b[38;5;241m.\u001b[39m_backward_pre_hooks \u001b[38;5;129;01mor\u001b[39;00m \u001b[38;5;28mself\u001b[39m\u001b[38;5;241m.\u001b[39m_forward_hooks \u001b[38;5;129;01mor\u001b[39;00m \u001b[38;5;28mself\u001b[39m\u001b[38;5;241m.\u001b[39m_forward_pre_hooks\n\u001b[1;32m   1518\u001b[0m         \u001b[38;5;129;01mor\u001b[39;00m _global_backward_pre_hooks \u001b[38;5;129;01mor\u001b[39;00m _global_backward_hooks\n\u001b[1;32m   1519\u001b[0m         \u001b[38;5;129;01mor\u001b[39;00m _global_forward_hooks \u001b[38;5;129;01mor\u001b[39;00m _global_forward_pre_hooks):\n\u001b[0;32m-> 1520\u001b[0m     \u001b[38;5;28;01mreturn\u001b[39;00m \u001b[43mforward_call\u001b[49m\u001b[43m(\u001b[49m\u001b[38;5;241;43m*\u001b[39;49m\u001b[43margs\u001b[49m\u001b[43m,\u001b[49m\u001b[43m \u001b[49m\u001b[38;5;241;43m*\u001b[39;49m\u001b[38;5;241;43m*\u001b[39;49m\u001b[43mkwargs\u001b[49m\u001b[43m)\u001b[49m\n\u001b[1;32m   1522\u001b[0m \u001b[38;5;28;01mtry\u001b[39;00m:\n\u001b[1;32m   1523\u001b[0m     result \u001b[38;5;241m=\u001b[39m \u001b[38;5;28;01mNone\u001b[39;00m\n",
      "File \u001b[0;32m~/.local/lib/python3.10/site-packages/torch/nn/modules/rnn.py:881\u001b[0m, in \u001b[0;36mLSTM.forward\u001b[0;34m(self, input, hx)\u001b[0m\n\u001b[1;32m    878\u001b[0m     result \u001b[38;5;241m=\u001b[39m _VF\u001b[38;5;241m.\u001b[39mlstm(\u001b[38;5;28minput\u001b[39m, hx, \u001b[38;5;28mself\u001b[39m\u001b[38;5;241m.\u001b[39m_flat_weights, \u001b[38;5;28mself\u001b[39m\u001b[38;5;241m.\u001b[39mbias, \u001b[38;5;28mself\u001b[39m\u001b[38;5;241m.\u001b[39mnum_layers,\n\u001b[1;32m    879\u001b[0m                       \u001b[38;5;28mself\u001b[39m\u001b[38;5;241m.\u001b[39mdropout, \u001b[38;5;28mself\u001b[39m\u001b[38;5;241m.\u001b[39mtraining, \u001b[38;5;28mself\u001b[39m\u001b[38;5;241m.\u001b[39mbidirectional, \u001b[38;5;28mself\u001b[39m\u001b[38;5;241m.\u001b[39mbatch_first)\n\u001b[1;32m    880\u001b[0m \u001b[38;5;28;01melse\u001b[39;00m:\n\u001b[0;32m--> 881\u001b[0m     result \u001b[38;5;241m=\u001b[39m \u001b[43m_VF\u001b[49m\u001b[38;5;241;43m.\u001b[39;49m\u001b[43mlstm\u001b[49m\u001b[43m(\u001b[49m\u001b[38;5;28;43minput\u001b[39;49m\u001b[43m,\u001b[49m\u001b[43m \u001b[49m\u001b[43mbatch_sizes\u001b[49m\u001b[43m,\u001b[49m\u001b[43m \u001b[49m\u001b[43mhx\u001b[49m\u001b[43m,\u001b[49m\u001b[43m \u001b[49m\u001b[38;5;28;43mself\u001b[39;49m\u001b[38;5;241;43m.\u001b[39;49m\u001b[43m_flat_weights\u001b[49m\u001b[43m,\u001b[49m\u001b[43m \u001b[49m\u001b[38;5;28;43mself\u001b[39;49m\u001b[38;5;241;43m.\u001b[39;49m\u001b[43mbias\u001b[49m\u001b[43m,\u001b[49m\n\u001b[1;32m    882\u001b[0m \u001b[43m                      \u001b[49m\u001b[38;5;28;43mself\u001b[39;49m\u001b[38;5;241;43m.\u001b[39;49m\u001b[43mnum_layers\u001b[49m\u001b[43m,\u001b[49m\u001b[43m \u001b[49m\u001b[38;5;28;43mself\u001b[39;49m\u001b[38;5;241;43m.\u001b[39;49m\u001b[43mdropout\u001b[49m\u001b[43m,\u001b[49m\u001b[43m \u001b[49m\u001b[38;5;28;43mself\u001b[39;49m\u001b[38;5;241;43m.\u001b[39;49m\u001b[43mtraining\u001b[49m\u001b[43m,\u001b[49m\u001b[43m \u001b[49m\u001b[38;5;28;43mself\u001b[39;49m\u001b[38;5;241;43m.\u001b[39;49m\u001b[43mbidirectional\u001b[49m\u001b[43m)\u001b[49m\n\u001b[1;32m    883\u001b[0m output \u001b[38;5;241m=\u001b[39m result[\u001b[38;5;241m0\u001b[39m]\n\u001b[1;32m    884\u001b[0m hidden \u001b[38;5;241m=\u001b[39m result[\u001b[38;5;241m1\u001b[39m:]\n",
      "\u001b[0;31mKeyboardInterrupt\u001b[0m: "
     ]
    }
   ],
   "source": [
    "ddq_model.train(epochs= 10,batch_size= 128,model_lag_in_steps= 100,lr= .0005) "
   ]
  },
  {
   "cell_type": "code",
   "execution_count": 51,
   "metadata": {},
   "outputs": [
    {
     "data": {
      "text/plain": [
       "[<matplotlib.lines.Line2D at 0x7d0113ee0760>]"
      ]
     },
     "execution_count": 51,
     "metadata": {},
     "output_type": "execute_result"
    },
    {
     "data": {
      "image/png": "[encoded data removed]",
      "text/plain": [
       "<Figure size 640x480 with 1 Axes>"
      ]
     },
     "metadata": {},
     "output_type": "display_data"
    }
   ],
   "source": [
    "plt.plot(logger.getMetric(\"train_eval_f1\"))"
   ]
  },
  {
   "cell_type": "code",
   "execution_count": 19,
   "metadata": {},
   "outputs": [],
   "source": [
    "def getPredScores(dataset,model : LSTMNetwork):\n",
    "    loader = DataLoader(dataset,batch_size = 32)\n",
    "    model.eval()\n",
    "    outs = []\n",
    "    labels = []\n",
    "    with torch.no_grad():\n",
    "        for batch in loader:\n",
    "            X = torch.tensor(batch[\"data\"]).float().to(device)\n",
    "            labels.extend(batch[\"label\"].numpy().tolist())\n",
    "            model_out = F.softmax(model.earlyClassificationForward(X= X)[0],dim= -1).cpu().numpy().tolist()\n",
    "            outs.extend(model_out)\n",
    "    return np.array(outs),np.array(labels)\n",
    "\n"
   ]
  },
  {
   "cell_type": "code",
   "execution_count": 71,
   "metadata": {},
   "outputs": [],
   "source": [
    "outs,labels = getPredScores(dataset= ood_dataset,model= predictor)\n",
    "outs = outs[:,5:,:]"
   ]
  },
  {
   "cell_type": "code",
   "execution_count": 72,
   "metadata": {},
   "outputs": [],
   "source": [
    "diff = np.max(a= outs[:,:,:-1],axis= -1) - outs[:,:,-1]"
   ]
  },
  {
   "cell_type": "code",
   "execution_count": 29,
   "metadata": {},
   "outputs": [
    {
     "data": {
      "text/plain": [
       "{'FT': 0, 'chat': 1, 'control': 2, 'streaming': 3}"
      ]
     },
     "execution_count": 29,
     "metadata": {},
     "output_type": "execute_result"
    }
   ],
   "source": [
    "all_train_dataset.label_to_index"
   ]
  },
  {
   "cell_type": "code",
   "execution_count": 68,
   "metadata": {},
   "outputs": [],
   "source": [
    "res = np.array(ddq_model.predictOnDataset(dataset= all_test_dataset))"
   ]
  },
  {
   "cell_type": "code",
   "execution_count": 69,
   "metadata": {},
   "outputs": [
    {
     "data": {
      "text/plain": [
       "(0.7114232692700238, 11.020682523267839)"
      ]
     },
     "execution_count": 69,
     "metadata": {},
     "output_type": "execute_result"
    }
   ],
   "source": [
    "ddq_model.eval(all_test_dataset)"
   ]
  },
  {
   "cell_type": "code",
   "execution_count": 70,
   "metadata": {},
   "outputs": [
    {
     "data": {
      "text/plain": [
       "{'FT': 0, 'chat': 1, 'control': 2, 'streaming': 3}"
      ]
     },
     "execution_count": 70,
     "metadata": {},
     "output_type": "execute_result"
    }
   ],
   "source": [
    "all_train_dataset.label_to_index"
   ]
  },
  {
   "cell_type": "code",
   "execution_count": 71,
   "metadata": {},
   "outputs": [],
   "source": [
    "labels = list(map(lambda x : x[\"label\"], all_test_dataset))"
   ]
  },
  {
   "cell_type": "code",
   "execution_count": 72,
   "metadata": {},
   "outputs": [
    {
     "data": {
      "text/plain": [
       "0    368\n",
       "3    277\n",
       "2    175\n",
       "1    147\n",
       "Name: count, dtype: int64"
      ]
     },
     "execution_count": 72,
     "metadata": {},
     "output_type": "execute_result"
    }
   ],
   "source": [
    "pd.Series(labels).value_counts()"
   ]
  },
  {
   "cell_type": "code",
   "execution_count": 73,
   "metadata": {},
   "outputs": [
    {
     "data": {
      "text/plain": [
       "(array([0.        , 0.98828125, 0.96052632, 0.95      , 0.7107438 ]),\n",
       " array([0.        , 0.6875    , 0.99319728, 0.97714286, 0.93140794]),\n",
       " array([0.        , 0.81089744, 0.97658863, 0.96338028, 0.80625   ]),\n",
       " array([  0, 368, 147, 175, 277]))"
      ]
     },
     "execution_count": 73,
     "metadata": {},
     "output_type": "execute_result"
    }
   ],
   "source": [
    "precision_recall_fscore_support(labels,res[:,0].tolist(),zero_division= 0)"
   ]
  },
  {
   "cell_type": "code",
   "execution_count": 18,
   "metadata": {},
   "outputs": [
    {
     "data": {
      "text/plain": [
       "0.3562971390047613"
      ]
     },
     "execution_count": 18,
     "metadata": {},
     "output_type": "execute_result"
    }
   ],
   "source": [
    "res = np.array(res)\n",
    "\n",
    "(res[:,0] == -1).sum()/ res.shape[0]"
   ]
  },
  {
   "cell_type": "code",
   "execution_count": 16,
   "metadata": {},
   "outputs": [
    {
     "ename": "NameError",
     "evalue": "name 'diff' is not defined",
     "output_type": "error",
     "traceback": [
      "\u001b[0;31m---------------------------------------------------------------------------\u001b[0m",
      "\u001b[0;31mNameError\u001b[0m                                 Traceback (most recent call last)",
      "Cell \u001b[0;32mIn[16], line 1\u001b[0m\n\u001b[0;32m----> 1\u001b[0m plt\u001b[38;5;241m.\u001b[39mplot(\u001b[43mdiff\u001b[49m[np\u001b[38;5;241m.\u001b[39mrandom\u001b[38;5;241m.\u001b[39mrandint(\u001b[38;5;28mlen\u001b[39m(diff))])\n",
      "\u001b[0;31mNameError\u001b[0m: name 'diff' is not defined"
     ]
    }
   ],
   "source": [
    "plt.plot(diff[np.random.randint(len(diff))])"
   ]
  },
  {
   "cell_type": "code",
   "execution_count": 48,
   "metadata": {},
   "outputs": [],
   "source": [
    "ood_preds = ddq_model.predictOnDataset(dataset= ood_dataset)\n",
    "\n",
    "ood_times = np.array(list(map(lambda x : x[1],ood_preds)))\n",
    "ood_preds = np.array(list(map(lambda x : x[0],ood_preds)))"
   ]
  },
  {
   "cell_type": "code",
   "execution_count": 50,
   "metadata": {},
   "outputs": [
    {
     "data": {
      "text/plain": [
       "count    17553.000000\n",
       "mean        19.254771\n",
       "std          8.714918\n",
       "min          6.000000\n",
       "25%         11.000000\n",
       "50%         20.000000\n",
       "75%         29.000000\n",
       "max         30.000000\n",
       "dtype: float64"
      ]
     },
     "execution_count": 50,
     "metadata": {},
     "output_type": "execute_result"
    }
   ],
   "source": [
    "pd.Series(ood_times).describe()"
   ]
  },
  {
   "cell_type": "code",
   "execution_count": 26,
   "metadata": {},
   "outputs": [
    {
     "data": {
      "text/plain": [
       "[<matplotlib.lines.Line2D at 0x7926037366e0>]"
      ]
     },
     "execution_count": 26,
     "metadata": {},
     "output_type": "execute_result"
    },
    {
     "data": {
      "image/png": "[encoded data removed]",
      "text/plain": [
       "<Figure size 640x480 with 1 Axes>"
      ]
     },
     "metadata": {},
     "output_type": "display_data"
    }
   ],
   "source": [
    "plt.plot(logger.getMetric(\"test_eval_f1\"))\n",
    "plt.plot(logger.getMetric(\"ood_eval\"))"
   ]
  },
  {
   "cell_type": "code",
   "execution_count": 14,
   "metadata": {},
   "outputs": [
    {
     "data": {
      "text/plain": [
       "[<matplotlib.lines.Line2D at 0x79c464344490>]"
      ]
     },
     "execution_count": 14,
     "metadata": {},
     "output_type": "execute_result"
    },
    {
     "data": {
      "image/png": "[encoded data removed]",
      "text/plain": [
       "<Figure size 640x480 with 1 Axes>"
      ]
     },
     "metadata": {},
     "output_type": "display_data"
    }
   ],
   "source": [
    "plt.plot(logger.getMetric(\"test_eval_time\"))"
   ]
  },
  {
   "cell_type": "code",
   "execution_count": 15,
   "metadata": {},
   "outputs": [
    {
     "name": "stdout",
     "output_type": "stream",
     "text": [
      " ---- 15 metric train_eval_f1 = 0.9988468193166163\n",
      " ---- 15 metric train_eval_time = 21.4554889298893\n"
     ]
    }
   ],
   "source": [
    "ddq_model.evalTrain()"
   ]
  },
  {
   "cell_type": "code",
   "execution_count": 16,
   "metadata": {},
   "outputs": [
    {
     "name": "stdout",
     "output_type": "stream",
     "text": [
      " ---- 30 metric test_eval_f1 = 0.9832999473590501\n",
      " ---- 30 metric test_eval_time = 21.248101265822786\n"
     ]
    }
   ],
   "source": [
    "ddq_model.evalTest()"
   ]
  },
  {
   "cell_type": "code",
   "execution_count": 78,
   "metadata": {},
   "outputs": [],
   "source": [
    "test_loader = DataLoader(dataset= test_dataset,batch_size= 64,shuffle= False)"
   ]
  },
  {
   "cell_type": "code",
   "execution_count": 79,
   "metadata": {},
   "outputs": [],
   "source": [
    "def getPrediction(preds,num_classes):\n",
    "    for p in preds:\n",
    "        if p < num_classes:\n",
    "            return p\n",
    "    return -1\n",
    "\n",
    "def getPredictionTail(preds,num_classes):\n",
    "    for p in reversed(preds):\n",
    "        if p < num_classes:\n",
    "            return p\n",
    "    return -1\n",
    "\n",
    "def predictionConsistency(pred : list,num_classes):\n",
    "    is_predicted = None\n",
    "    is_consistent = True\n",
    "    for i,p in enumerate(pred):\n",
    "        if p < num_classes:\n",
    "            if is_predicted == None:\n",
    "                is_predicted = (i+1,p)\n",
    "            elif is_predicted[1] == p:\n",
    "                continue\n",
    "            else:\n",
    "                is_consistent = False\n",
    "                break\n",
    "        \n",
    "    return is_consistent\n",
    "\n",
    "\n",
    "def strongPredictionConsistency(pred : list,num_classes):\n",
    "    is_predicted = None\n",
    "    is_consistent = True\n",
    "    for i,p in enumerate(pred):\n",
    "        if is_predicted == None:\n",
    "            if p < num_classes:\n",
    "                is_predicted = p\n",
    "        else:\n",
    "            if p != is_predicted:\n",
    "                is_consistent = False\n",
    "                break\n",
    "        \n",
    "    return is_consistent\n",
    "\n",
    "def awarenessCheck(batch_preds : list,labels : list):\n",
    "    is_aware = []\n",
    "    for i in range(len(batch_preds)):\n",
    "        if labels[i] in batch_preds[i]:\n",
    "            is_aware.append(True)\n",
    "        else:\n",
    "            is_aware.append(False)\n",
    "\n",
    "    return is_aware"
   ]
  },
  {
   "cell_type": "code",
   "execution_count": null,
   "metadata": {},
   "outputs": [],
   "source": [
    "preds = []\n",
    "tail_preds = []\n",
    "labels = []\n",
    "consistencies = []\n",
    "awareness = []\n",
    "original_preds = []\n",
    "\n",
    "for batch in test_loader:\n",
    "    batch_preds = ddq_model.predictStep(batch[\"flow\"].float()).numpy().tolist()\n",
    "    batch_labels = batch[\"label\"].numpy().tolist()\n",
    "    original_preds.extend(batch_preds)\n",
    "    preds.extend(list(map(lambda x : getPrediction(x,len(test_dataset.label_to_index)),batch_preds)))\n",
    "    tail_preds.extend(list(map(lambda x : getPredictionTail(x,len(test_dataset.label_to_index)),batch_preds)))\n",
    "    labels.extend(batch_labels)\n",
    "    awareness.extend(awarenessCheck(batch_preds= batch_preds,labels= batch_labels))\n",
    "\n",
    "    consistencies.extend(list(map(lambda x : strongPredictionConsistency(x,len(test_dataset.label_to_index)),batch_preds)))"
   ]
  },
  {
   "cell_type": "code",
   "execution_count": null,
   "metadata": {},
   "outputs": [],
   "source": [
    "preds = np.array(preds)\n",
    "tail_preds = np.array(tail_preds)\n",
    "labels = np.array(labels)\n",
    "consistencies = np.array(consistencies)\n",
    "awareness = np.array(awareness)"
   ]
  },
  {
   "cell_type": "code",
   "execution_count": null,
   "metadata": {},
   "outputs": [
    {
     "data": {
      "text/plain": [
       "array([0.98450057])"
      ]
     },
     "execution_count": 45,
     "metadata": {},
     "output_type": "execute_result"
    }
   ],
   "source": [
    "awareness.sum()/awareness.shape"
   ]
  },
  {
   "cell_type": "code",
   "execution_count": null,
   "metadata": {},
   "outputs": [
    {
     "data": {
      "text/plain": [
       "array([0.9750287])"
      ]
     },
     "execution_count": 46,
     "metadata": {},
     "output_type": "execute_result"
    }
   ],
   "source": [
    "(preds == labels).sum()/preds.shape"
   ]
  },
  {
   "cell_type": "code",
   "execution_count": null,
   "metadata": {},
   "outputs": [
    {
     "data": {
      "text/plain": [
       "array([0.8315155])"
      ]
     },
     "execution_count": 47,
     "metadata": {},
     "output_type": "execute_result"
    }
   ],
   "source": [
    "consistencies.sum()/consistencies.shape"
   ]
  },
  {
   "cell_type": "code",
   "execution_count": null,
   "metadata": {},
   "outputs": [
    {
     "data": {
      "text/plain": [
       "0.9080068143100511"
      ]
     },
     "execution_count": 48,
     "metadata": {},
     "output_type": "execute_result"
    }
   ],
   "source": [
    "((~consistencies) & (preds == labels)).sum()/(~consistencies).sum()"
   ]
  },
  {
   "cell_type": "code",
   "execution_count": null,
   "metadata": {},
   "outputs": [
    {
     "data": {
      "text/plain": [
       "0.367816091954023"
      ]
     },
     "execution_count": 49,
     "metadata": {},
     "output_type": "execute_result"
    }
   ],
   "source": [
    "((preds != labels) & (tail_preds == labels) & (~consistencies)).sum()/(preds != labels).sum()"
   ]
  },
  {
   "cell_type": "code",
   "execution_count": null,
   "metadata": {},
   "outputs": [
    {
     "name": "stdout",
     "output_type": "stream",
     "text": [
      "NOT PREDICTED 3\n",
      "NOT PREDICTED 3\n",
      "NOT PREDICTED 3\n",
      "incirrect (6, 0) 2\n",
      "NOT PREDICTED 3\n",
      "NOT PREDICTED 3\n",
      "NOT PREDICTED 3\n",
      "incirrect (9, 0) 1\n",
      "NOT PREDICTED 3\n",
      "(14, 0) (30, 1) 3\n",
      "incirrect (14, 0) 3\n",
      "NOT PREDICTED 3\n",
      "NOT PREDICTED 3\n",
      "(11, 1) (30, 0) 1\n",
      "NOT PREDICTED 3\n",
      "(8, 0) (23, 1) 1\n",
      "incirrect (8, 0) 1\n",
      "NOT PREDICTED 3\n",
      "NOT PREDICTED 3\n",
      "NOT PREDICTED 3\n",
      "NOT PREDICTED 3\n",
      "NOT PREDICTED 1\n",
      "NOT PREDICTED 3\n"
     ]
    }
   ],
   "source": [
    "for pred,label in zip(preds,labels):\n",
    "    predictionConsistency(pred,label,num_classes= len(test_dataset.label_to_index))"
   ]
  },
  {
   "cell_type": "code",
   "execution_count": null,
   "metadata": {},
   "outputs": [],
   "source": []
  }
 ],
 "metadata": {
  "kernelspec": {
   "display_name": "Python 3",
   "language": "python",
   "name": "python3"
  },
  "language_info": {
   "codemirror_mode": {
    "name": "ipython",
    "version": 3
   },
   "file_extension": ".py",
   "mimetype": "text/x-python",
   "name": "python",
   "nbconvert_exporter": "python",
   "pygments_lexer": "ipython3",
   "version": "3.10.12"
  }
 },
 "nbformat": 4,
 "nbformat_minor": 2
}
