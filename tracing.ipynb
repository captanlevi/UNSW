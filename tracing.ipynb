{
 "cells": [
  {
   "cell_type": "code",
   "execution_count": 2,
   "metadata": {},
   "outputs": [],
   "source": [
    "import torch\n",
    "import torchvision\n",
    "from tqdm import tqdm\n",
    "from typing import List, Dict\n",
    "import datetime\n",
    "import numpy as np\n",
    "import pandas as pd\n",
    "import matplotlib.pyplot as plt\n",
    "from flowprintOptimal.sekigo.core.flowRepresentation import FlowRepresentation,PacketFlowRepressentation,TimeslotRepresentation\n",
    "from flowprintOptimal.sekigo.dataAnalysis.vNATDataFrameProcessor import VNATDataFrameProcessor\n",
    "from flowprintOptimal.sekigo.core.flowConfig import FlowConfig\n",
    "import random\n",
    "from flowprintOptimal.sekigo.flowUtils.flowDatasets import PacketFlowDataset, BaseFlowDataset, DDQNActivityDataset\n",
    "from torch.utils.data import Dataset,DataLoader\n",
    "from torchsampler import ImbalancedDatasetSampler\n",
    "from sklearn.model_selection import train_test_split\n",
    "from flowprintOptimal.sekigo.flowUtils.commons import normalizePacketRep\n",
    "import os\n",
    "from joblib import Parallel, delayed\n",
    "from flowprintOptimal.sekigo.flowUtils.commons import saveFlows,loadFlows\n",
    "from flowprintOptimal.sekigo.dataAnalysis.dataFrameProcessor import UTMobileNetProcessor\n",
    "from flowprintOptimal.sekigo.flowUtils.dataGetterV2 import readTrainTestOODFlows\n",
    "from sklearn.metrics import confusion_matrix\n",
    "import json\n",
    "from flowprintOptimal.sekigo.modeling.trainers import NNClassificationTrainer\n",
    "from flowprintOptimal.sekigo.modeling.neuralNetworks import LSTMNetwork,TransformerGenerator,CNNNetwork1D, LSTMDuelingNetwork\n",
    "from flowprintOptimal.sekigo.modeling.loggers import Logger\n",
    "import torch\n",
    "device = torch.device(\"cuda\" if torch.cuda.is_available() else \"cpu\")\n",
    "#device = torch.device(\"cpu\")\n",
    "from flowprintOptimal.sekigo.earlyClassification.DQL.core import MemoryElement,Rewarder,State\n",
    "from flowprintOptimal.sekigo.earlyClassification.DQL.memoryFiller import MemoryFiller\n",
    "from flowprintOptimal.sekigo.earlyClassification.DQL.datasets import MemoryDataset\n",
    "from flowprintOptimal.sekigo.earlyClassification.DQL.trainers import EarlyClassificationtrainer\n",
    "from flowprintOptimal.sekigo.utils.documentor import Documenter\n",
    "from flowprintOptimal.sekigo.utils.evaluations import Evaluator,EarlyEvaluation\n",
    "import warnings\n",
    "from copy import deepcopy\n",
    "import torch.nn as nn\n",
    "\n",
    "\n",
    "\n",
    "warnings.filterwarnings('ignore')"
   ]
  },
  {
   "cell_type": "code",
   "execution_count": 4,
   "metadata": {},
   "outputs": [],
   "source": [
    "network = LSTMDuelingNetwork(lstm_hidden_size= 256,lstm_input_size= 10, layers= 2,output_dim= 7)"
   ]
  },
  {
   "cell_type": "code",
   "execution_count": 5,
   "metadata": {},
   "outputs": [],
   "source": [
    "example = torch.rand(1,20,10)"
   ]
  },
  {
   "cell_type": "code",
   "execution_count": 7,
   "metadata": {},
   "outputs": [],
   "source": [
    "traced_script_module = torch.jit.trace(network, example)"
   ]
  },
  {
   "cell_type": "code",
   "execution_count": 8,
   "metadata": {},
   "outputs": [
    {
     "data": {
      "text/plain": [
       "(tensor([[-0.1580, -0.1386, -0.0693, -0.0597, -0.1530, -0.0366, -0.0358]],\n",
       "        grad_fn=<AddBackward0>),\n",
       " tensor([[ 3.2210e-03,  6.2879e-02, -7.3430e-02,  3.1444e-02, -3.6714e-03,\n",
       "          -1.6759e-03, -5.1150e-03,  1.4612e-02, -5.3363e-02,  3.7192e-02,\n",
       "           2.4859e-02, -1.8466e-02,  5.1733e-02,  6.6292e-02,  3.5652e-02,\n",
       "           3.5038e-02,  4.2754e-02, -6.7033e-03, -3.3303e-02, -1.6958e-02,\n",
       "           5.1682e-03,  4.7919e-02,  1.5484e-03,  2.2460e-02, -4.1624e-02,\n",
       "          -2.1634e-02, -6.5866e-03,  4.9064e-03,  4.2124e-02, -6.1773e-02,\n",
       "          -1.7218e-02, -2.7405e-02, -1.7912e-02,  4.8908e-02,  1.1041e-02,\n",
       "          -2.1202e-03, -2.4233e-02, -2.9144e-02,  7.0681e-03, -2.7705e-02,\n",
       "           7.2039e-04, -1.6173e-02, -1.5015e-02,  5.5594e-02, -9.7403e-03,\n",
       "           2.5633e-02, -7.4461e-03,  4.1674e-02,  3.1076e-02,  2.1510e-02,\n",
       "          -2.4849e-02,  1.0311e-02,  4.9186e-04,  4.0195e-03, -5.2153e-02,\n",
       "           7.2342e-02, -4.5654e-02,  5.2210e-03, -7.3309e-03, -8.7033e-03,\n",
       "          -2.7984e-02,  2.4821e-02,  3.2337e-02,  5.0717e-02,  1.2502e-02,\n",
       "          -6.9336e-03, -2.7656e-02,  5.3509e-03,  6.0068e-03, -8.2394e-02,\n",
       "           3.3661e-02, -8.5954e-03,  2.6130e-03, -6.9286e-02,  1.4975e-02,\n",
       "           2.9572e-02,  3.1254e-02,  2.7309e-02,  4.6823e-02, -4.3108e-02,\n",
       "          -1.2296e-02, -1.2227e-02,  1.9205e-02, -4.1811e-02, -2.5878e-02,\n",
       "          -2.7056e-02, -8.6398e-03, -4.1986e-04,  3.8089e-03,  1.8022e-02,\n",
       "           2.7900e-02,  2.5980e-02,  1.9623e-02,  2.6752e-02,  2.0941e-02,\n",
       "           1.6653e-02,  4.0464e-02,  2.4559e-02, -2.6647e-02, -3.7176e-02,\n",
       "          -2.5505e-02,  1.5127e-02,  2.9282e-02, -1.1600e-02,  1.4599e-02,\n",
       "          -2.1333e-02, -1.8589e-03, -4.3865e-02, -1.8083e-02, -5.2449e-02,\n",
       "           6.2503e-03, -3.1295e-02, -2.8302e-02,  2.1551e-02,  1.4136e-02,\n",
       "           2.9845e-02,  2.2262e-02, -1.0479e-03, -7.1955e-02, -3.3660e-02,\n",
       "           2.0196e-02,  1.3988e-02,  2.3098e-02,  8.8334e-03, -2.0070e-02,\n",
       "          -1.7896e-02, -2.6205e-02, -4.2439e-02, -1.9419e-02, -2.9078e-02,\n",
       "           4.0137e-02, -6.0041e-04,  2.5857e-03, -1.0880e-02, -2.2208e-05,\n",
       "          -3.4794e-02,  2.4785e-02,  4.9757e-03,  1.1287e-02, -1.6008e-03,\n",
       "           2.4596e-02, -3.9137e-02, -3.1328e-02,  1.7226e-02,  5.8924e-02,\n",
       "           2.6987e-02,  2.8671e-02, -4.1317e-03, -4.7834e-02,  2.9923e-02,\n",
       "           4.6424e-02,  7.7466e-04,  1.2654e-02, -1.6130e-02, -5.3306e-04,\n",
       "          -1.5731e-02, -8.3389e-03, -2.3904e-02,  3.9219e-02, -2.1443e-02,\n",
       "          -3.0124e-02, -5.9010e-02, -1.5206e-02, -1.3023e-03,  4.7500e-03,\n",
       "          -3.0037e-02, -4.4726e-02, -1.5673e-02,  7.9507e-03,  3.0915e-02,\n",
       "           1.0560e-02, -1.1922e-02,  3.5209e-02, -7.0905e-03, -8.0983e-02,\n",
       "           1.6457e-03,  2.4962e-03,  9.8774e-03, -4.0551e-02, -7.8577e-03,\n",
       "           1.9919e-02,  6.6941e-03, -2.5034e-02,  3.5890e-02,  1.8323e-02,\n",
       "          -7.1007e-03,  9.6766e-03,  1.9489e-02,  4.1550e-02,  6.4752e-03,\n",
       "           8.9341e-03, -6.2572e-02,  2.4571e-02, -1.4809e-02, -7.4547e-02,\n",
       "           3.3478e-02,  3.1179e-02,  2.0471e-02, -7.0060e-02, -2.2682e-02,\n",
       "          -8.1262e-03,  4.7634e-02,  1.2488e-02, -5.0256e-02,  3.2480e-02,\n",
       "          -2.5670e-02,  3.5311e-02,  5.1848e-02,  2.0795e-02,  1.1604e-02,\n",
       "           1.2624e-02,  1.5976e-02, -2.0969e-02, -5.9359e-03,  3.3833e-02,\n",
       "           3.8773e-02,  1.1445e-02, -3.3881e-03, -2.5956e-02, -3.6866e-02,\n",
       "          -2.8734e-03,  2.9818e-02,  7.6172e-03, -2.5100e-02, -3.5397e-02,\n",
       "           2.6318e-02, -2.1626e-02,  3.1870e-02,  4.6663e-02,  1.6328e-03,\n",
       "           1.4792e-02,  4.8450e-02,  7.1659e-02, -1.0784e-02, -3.8304e-02,\n",
       "           3.8530e-02,  1.6986e-02,  8.1965e-03, -4.0810e-02, -1.9232e-03,\n",
       "           1.7206e-02, -1.5422e-02, -7.7294e-02,  2.5237e-02, -2.7447e-02,\n",
       "          -3.5550e-02,  1.4536e-02, -4.7889e-03,  1.1065e-02, -3.7740e-02,\n",
       "           4.5950e-02,  7.5026e-03,  5.9341e-02,  2.0874e-03, -1.6799e-02,\n",
       "           1.4182e-02]], grad_fn=<SliceBackward0>))"
      ]
     },
     "execution_count": 8,
     "metadata": {},
     "output_type": "execute_result"
    }
   ],
   "source": [
    "traced_script_module(example)"
   ]
  },
  {
   "cell_type": "code",
   "execution_count": 9,
   "metadata": {},
   "outputs": [],
   "source": [
    "traced_script_module.save(\"models/traced_model.pt\")"
   ]
  },
  {
   "cell_type": "code",
   "execution_count": null,
   "metadata": {},
   "outputs": [],
   "source": []
  }
 ],
 "metadata": {
  "kernelspec": {
   "display_name": "Python 3",
   "language": "python",
   "name": "python3"
  },
  "language_info": {
   "codemirror_mode": {
    "name": "ipython",
    "version": 3
   },
   "file_extension": ".py",
   "mimetype": "text/x-python",
   "name": "python",
   "nbconvert_exporter": "python",
   "pygments_lexer": "ipython3",
   "version": "3.10.12"
  }
 },
 "nbformat": 4,
 "nbformat_minor": 2
}
