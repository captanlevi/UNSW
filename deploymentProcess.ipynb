{
 "cells": [
  {
   "cell_type": "code",
   "execution_count": 23,
   "metadata": {},
   "outputs": [],
   "source": [
    "import pandas as pd\n",
    "import numpy as np\n",
    "from flowprintOptimal.sekigo.core.flowRepresentation import PacketFlowRepressentation\n",
    "from flowprintOptimal.sekigo.flowUtils.commons import getIATFromTimeStamps\n",
    "from flowprintOptimal.sekigo.flowUtils.commons import saveFlows\n",
    "import datetime"
   ]
  },
  {
   "cell_type": "code",
   "execution_count": 43,
   "metadata": {},
   "outputs": [],
   "source": [
    "\n",
    "class DeploymentProcessor:\n",
    "    def __init__(self,csv_path, filter_out_classes = [\"Music\"]):\n",
    "        self.df = pd.read_csv(csv_path)\n",
    "        self.df.Timestamp = pd.to_datetime(self.df.Timestamp)\n",
    "        self.filter_out_classes = filter_out_classes\n",
    "\n",
    "\n",
    "\n",
    "    \n",
    "\n",
    "    @staticmethod\n",
    "    def processLength(length : float):\n",
    "        if length <= 1500:\n",
    "            return -2 + length/1500\n",
    "        \n",
    "        val =  -1 + np.log10(length - 1500)\n",
    "        if val > 3:\n",
    "            return 3\n",
    "        return val\n",
    "        \n",
    "    \n",
    "    def getPacketRepsFromDf(self,df):\n",
    "        packet_reps = []\n",
    "\n",
    "        for _,mini_df in df.groupby(by = \"FlowId\"):\n",
    "            mini_df.sort_values(by= \"Timestamp\", inplace= True)\n",
    "            IAT = getIATFromTimeStamps(timestamps= mini_df.Timestamp.values)\n",
    "            directions = mini_df.Direction.values.astype(np.int8).tolist()\n",
    "            lengths = mini_df.Length.apply(DeploymentProcessor.processLength).values.tolist()\n",
    "            class_type = mini_df.iloc[0].Type\n",
    "\n",
    "            if class_type in self.filter_out_classes:\n",
    "                continue\n",
    "\n",
    "            packet_rep = PacketFlowRepressentation(lengths= lengths, directions= directions, inter_arrival_times= IAT,class_type= class_type)\n",
    "            packet_reps.append(packet_rep)\n",
    "        \n",
    "        return packet_reps\n",
    "\n",
    "\n",
    "    def getPacketReps(self):\n",
    "        return self.getPacketRepsFromDf(df = self.df)\n"
   ]
  },
  {
   "cell_type": "code",
   "execution_count": 44,
   "metadata": {},
   "outputs": [],
   "source": [
    "deployment_processor = DeploymentProcessor(csv_path= \"data/deployment/truncated_final.csv\")"
   ]
  },
  {
   "cell_type": "code",
   "execution_count": 45,
   "metadata": {},
   "outputs": [],
   "source": [
    "packet_reps = deployment_processor.getPacketReps()"
   ]
  },
  {
   "cell_type": "code",
   "execution_count": 46,
   "metadata": {},
   "outputs": [],
   "source": [
    "for packet_rep in packet_reps:\n",
    "    if pd.Series(packet_rep.inter_arrival_times).isna().sum() > 0:\n",
    "        print(packet_rep)"
   ]
  },
  {
   "cell_type": "code",
   "execution_count": 47,
   "metadata": {},
   "outputs": [],
   "source": [
    "saveFlows(path= \"data/deployment/deployment_packet_rep.json\", flows= packet_reps)"
   ]
  },
  {
   "cell_type": "code",
   "execution_count": null,
   "metadata": {},
   "outputs": [],
   "source": []
  },
  {
   "cell_type": "code",
   "execution_count": null,
   "metadata": {},
   "outputs": [],
   "source": []
  }
 ],
 "metadata": {
  "kernelspec": {
   "display_name": "Python 3",
   "language": "python",
   "name": "python3"
  },
  "language_info": {
   "codemirror_mode": {
    "name": "ipython",
    "version": 3
   },
   "file_extension": ".py",
   "mimetype": "text/x-python",
   "name": "python",
   "nbconvert_exporter": "python",
   "pygments_lexer": "ipython3",
   "version": "3.11.7"
  }
 },
 "nbformat": 4,
 "nbformat_minor": 2
}
