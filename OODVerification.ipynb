{
 "cells": [
  {
   "cell_type": "code",
   "execution_count": 1,
   "metadata": {},
   "outputs": [],
   "source": [
    "import torch\n",
    "from torchvision import datasets, transforms\n",
    "from torch.utils.data import DataLoader,Dataset\n",
    "from flowprintOptimal.sekigo.modeling.neuralNetworks import TransformerGenerator,CNNNetwork2D,Predictor\n",
    "from flowprintOptimal.sekigo.ood.GAN.trainers import GANTrainer,OODTrainer\n",
    "import matplotlib.pyplot as plt\n",
    "import numpy as np\n",
    "device = torch.device(\"cuda\" if torch.cuda.is_available() else \"cpu\")\n",
    "from flowprintOptimal.sekigo.utils.commons import augmentData\n",
    "from flowprintOptimal.sekigo.modeling.trainers import NNClassificationTrainer\n",
    "import torch.nn as nn\n",
    "import torch.nn.functional as F\n",
    "from flowprintOptimal.sekigo.modeling.loggers import Logger\n",
    "from flowprintOptimal.sekigo.modeling.neuralNetworks import NeuralNetwork\n",
    "import pandas as pd"
   ]
  },
  {
   "cell_type": "code",
   "execution_count": 2,
   "metadata": {},
   "outputs": [],
   "source": [
    "class MNISTDataset(Dataset):\n",
    "    def __init__(self, root, label_to_index = None,train=True, ood=False, transform=None, download=True):\n",
    "        self.train = train\n",
    "        self.ood = ood\n",
    "        self.label_to_index = label_to_index\n",
    "        if self.ood:\n",
    "            self.mnist_data = datasets.MNIST(root=root, train=train, transform=transform, download=download)\n",
    "            self.filter_digits([6, 7, 8, 9])  # Filter out digits 6 to 9 for OOD dataset\n",
    "            self.label_to_index = {6:0,7:1,8:2,9:3}\n",
    "        else:\n",
    "            self.mnist_data = datasets.MNIST(root=root, train=train, transform=transform, download=download)\n",
    "            self.filter_digits([0,1,2,3,4,5])\n",
    "            self.label_to_index = {0:0,1:1,2:2,3:3,4:4,5:5}\n",
    "           \n",
    "\n",
    "    def __len__(self):\n",
    "        return len(self.mnist_data)\n",
    "\n",
    "    def __getitem__(self, idx):\n",
    "        data_point = self.mnist_data[idx]\n",
    "        #torch.clamp(data_point[0],min= 0,max= 1)\n",
    "        return dict(data = data_point[0], label = self.label_to_index[data_point[1]])\n",
    "\n",
    "    def filter_digits(self, digits):\n",
    "        filtered_indices = [i for i, (_, label) in enumerate(self.mnist_data) if label in digits]\n",
    "        self.mnist_data = torch.utils.data.Subset(self.mnist_data, filtered_indices)\n",
    "\n",
    "# Define transformations for data augmentation and normalization\n",
    "transform = transforms.Compose([\n",
    "    transforms.RandomRotation(10),\n",
    "    transforms.RandomAffine(0, translate=(0.1, 0.1)),\n",
    "    transforms.ToTensor(),\n",
    "])\n",
    "\n",
    "transform_non_train = transforms.Compose([\n",
    "    transforms.ToTensor(),\n",
    "])\n",
    "\n",
    "# Create custom MNIST datasets\n",
    "train_dataset = MNISTDataset(root='./data', train=True, transform=transform)\n",
    "test_dataset = MNISTDataset(root='./data', train=False, ood=False, transform=transform_non_train)\n",
    "ood_dataset = MNISTDataset(root='./data', train=True, ood=True, transform= transform_non_train)\n",
    "\n",
    "\n"
   ]
  },
  {
   "cell_type": "code",
   "execution_count": 3,
   "metadata": {},
   "outputs": [],
   "source": [
    "discriminator = CNNNetwork2D(in_channels= 1,num_filters= 32,kernel_sizes= [5,9,13],output_dim= 1)\n",
    "generator = TransformerGenerator(output_dim= 16,random_dim= 4,seq_len= 49,embedding_dim= 64,num_heads= 4,num_layers= 5,is_img= True,device= device)\n",
    "classifier = CNNNetwork2D(in_channels= 1,num_filters= 8,kernel_sizes= [5,9,11],output_dim= len(train_dataset.label_to_index) + 1)\n",
    "logger = Logger(name= \"OOD_GAN\")\n",
    "logger.default_step_size = 200"
   ]
  },
  {
   "cell_type": "code",
   "execution_count": 4,
   "metadata": {},
   "outputs": [],
   "source": [
    "#trainer = GANTrainer(generator= generator,discriminator= discriminator,logger= logger,device= device)\n",
    "trainer = OODTrainer(classifier= classifier,generator=generator,\n",
    "                     discriminator= discriminator,logger= logger,device= device,n= 2,classifier_only= False)"
   ]
  },
  {
   "cell_type": "code",
   "execution_count": 5,
   "metadata": {},
   "outputs": [
    {
     "name": "stdout",
     "output_type": "stream",
     "text": [
      "OOD_GAN ---- 200 metric classifier_loss = 2.0444187831878664\n",
      "OOD_GAN ---- 200 metric classifier_aug_loss = 0.7131825494673103\n",
      "OOD_GAN ---- 200 metric 0_discriminator_loss = -19.528481563031672\n",
      "OOD_GAN ---- 200 metric 0_cost_wd = -32.252374032586815\n",
      "OOD_GAN ---- 200 metric 0_gp_loss = 12.723892482817172\n",
      "OOD_GAN ---- 200 metric 1_discriminator_loss = -10.212002573013306\n",
      "OOD_GAN ---- 200 metric 1_cost_wd = -16.695071825683115\n",
      "OOD_GAN ---- 200 metric 1_gp_loss = 6.483069259226323\n",
      "OOD_GAN ---- 400 metric classifier_loss = 1.2808520263433456\n",
      "OOD_GAN ---- 400 metric classifier_aug_loss = 0.13789479712431785\n",
      "OOD_GAN ---- 400 metric 0_discriminator_loss = -13.93965654373169\n",
      "OOD_GAN ---- 400 metric 0_cost_wd = -21.58224826812744\n",
      "OOD_GAN ---- 400 metric 0_gp_loss = 7.642591705322266\n",
      "OOD_GAN ---- 400 metric 1_discriminator_loss = -6.954556496143341\n",
      "OOD_GAN ---- 400 metric 1_cost_wd = -10.18110936164856\n",
      "OOD_GAN ---- 400 metric 1_gp_loss = 3.226552874445915\n"
     ]
    }
   ],
   "source": [
    "trainer.train(train_dataset= train_dataset,batch_size= 128,n_critic= 3,epochs= 20,ood_dataset=ood_dataset,test_dataset=test_dataset,\n",
    "              gp_weight= 1,lr_discriminator= .0001, lr_generator= .0001)"
   ]
  },
  {
   "cell_type": "code",
   "execution_count": null,
   "metadata": {},
   "outputs": [],
   "source": [
    "generator = trainer.generator.eval()"
   ]
  },
  {
   "cell_type": "code",
   "execution_count": null,
   "metadata": {},
   "outputs": [
    {
     "data": {
      "image/png": "[encoded data removed]",
      "text/plain": [
       "<Figure size 640x480 with 1 Axes>"
      ]
     },
     "metadata": {},
     "output_type": "display_data"
    }
   ],
   "source": [
    "with torch.no_grad():\n",
    "    z = generator.generateRandomZ(batch_size= 1).to(device)\n",
    "    out = generator(z)\n",
    "    out = out.cpu().numpy()[0][0]\n",
    "    plt.imshow(out)"
   ]
  },
  {
   "cell_type": "code",
   "execution_count": null,
   "metadata": {},
   "outputs": [],
   "source": []
  }
 ],
 "metadata": {
  "kernelspec": {
   "display_name": "Python 3",
   "language": "python",
   "name": "python3"
  },
  "language_info": {
   "codemirror_mode": {
    "name": "ipython",
    "version": 3
   },
   "file_extension": ".py",
   "mimetype": "text/x-python",
   "name": "python",
   "nbconvert_exporter": "python",
   "pygments_lexer": "ipython3",
   "version": "3.11.9"
  }
 },
 "nbformat": 4,
 "nbformat_minor": 2
}
