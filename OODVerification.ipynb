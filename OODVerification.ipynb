{
 "cells": [
  {
   "cell_type": "code",
   "execution_count": 1,
   "metadata": {},
   "outputs": [],
   "source": [
    "import torch\n",
    "from torchvision import datasets, transforms\n",
    "from torch.utils.data import DataLoader,Dataset\n",
    "from flowprintOptimal.sekigo.modeling.neuralNetworks import TransformerGenerator,CNNNetwork2D,Predictor,CNNGenerator\n",
    "from flowprintOptimal.sekigo.ood.GAN.trainers import GANTrainer,OODTrainer\n",
    "import matplotlib.pyplot as plt\n",
    "import numpy as np\n",
    "device = torch.device(\"cuda\" if torch.cuda.is_available() else \"cpu\")\n",
    "from flowprintOptimal.sekigo.utils.commons import augmentData\n",
    "from flowprintOptimal.sekigo.modeling.trainers import NNClassificationTrainer\n",
    "import torch.nn as nn\n",
    "import torch.nn.functional as F\n",
    "from flowprintOptimal.sekigo.modeling.loggers import Logger\n",
    "from flowprintOptimal.sekigo.modeling.neuralNetworks import NeuralNetwork\n",
    "import pandas as pd\n",
    "torch.set_float32_matmul_precision('high')\n",
    "from tqdm import tqdm"
   ]
  },
  {
   "cell_type": "code",
   "execution_count": null,
   "metadata": {},
   "outputs": [],
   "source": []
  },
  {
   "cell_type": "code",
   "execution_count": 2,
   "metadata": {},
   "outputs": [],
   "source": [
    "class MNISTDataset(Dataset):\n",
    "    def __init__(self, root, label_to_index = None,train=True, ood=False, transform=None, download=True):\n",
    "        self.train = train\n",
    "        self.ood = ood\n",
    "        self.label_to_index = label_to_index\n",
    "        if self.ood:\n",
    "            self.mnist_data = datasets.MNIST(root=root, train=train, transform=transform, download=download)\n",
    "            self.filter_digits([6, 7, 8, 9])  # Filter out digits 6 to 9 for OOD dataset\n",
    "            self.label_to_index = {6:0,7:1,8:2,9:3}\n",
    "        else:\n",
    "            self.mnist_data = datasets.MNIST(root=root, train=train, transform=transform, download=download)\n",
    "            self.filter_digits([0,1,2,3,4,5])\n",
    "            self.label_to_index = {0:0,1:1,2:2,3:3,4:4,5:5}\n",
    "           \n",
    "\n",
    "    def __len__(self):\n",
    "        return len(self.mnist_data)\n",
    "\n",
    "    def __getitem__(self, idx):\n",
    "        data_point = self.mnist_data[idx]\n",
    "        #torch.clamp(data_point[0],min= 0,max= 1)\n",
    "        return dict(data = data_point[0], label = self.label_to_index[data_point[1]])\n",
    "\n",
    "    def filter_digits(self, digits):\n",
    "        filtered_indices = [i for i, (_, label) in enumerate(self.mnist_data) if label in digits]\n",
    "        self.mnist_data = torch.utils.data.Subset(self.mnist_data, filtered_indices)\n",
    "\n",
    "# Define transformations for data augmentation and normalization\n",
    "transform = transforms.Compose([\n",
    "    transforms.RandomRotation(10),\n",
    "    transforms.RandomAffine(0, translate=(0.1, 0.1)),\n",
    "    transforms.ToTensor(),\n",
    "])\n",
    "\n",
    "transform_non_train = transforms.Compose([\n",
    "    transforms.ToTensor(),\n",
    "])\n",
    "\n",
    "# Create custom MNIST datasets\n",
    "train_dataset = MNISTDataset(root='./data', train=True, transform=transform)\n",
    "test_dataset = MNISTDataset(root='./data', train=False, ood=False, transform=transform_non_train)\n",
    "ood_dataset = MNISTDataset(root='./data', train=True, ood=True, transform= transform_non_train)\n",
    "\n",
    "\n"
   ]
  },
  {
   "cell_type": "code",
   "execution_count": 3,
   "metadata": {},
   "outputs": [],
   "source": [
    "seq_len = 49\n",
    "random_dim = 8\n",
    "\n",
    "discriminator = CNNNetwork2D(in_channels= 1,num_filters= 32,num_layers= 4,output_dim= 1)\n",
    "generator = TransformerGenerator(output_dim= 16,random_dim= random_dim,embedding_dim= 64,num_heads= 4,num_layers= 5)\n",
    "#generator = CNNGenerator(random_dim= random_dim)\n",
    "classifier = CNNNetwork2D(in_channels= 1,num_filters= 16,num_layers= 3,output_dim= len(train_dataset.label_to_index) + 1)\n",
    "logger = Logger(name= \"GAN\")\n",
    "logger.default_step_size = 200"
   ]
  },
  {
   "cell_type": "code",
   "execution_count": 4,
   "metadata": {},
   "outputs": [],
   "source": [
    "trainer = GANTrainer(generator= generator,discriminator= discriminator,logger= logger,is_img= True,random_dim= random_dim,seq_len= seq_len,compile= True,device= device)\n"
   ]
  },
  {
   "cell_type": "code",
   "execution_count": 5,
   "metadata": {},
   "outputs": [
    {
     "name": "stdout",
     "output_type": "stream",
     "text": [
      "GAN ---- 200 metric 0_discriminator_loss = -10.120755088254809\n",
      "GAN ---- 200 metric 0_cost_wd = -14.676165439262986\n",
      "GAN ---- 200 metric 0_gp_loss = 4.555410350770689\n",
      "GAN ---- 200 metric generator_loss = 1.9082263497728855\n",
      "GAN ---- 400 metric 0_discriminator_loss = -15.892380213737487\n",
      "GAN ---- 400 metric 0_cost_wd = -24.503121614456177\n",
      "GAN ---- 400 metric 0_gp_loss = 8.610741403102875\n",
      "GAN ---- 400 metric generator_loss = 10.27898690223694\n",
      "GAN ---- 600 metric 0_discriminator_loss = -28.079017877578735\n",
      "GAN ---- 600 metric 0_cost_wd = -40.3094278717041\n",
      "GAN ---- 600 metric 0_gp_loss = 12.23041000843048\n",
      "GAN ---- 600 metric generator_loss = 21.759331045150756\n",
      "GAN ---- 800 metric 0_discriminator_loss = -56.634099369049075\n",
      "GAN ---- 800 metric 0_cost_wd = -77.54233100891113\n",
      "GAN ---- 800 metric 0_gp_loss = 20.908231601715087\n",
      "GAN ---- 800 metric generator_loss = 33.9255825138092\n",
      "GAN ---- 1000 metric 0_discriminator_loss = -90.00973173141479\n",
      "GAN ---- 1000 metric 0_cost_wd = -127.28218856811523\n",
      "GAN ---- 1000 metric 0_gp_loss = 37.27245669841766\n",
      "GAN ---- 1000 metric generator_loss = 47.6080033493042\n",
      "GAN ---- 1200 metric 0_discriminator_loss = -137.19642112731933\n",
      "GAN ---- 1200 metric 0_cost_wd = -190.56551193237306\n",
      "GAN ---- 1200 metric 0_gp_loss = 53.36909087181091\n",
      "GAN ---- 1200 metric generator_loss = 63.27979776382446\n",
      "GAN ---- 1400 metric 0_discriminator_loss = -225.0346572113037\n",
      "GAN ---- 1400 metric 0_cost_wd = -286.61616622924805\n",
      "GAN ---- 1400 metric 0_gp_loss = 61.58150866508484\n",
      "GAN ---- 1400 metric generator_loss = 86.60898881912232\n",
      "tensor([[-133.3975]], device='cuda:0')\n"
     ]
    },
    {
     "data": {
      "image/png": "[encoded data removed]",
      "text/plain": [
       "<Figure size 640x480 with 1 Axes>"
      ]
     },
     "metadata": {},
     "output_type": "display_data"
    },
    {
     "name": "stdout",
     "output_type": "stream",
     "text": [
      "GAN ---- 1600 metric 0_discriminator_loss = -347.4691126251221\n",
      "GAN ---- 1600 metric 0_cost_wd = -422.80424865722654\n",
      "GAN ---- 1600 metric 0_gp_loss = 75.3351358795166\n",
      "GAN ---- 1600 metric generator_loss = 119.04874908447266\n"
     ]
    }
   ],
   "source": [
    "trainer.train(train_dataset= train_dataset,batch_size= 128,n_critic= 1,gp_weight= 1,lr_discriminator= .00001,lr_generator= .00001,epochs= 50)"
   ]
  },
  {
   "cell_type": "code",
   "execution_count": 4,
   "metadata": {},
   "outputs": [],
   "source": [
    "#trainer = GANTrainer(generator= generator,discriminator= discriminator,logger= logger,device= device)\n",
    "trainer = OODTrainer(classifier= classifier,generator=generator,random_dim = random_dim,seq_len = seq_len,is_img= True,compile= True,\n",
    "                     discriminator= discriminator,logger= logger,device= device,n= 1,classifier_only= False)"
   ]
  },
  {
   "cell_type": "code",
   "execution_count": null,
   "metadata": {},
   "outputs": [],
   "source": [
    "trainer.train(train_dataset= train_dataset,batch_size= 128,n_critic= 3,epochs= 500,ood_dataset=ood_dataset,test_dataset=test_dataset,\n",
    "              gp_weight= 1,lr_discriminator= .0001, lr_generator= .0001,lr_classifier= .0001)"
   ]
  },
  {
   "cell_type": "code",
   "execution_count": 16,
   "metadata": {},
   "outputs": [],
   "source": [
    "generator = trainer.generator"
   ]
  },
  {
   "cell_type": "code",
   "execution_count": 22,
   "metadata": {},
   "outputs": [
    {
     "data": {
      "image/png": "[encoded data removed]",
      "text/plain": [
       "<Figure size 640x480 with 1 Axes>"
      ]
     },
     "metadata": {},
     "output_type": "display_data"
    }
   ],
   "source": [
    "with torch.no_grad():\n",
    "    z = trainer.generateRandomZ(1)\n",
    "    out = generator(z)\n",
    "    out = trainer.processgeneratorOutput(out)\n",
    "    plot_out = out.cpu().numpy()[0][0]\n",
    "    plt.imshow(plot_out)"
   ]
  },
  {
   "cell_type": "code",
   "execution_count": 67,
   "metadata": {},
   "outputs": [
    {
     "data": {
      "text/plain": [
       "<matplotlib.image.AxesImage at 0x72a997ac1480>"
      ]
     },
     "execution_count": 67,
     "metadata": {},
     "output_type": "execute_result"
    },
    {
     "data": {
      "image/png": "[encoded data removed]",
      "text/plain": [
       "<Figure size 640x480 with 1 Axes>"
      ]
     },
     "metadata": {},
     "output_type": "display_data"
    }
   ],
   "source": [
    "plt.imshow(ood_dataset[12][\"data\"][0])"
   ]
  },
  {
   "cell_type": "code",
   "execution_count": 50,
   "metadata": {},
   "outputs": [
    {
     "data": {
      "text/plain": [
       "5"
      ]
     },
     "execution_count": 50,
     "metadata": {},
     "output_type": "execute_result"
    }
   ],
   "source": [
    "train_dataset[0][\"label\"]"
   ]
  },
  {
   "cell_type": "code",
   "execution_count": 48,
   "metadata": {},
   "outputs": [
    {
     "data": {
      "text/plain": [
       "tensor([[-4.9353, -4.2637, -4.3665, -4.3557,  0.1273, -5.9474, -1.1202]],\n",
       "       device='cuda:0', grad_fn=<AddmmBackward0>)"
      ]
     },
     "execution_count": 48,
     "metadata": {},
     "output_type": "execute_result"
    }
   ],
   "source": [
    "trainer.classifier(ood_dataset[0][\"data\"].unsqueeze(0).to(device))"
   ]
  },
  {
   "cell_type": "code",
   "execution_count": null,
   "metadata": {},
   "outputs": [],
   "source": []
  }
 ],
 "metadata": {
  "kernelspec": {
   "display_name": "Python 3",
   "language": "python",
   "name": "python3"
  },
  "language_info": {
   "codemirror_mode": {
    "name": "ipython",
    "version": 3
   },
   "file_extension": ".py",
   "mimetype": "text/x-python",
   "name": "python",
   "nbconvert_exporter": "python",
   "pygments_lexer": "ipython3",
   "version": "3.10.12"
  }
 },
 "nbformat": 4,
 "nbformat_minor": 2
}
