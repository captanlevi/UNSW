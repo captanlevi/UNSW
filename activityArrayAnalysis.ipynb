{
 "cells": [
  {
   "cell_type": "code",
   "execution_count": 19,
   "metadata": {},
   "outputs": [],
   "source": [
    "import numpy as np\n",
    "import pandas as pd\n",
    "import torch\n",
    "import torch.nn as nn\n",
    "from flowprintOptimal.sekigo.core.flowConfig import FlowConfig\n",
    "device = torch.device(\"cuda\" if torch.cuda.is_available() else \"cpu\")\n",
    "from flowprintOptimal.sekigo.flowUtils.commons import loadFlows, saveFlows\n",
    "from flowprintOptimal.sekigo.flowUtils.sampler import FixedLengthSampler\n",
    "from flowprintOptimal.sekigo.core.flowRepresentation import FlowRepresentation\n",
    "from typing import List\n",
    "from flowprintOptimal.sekigo.flowUtils.flowDatasets import ActivityDataset\n",
    "from torch.utils.data import DataLoader\n",
    "from flowprintOptimal.sekigo.dataAnalysis.vNATDataFramePeocessor import VNATDataFrameProcessor\n",
    "from flowprintOptimal.sekigo.flowUtils.commons import getValidInvalidStartingPointsForSubFlowStart\n",
    "from torch.utils.data import DataLoader\n",
    "import math\n",
    "import random\n",
    "from sklearn.metrics import precision_recall_fscore_support\n",
    "from sklearn.metrics import f1_score\n",
    "from sklearn.metrics import confusion_matrix,  ConfusionMatrixDisplay\n",
    "from sklearn.ensemble import RandomForestClassifier\n",
    "from tqdm import tqdm\n",
    "from copy import deepcopy\n",
    "import matplotlib.pyplot as plt\n",
    "from joblib import delayed, Parallel\n",
    "from flowprintOptimal.sekigo.flowUtils.commons import getActivityArrayFromFlow"
   ]
  },
  {
   "cell_type": "code",
   "execution_count": 2,
   "metadata": {},
   "outputs": [],
   "source": [
    "flows = loadFlows(path= \"/Users/rushi/Desktop/UNSW/data/VNAT/flowStore/vnatflows1second.json\")"
   ]
  },
  {
   "cell_type": "code",
   "execution_count": 3,
   "metadata": {},
   "outputs": [],
   "source": [
    "flows = VNATDataFrameProcessor.convertLabelsToTopLevel(flows)"
   ]
  },
  {
   "cell_type": "code",
   "execution_count": 4,
   "metadata": {},
   "outputs": [
    {
     "name": "stdout",
     "output_type": "stream",
     "text": [
      "{'streaming': 0.8293369899566394, 'FT': 1, 'chat': 0.054383513372297895, 'control': 0.6200437782272589}\n",
      "overlapping points = 0\n"
     ]
    }
   ],
   "source": [
    "split_flows = FixedLengthSampler.sampleAndCutToLength(data= flows,flow_config= flows[0].flow_config,required_length_in_seconds= 30,ratio_of_median_to_sample= .1, min_activity_for_start_point= 30, temporal_train_ratio= 1, sample_wise_train_ratio= .8)"
   ]
  },
  {
   "cell_type": "code",
   "execution_count": 5,
   "metadata": {},
   "outputs": [],
   "source": [
    "train_flows = split_flows[\"train_flows\"]\n",
    "test_flows = split_flows[\"test_flows\"]\n",
    "activity_dataset_train = ActivityDataset(flows= train_flows)\n",
    "activity_dataset_test = ActivityDataset(flows= test_flows)"
   ]
  },
  {
   "cell_type": "code",
   "execution_count": 6,
   "metadata": {},
   "outputs": [],
   "source": [
    "flow = train_flows[0]"
   ]
  },
  {
   "cell_type": "code",
   "execution_count": 27,
   "metadata": {},
   "outputs": [],
   "source": [
    "def maxNormalizeFlow(flow : FlowRepresentation):\n",
    "\n",
    "    def normalizeArrayByBand(array : np.ndarray):\n",
    "        # array is of shape (bands,timesteps), we divide timestamps by the max in each slot\n",
    "        maxes = array.max(axis= -1,keepdims= True)\n",
    "        array = array/maxes\n",
    "        return array\n",
    "    \n",
    "    \n",
    "    feature_array = np.concatenate((flow.up_packets,flow.down_packets,flow.up_bytes,flow.down_bytes),axis= 0)\n",
    "    feature_array = normalizeArrayByBand(feature_array).T\n",
    "    normalized_packetlengths = getActivityArrayFromFlow(flow= flow)\n",
    "    feature_array = np.concatenate((feature_array,normalized_packetlengths), axis= 1)\n",
    "    return feature_array\n",
    "        "
   ]
  },
  {
   "cell_type": "code",
   "execution_count": 11,
   "metadata": {},
   "outputs": [
    {
     "data": {
      "text/plain": [
       "(array([[0.00332226, 0.0166113 , 0.        , 0.00664452, 0.33554817,\n",
       "         0.30564784, 0.        , 0.        , 0.61461794, 0.01827243,\n",
       "         0.00332226, 0.00332226, 0.        , 0.        , 0.        ,\n",
       "         0.00996678, 0.        , 1.        , 0.        , 0.00830565,\n",
       "         0.00664452, 0.00664452, 0.00332226, 0.00664452, 0.        ,\n",
       "         0.00166113, 0.        , 0.00166113, 0.27740864, 0.        ],\n",
       "        [0.        , 0.00166113, 0.        , 0.        , 0.00996678,\n",
       "         0.        , 0.        , 0.        , 0.00332226, 0.00166113,\n",
       "         0.        , 0.        , 0.        , 0.        , 0.        ,\n",
       "         0.00498339, 0.        , 0.00332226, 0.        , 0.        ,\n",
       "         0.        , 0.        , 0.        , 0.        , 0.        ,\n",
       "         0.        , 0.        , 0.        , 0.00166113, 0.        ]]),\n",
       " array([[1.77619893e-03, 1.06571936e-02, 0.00000000e+00, 3.55239787e-03,\n",
       "         7.54884547e-02, 7.28241563e-02, 0.00000000e+00, 0.00000000e+00,\n",
       "         7.46003552e-02, 1.06571936e-02, 1.77619893e-03, 2.66429840e-03,\n",
       "         0.00000000e+00, 0.00000000e+00, 0.00000000e+00, 7.99289520e-03,\n",
       "         0.00000000e+00, 1.51865009e-01, 0.00000000e+00, 5.32859680e-03,\n",
       "         3.55239787e-03, 3.55239787e-03, 1.77619893e-03, 1.77619893e-03,\n",
       "         0.00000000e+00, 8.88099467e-04, 0.00000000e+00, 8.88099467e-04,\n",
       "         3.90763766e-02, 0.00000000e+00],\n",
       "        [0.00000000e+00, 0.00000000e+00, 0.00000000e+00, 0.00000000e+00,\n",
       "         2.63765542e-01, 3.30373002e-01, 0.00000000e+00, 0.00000000e+00,\n",
       "         6.80284192e-01, 0.00000000e+00, 0.00000000e+00, 0.00000000e+00,\n",
       "         0.00000000e+00, 0.00000000e+00, 0.00000000e+00, 0.00000000e+00,\n",
       "         0.00000000e+00, 1.00000000e+00, 0.00000000e+00, 0.00000000e+00,\n",
       "         0.00000000e+00, 0.00000000e+00, 0.00000000e+00, 0.00000000e+00,\n",
       "         0.00000000e+00, 0.00000000e+00, 0.00000000e+00, 0.00000000e+00,\n",
       "         3.00177620e-01, 0.00000000e+00]]))"
      ]
     },
     "execution_count": 11,
     "metadata": {},
     "output_type": "execute_result"
    }
   ],
   "source": [
    "flow.up_packets/flow.up_packets.max(), flow.down_packets/flow.down_packets.max()"
   ]
  },
  {
   "cell_type": "code",
   "execution_count": null,
   "metadata": {},
   "outputs": [],
   "source": []
  }
 ],
 "metadata": {
  "kernelspec": {
   "display_name": "Python 3",
   "language": "python",
   "name": "python3"
  },
  "language_info": {
   "codemirror_mode": {
    "name": "ipython",
    "version": 3
   },
   "file_extension": ".py",
   "mimetype": "text/x-python",
   "name": "python",
   "nbconvert_exporter": "python",
   "pygments_lexer": "ipython3",
   "version": "3.11.7"
  }
 },
 "nbformat": 4,
 "nbformat_minor": 2
}
