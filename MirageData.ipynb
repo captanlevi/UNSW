{
 "cells": [
  {
   "cell_type": "code",
   "execution_count": 1,
   "metadata": {},
   "outputs": [],
   "source": [
    "from tqdm import tqdm\n",
    "from typing import List, Dict\n",
    "import datetime\n",
    "import numpy as np\n",
    "import pandas as pd\n",
    "import matplotlib.pyplot as plt\n",
    "from flowprintOptimal.sekigo.core.flowRepresentation import FlowRepresentation,PacketFlowRepressentation\n",
    "from flowprintOptimal.sekigo.dataAnalysis.vNATDataFrameProcessor import VNATDataFrameProcessor\n",
    "from flowprintOptimal.sekigo.core.flowConfig import FlowConfig\n",
    "import random\n",
    "from flowprintOptimal.sekigo.flowUtils.flowDatasets import PacketFlowDataset\n",
    "from torch.utils.data import Dataset,DataLoader\n",
    "from torchsampler import ImbalancedDatasetSampler\n",
    "from sklearn.model_selection import train_test_split\n",
    "from flowprintOptimal.sekigo.flowUtils.commons import normalizePacketRep\n",
    "import os\n",
    "from joblib import Parallel, delayed\n",
    "from flowprintOptimal.sekigo.flowUtils.commons import saveFlows,loadFlows\n",
    "from flowprintOptimal.sekigo.dataAnalysis.dataFrameProcessor import UTMobileNetProcessor\n",
    "from flowprintOptimal.sekigo.flowUtils.dataGetter import getTrainTestOOD\n",
    "from sklearn.metrics import confusion_matrix\n",
    "import json\n",
    "from flowprintOptimal.sekigo.modeling.trainers import NNClassificationTrainer\n",
    "from flowprintOptimal.sekigo.modeling.neuralNetworks import LSTMNetwork,TransformerGenerator,CNNNetwork1D,LSTMDuelingNetwork\n",
    "from flowprintOptimal.sekigo.modeling.loggers import Logger\n",
    "import torch\n",
    "device = torch.device(\"cuda\" if torch.cuda.is_available() else \"cpu\")\n",
    "#device = torch.device(\"cpu\")\n",
    "from flowprintOptimal.sekigo.earlyClassification.DQL.core import MemoryElement,Rewarder,State\n",
    "from flowprintOptimal.sekigo.earlyClassification.DQL.memoryFiller import MemoryFiller\n",
    "from flowprintOptimal.sekigo.earlyClassification.DQL.datasets import MemoryDataset\n",
    "from flowprintOptimal.sekigo.earlyClassification.DQL.trainers import EarlyClassificationtrainer\n",
    "from flowprintOptimal.sekigo.utils.documentor import Documenter\n",
    "from flowprintOptimal.sekigo.utils.evaluations import Evaluator,EarlyEvaluation\n",
    "from flowprintOptimal.sekigo.flowUtils.commons import getTimeStampsFromIAT, getIATFromTimeStamps\n",
    "import heapq\n",
    "import warnings\n",
    "warnings.filterwarnings('ignore')\n",
    "import torch.nn as nn\n",
    "from torch.distributions.categorical import Categorical\n",
    "from joblib import Parallel, delayed\n",
    "from flowprintOptimal.sekigo.dataAnalysis.dataFrameProcessor import MirageProcessor\n"
   ]
  },
  {
   "cell_type": "code",
   "execution_count": 74,
   "metadata": {},
   "outputs": [],
   "source": [
    "processor = MirageProcessor(data_path= \"data/MIRAGE-2019\")"
   ]
  },
  {
   "cell_type": "code",
   "execution_count": 86,
   "metadata": {},
   "outputs": [],
   "source": [
    "packet_reps = processor.getPacketReps(mode= \"app_catagory\")"
   ]
  },
  {
   "cell_type": "code",
   "execution_count": 89,
   "metadata": {},
   "outputs": [
    {
     "data": {
      "text/plain": [
       "count    117884.000000\n",
       "mean         23.023727\n",
       "std           9.785366\n",
       "min           1.000000\n",
       "25%          17.000000\n",
       "50%          26.000000\n",
       "75%          32.000000\n",
       "max          32.000000\n",
       "dtype: float64"
      ]
     },
     "execution_count": 89,
     "metadata": {},
     "output_type": "execute_result"
    }
   ],
   "source": [
    "lengths = list(map(lambda x : len(x), packet_reps))\n",
    "\n",
    "pd.Series(lengths).describe()"
   ]
  },
  {
   "cell_type": "code",
   "execution_count": 87,
   "metadata": {},
   "outputs": [],
   "source": [
    "labels = list(map(lambda x :x.class_type, packet_reps))\n",
    "\n",
    "labels = pd.Series(labels)"
   ]
  },
  {
   "cell_type": "code",
   "execution_count": 88,
   "metadata": {},
   "outputs": [],
   "source": [
    "saveFlows(path= \"data/MIRAGE-2019/miragePacketRepAppCatagory.json\", flows= packet_reps)"
   ]
  },
  {
   "cell_type": "code",
   "execution_count": 67,
   "metadata": {},
   "outputs": [
    {
     "data": {
      "text/plain": [
       "{'BF_label': 'air.com.hypah.io.slither',\n",
       " 'BF_labeling_type': 'most-common',\n",
       " 'BF_num_packets': 53,\n",
       " 'BF_IP_packet_bytes': 22979,\n",
       " 'BF_L4_payload_bytes': 20183,\n",
       " 'BF_duration': 324.4061441421509,\n",
       " 'UF_num_packets': 25,\n",
       " 'UF_IP_packet_bytes': 14416,\n",
       " 'UF_L4_payload_bytes': 13108,\n",
       " 'UF_duration': 324.4061441421509,\n",
       " 'DF_num_packets': 28,\n",
       " 'DF_IP_packet_bytes': 8563,\n",
       " 'DF_L4_payload_bytes': 7075,\n",
       " 'DF_duration': 324.3795208930969}"
      ]
     },
     "execution_count": 67,
     "metadata": {},
     "output_type": "execute_result"
    }
   ],
   "source": [
    "d[\"flow_metadata\"]"
   ]
  },
  {
   "cell_type": "code",
   "execution_count": 54,
   "metadata": {},
   "outputs": [],
   "source": [
    "timesteps = getTimeStampsFromIAT(inter_arrival_times= packet_reps[0].inter_arrival_times)"
   ]
  },
  {
   "cell_type": "markdown",
   "metadata": {},
   "source": []
  },
  {
   "cell_type": "code",
   "execution_count": 57,
   "metadata": {},
   "outputs": [
    {
     "data": {
      "text/plain": [
       "1.235999"
      ]
     },
     "execution_count": 57,
     "metadata": {},
     "output_type": "execute_result"
    }
   ],
   "source": [
    "(timesteps[-1] - timesteps[0]).total_seconds()"
   ]
  },
  {
   "cell_type": "code",
   "execution_count": 52,
   "metadata": {},
   "outputs": [
    {
     "data": {
      "text/plain": [
       "[0.0,\n",
       " 0.7569784956184226,\n",
       " 0.18797258507353948,\n",
       " 0.7139942765287248,\n",
       " 0.8721721424115088,\n",
       " 0.7544237176041286,\n",
       " 0.18104646062300564,\n",
       " 0.7517924577561939,\n",
       " 0.7186748617051665,\n",
       " 0.7414242726397329,\n",
       " 0.7014076033248066,\n",
       " 0.554326461930472,\n",
       " 0.7324846050830552,\n",
       " 0.7147267086840452,\n",
       " 0.9656542376894935,\n",
       " 0.5544308315720162,\n",
       " 0.6049393970169734,\n",
       " 0.5841201434032341,\n",
       " 0.6613634740226954,\n",
       " 0.6345059499165621,\n",
       " 0.7185677990432882,\n",
       " 0.15918339406838902,\n",
       " 0.6585242868193684,\n",
       " 0.7974487310669145,\n",
       " 0.6212037130292398,\n",
       " 0.6994679742887879,\n",
       " 0.8800992601779078,\n",
       " 0.18104646062300564,\n",
       " 0.174989265521228,\n",
       " 0.174989265521228,\n",
       " 0.5691390417892545,\n",
       " 0.5038579082034343]"
      ]
     },
     "execution_count": 52,
     "metadata": {},
     "output_type": "execute_result"
    }
   ],
   "source": [
    "packet_reps[0].inter_arrival_times"
   ]
  },
  {
   "cell_type": "code",
   "execution_count": null,
   "metadata": {},
   "outputs": [],
   "source": []
  }
 ],
 "metadata": {
  "kernelspec": {
   "display_name": "Python 3",
   "language": "python",
   "name": "python3"
  },
  "language_info": {
   "codemirror_mode": {
    "name": "ipython",
    "version": 3
   },
   "file_extension": ".py",
   "mimetype": "text/x-python",
   "name": "python",
   "nbconvert_exporter": "python",
   "pygments_lexer": "ipython3",
   "version": "3.10.12"
  }
 },
 "nbformat": 4,
 "nbformat_minor": 2
}
