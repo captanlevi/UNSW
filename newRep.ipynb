{
 "cells": [
  {
   "cell_type": "code",
   "execution_count": 83,
   "metadata": {},
   "outputs": [],
   "source": [
    "from tqdm import tqdm\n",
    "from typing import List, Dict\n",
    "import datetime\n",
    "import numpy as np\n",
    "import pandas as pd\n",
    "import matplotlib.pyplot as plt\n",
    "from flowprintOptimal.sekigo.core.flowRepresentation import FlowRepresentation,PacketFlowRepressentation,TimeslotRepresentation\n",
    "from flowprintOptimal.sekigo.dataAnalysis.vNATDataFrameProcessor import VNATDataFrameProcessor\n",
    "from flowprintOptimal.sekigo.core.flowConfig import FlowConfig\n",
    "import random\n",
    "from flowprintOptimal.sekigo.flowUtils.flowDatasets import PacketFlowDataset, BaseFlowDataset, DDQNActivityDataset\n",
    "from torch.utils.data import Dataset,DataLoader\n",
    "from torchsampler import ImbalancedDatasetSampler\n",
    "from sklearn.model_selection import train_test_split\n",
    "from flowprintOptimal.sekigo.flowUtils.commons import normalizePacketRep\n",
    "import os\n",
    "from joblib import Parallel, delayed\n",
    "from flowprintOptimal.sekigo.flowUtils.commons import saveFlows,loadFlows\n",
    "from flowprintOptimal.sekigo.dataAnalysis.dataFrameProcessor import UTMobileNetProcessor\n",
    "from flowprintOptimal.sekigo.flowUtils.dataGetterV2 import readTrainTestOODFlows\n",
    "from sklearn.metrics import confusion_matrix\n",
    "import json\n",
    "from flowprintOptimal.sekigo.modeling.trainers import NNClassificationTrainer\n",
    "from flowprintOptimal.sekigo.modeling.neuralNetworks import LSTMNetwork,TransformerGenerator,CNNNetwork1D, LSTMDuelingNetwork\n",
    "from flowprintOptimal.sekigo.modeling.loggers import Logger\n",
    "import torch\n",
    "device = torch.device(\"cuda\" if torch.cuda.is_available() else \"cpu\")\n",
    "#device = torch.device(\"cpu\")\n",
    "from flowprintOptimal.sekigo.earlyClassification.DQL.core import MemoryElement,Rewarder,State\n",
    "from flowprintOptimal.sekigo.earlyClassification.DQL.memoryFiller import MemoryFiller\n",
    "from flowprintOptimal.sekigo.earlyClassification.DQL.datasets import MemoryDataset\n",
    "from flowprintOptimal.sekigo.earlyClassification.DQL.trainers import EarlyClassificationtrainer\n",
    "from flowprintOptimal.sekigo.utils.documentor import Documenter\n",
    "from flowprintOptimal.sekigo.utils.evaluations import Evaluator,EarlyEvaluation\n",
    "import warnings\n",
    "from copy import deepcopy\n",
    "import torch.nn as nn\n",
    "\n",
    "\n",
    "\n",
    "warnings.filterwarnings('ignore')"
   ]
  },
  {
   "cell_type": "code",
   "execution_count": 84,
   "metadata": {},
   "outputs": [],
   "source": [
    "configs = dict(\n",
    "    name = \"vnat_timeslot_ood\",\n",
    "    description = \"vnat timeslot balanced datagettter V2 with OOD\",\n",
    "    \n",
    "    common_config = dict(\n",
    "        max_timesteps = 15,\n",
    "        min_timesteps = 8\n",
    "    ),\n",
    "    \n",
    "    full_model_kwargs = dict(\n",
    "        lstm_hidden_size = 256,\n",
    "        layers= 2, lstm_input_size = 3\n",
    "    ),\n",
    "\n",
    "    early_model_kwargs = dict(\n",
    "        lstm_input_size= 3,lstm_hidden_size= 256,layers = 2                    \n",
    "    ),\n",
    "    \n",
    "    data_config = dict(\n",
    "        dataset_name = \"vnat\",\n",
    "        subsampleConfig = None,#dict(max_gap = 20, min_gap = 5),                             \n",
    "        max_flow_length = 100, # in seconds  ( each flow sample cannot excede this length)\n",
    "        test_size = .2,\n",
    "        ood_classes = [\"hello\"],\n",
    "        do_balance = False,\n",
    "        data_type = \"timeslot_representation\"\n",
    "\n",
    "    ),\n",
    "\n",
    "    rewarder_config = dict(\n",
    "        l = .5\n",
    "    ),\n",
    "\n",
    "    dataset_config = dict(\n",
    "        aug = [0,.2]\n",
    "    ),\n",
    "\n",
    "    memory_fillter_config = dict(\n",
    "        ood_config = dict(ood_aug = [.6,.9], ood_prob = .2),\n",
    "        min_length = 1,\n",
    "        use_balancer = False\n",
    "    ),\n",
    "    full_trainer_config = dict(\n",
    "        use_sampler = False\n",
    "    ),\n",
    "    early_trainer_config = dict(\n",
    "        use_sampler = False  # this is for giving more weight to wait samples\n",
    "    )\n",
    "\n",
    ")"
   ]
  },
  {
   "cell_type": "code",
   "execution_count": 85,
   "metadata": {},
   "outputs": [
    {
     "data": {
      "text/plain": [
       "'\\n# code to read and save packet flow reps UTMobileNet2021\\nutc_mobile_processor = UTMobileNetProcessor(base_path= \"data/UTMobileNet2021\")\\nflows = utc_mobile_processor.processData()\\nsaveFlows(path  = \"data/UTMobileNet2021/mobilenetPacketRep.json\", flows = flows)\\n'"
      ]
     },
     "execution_count": 85,
     "metadata": {},
     "output_type": "execute_result"
    }
   ],
   "source": [
    "\"\"\"\n",
    "# code to read and save packet flow reps UTMobileNet2021\n",
    "utc_mobile_processor = UTMobileNetProcessor(base_path= \"data/UTMobileNet2021\")\n",
    "flows = utc_mobile_processor.processData()\n",
    "saveFlows(path  = \"data/UTMobileNet2021/mobilenetPacketRep.json\", flows = flows)\n",
    "\"\"\""
   ]
  },
  {
   "cell_type": "code",
   "execution_count": 86,
   "metadata": {},
   "outputs": [],
   "source": [
    "#train_flows, test_flows = loadFlows(\"Splits/Cls/UNIBS/train_flows.pkl\", PacketFlowRepressentation), loadFlows(\"Splits/Cls/UNIBS/test_flows.pkl\", PacketFlowRepressentation)\n",
    "#ood_flows = []"
   ]
  },
  {
   "cell_type": "code",
   "execution_count": 87,
   "metadata": {},
   "outputs": [],
   "source": [
    "#train_flows,test_flows,ood_flows = getTrainTestOOD(**configs[\"data_config\"], max_timesteps= configs[\"common_config\"][\"max_timesteps\"],\n",
    "#                                                   min_timesteps= configs[\"common_config\"][\"min_timesteps\"]\n",
    "#                                                   )"
   ]
  },
  {
   "cell_type": "code",
   "execution_count": null,
   "metadata": {},
   "outputs": [],
   "source": []
  },
  {
   "cell_type": "code",
   "execution_count": 88,
   "metadata": {},
   "outputs": [],
   "source": [
    "if len(configs[\"data_config\"][\"ood_classes\"]) == 0:\n",
    "    base_dir_path = \"data/ClassificationOnlyFlows\"\n",
    "else:\n",
    "    base_dir_path = \"data/ClassificationOODFlows\""
   ]
  },
  {
   "cell_type": "code",
   "execution_count": 89,
   "metadata": {},
   "outputs": [],
   "source": [
    "def readTrainTestOODFlows(base_path, dataset_name):\n",
    "    dir_path = os.path.join(base_path,dataset_name)\n",
    "    print(dir_path)\n",
    "    train_packet_flows = loadFlows(path= os.path.join(dir_path,\"train_packet_flows.pkl\"), cls= PacketFlowRepressentation)\n",
    "    test_packet_flows = loadFlows(path= os.path.join(dir_path,\"test_packet_flows.pkl\"), cls= PacketFlowRepressentation)\n",
    "    train_timeslot_flows = loadFlows(path= os.path.join(dir_path,\"train_timeslot_flows.pkl\"), cls= TimeslotRepresentation)\n",
    "    test_timeslot_flows = loadFlows(path= os.path.join(dir_path,\"test_timeslot_flows.pkl\"), cls= TimeslotRepresentation)\n",
    "\n",
    "    ood_packet_flows = []\n",
    "    ood_timeslot_flows = []\n",
    "    if os.path.exists(os.path.join(dir_path,\"ood_packet_flows.pkl\")):\n",
    "        ood_packet_flows = loadFlows(path= os.path.join(dir_path,\"ood_packet_flows.pkl\"), cls= PacketFlowRepressentation)\n",
    "        ood_timeslot_flows = loadFlows(path= os.path.join(dir_path,\"ood_timeslot_flows.pkl\"), cls= TimeslotRepresentation)\n",
    "\n",
    "\n",
    "\n",
    "\n",
    "    return train_packet_flows,test_packet_flows,ood_packet_flows, train_timeslot_flows,test_timeslot_flows,ood_timeslot_flows\n"
   ]
  },
  {
   "cell_type": "code",
   "execution_count": 90,
   "metadata": {},
   "outputs": [
    {
     "name": "stdout",
     "output_type": "stream",
     "text": [
      "data/ClassificationOODFlows/vnat\n"
     ]
    }
   ],
   "source": [
    "train_packet_flows,test_packet_flows,ood_packet_flows, train_timeslot_flows,test_timeslot_flows,ood_timeslot_flows = readTrainTestOODFlows(base_path= base_dir_path, dataset_name= configs[\"data_config\"][\"dataset_name\"])"
   ]
  },
  {
   "cell_type": "code",
   "execution_count": 91,
   "metadata": {},
   "outputs": [
    {
     "data": {
      "text/plain": [
       "'\\ndef getTruncatePacketRep(flows : List[PacketFlowRepressentation], limit = 15):\\n    truncated_flows = []\\n    for flow in flows:\\n        if len(flow) <= limit:\\n            truncated_flows.append(flow)\\n        else:\\n            truncated_flows.append(flow.getSubFlow(0,limit))\\n    return truncated_flows\\n\\n\\n\\ntrain_packet_flows = getTruncatePacketRep(flows= train_packet_flows)\\ntest_packet_flows = getTruncatePacketRep(flows= test_packet_flows)\\nood_packet_flows = getTruncatePacketRep(flows= ood_packet_flows)\\n'"
      ]
     },
     "execution_count": 91,
     "metadata": {},
     "output_type": "execute_result"
    }
   ],
   "source": [
    "\"\"\"\n",
    "def getTruncatePacketRep(flows : List[PacketFlowRepressentation], limit = 15):\n",
    "    truncated_flows = []\n",
    "    for flow in flows:\n",
    "        if len(flow) <= limit:\n",
    "            truncated_flows.append(flow)\n",
    "        else:\n",
    "            truncated_flows.append(flow.getSubFlow(0,limit))\n",
    "    return truncated_flows\n",
    "\n",
    "\n",
    "\n",
    "train_packet_flows = getTruncatePacketRep(flows= train_packet_flows)\n",
    "test_packet_flows = getTruncatePacketRep(flows= test_packet_flows)\n",
    "ood_packet_flows = getTruncatePacketRep(flows= ood_packet_flows)\n",
    "\"\"\""
   ]
  },
  {
   "cell_type": "code",
   "execution_count": 108,
   "metadata": {},
   "outputs": [],
   "source": [
    "if configs[\"data_config\"][\"data_type\"] == \"packet_representation\":\n",
    "    train_dataset = PacketFlowDataset(flows= train_packet_flows,label_to_index= None,aug= configs[\"dataset_config\"][\"aug\"])\n",
    "    test_dataset = PacketFlowDataset(flows= test_packet_flows,label_to_index= train_dataset.label_to_index)\n",
    "    ood_dataset = PacketFlowDataset(flows= ood_packet_flows, label_to_index= None) if (ood_packet_flows != None and len(ood_packet_flows) != 0) else None\n",
    "    \n",
    "    train_fixed_length_dataset = PacketFlowDataset(flows= train_packet_flows, label_to_index= None, aug= configs[\"dataset_config\"][\"aug\"], fixed_length= 15)\n",
    "    test_fixed_length_dataset = PacketFlowDataset(flows= test_packet_flows, label_to_index= train_fixed_length_dataset.label_to_index, aug= None, fixed_length= 15)\n",
    "else:\n",
    "    train_dataset = DDQNActivityDataset(flows= train_timeslot_flows,label_to_index= None, aug= configs[\"dataset_config\"][\"aug\"])\n",
    "    test_dataset = DDQNActivityDataset(flows= test_timeslot_flows,label_to_index= train_dataset.label_to_index)\n",
    "    ood_dataset = DDQNActivityDataset(flows= ood_timeslot_flows, label_to_index= None) if (ood_timeslot_flows != None and len(ood_timeslot_flows) != 0) else None\n",
    "\n",
    "    \n",
    "\n",
    "    configs[\"early_model_kwargs\"][\"lstm_input_size\"] = 7\n",
    "    configs[\"full_model_kwargs\"][\"lstm_input_size\"] = 7\n"
   ]
  },
  {
   "cell_type": "code",
   "execution_count": 112,
   "metadata": {},
   "outputs": [
    {
     "data": {
      "text/plain": [
       "<flowprintOptimal.sekigo.core.flowRepresentation.TimeslotRepresentation at 0x7508325ed4b0>"
      ]
     },
     "execution_count": 112,
     "metadata": {},
     "output_type": "execute_result"
    }
   ],
   "source": [
    "train_dataset.flows[0]"
   ]
  },
  {
   "cell_type": "code",
   "execution_count": 113,
   "metadata": {},
   "outputs": [
    {
     "data": {
      "text/plain": [
       "(2073, 519, 459)"
      ]
     },
     "execution_count": 113,
     "metadata": {},
     "output_type": "execute_result"
    }
   ],
   "source": [
    "len(train_dataset), len(test_dataset), len(ood_dataset)"
   ]
  },
  {
   "cell_type": "code",
   "execution_count": 114,
   "metadata": {},
   "outputs": [],
   "source": [
    "num_labels = len(train_dataset.label_to_index)\n",
    "configs[\"full_model_kwargs\"][\"output_dim\"] = num_labels \n",
    "configs[\"early_model_kwargs\"][\"output_dim\"] = num_labels + 1\n",
    "configs[\"rewarder_config\"][\"num_labels\"] = num_labels\n",
    "configs[\"rewarder_config\"][\"max_length\"] = configs[\"common_config\"][\"max_timesteps\"]"
   ]
  },
  {
   "cell_type": "code",
   "execution_count": 115,
   "metadata": {},
   "outputs": [],
   "source": [
    "#classifier_ = CNNNetwork1D( **configs[\"full_model_kwargs\"])#LSTMNetwork(lstm_hidden_size= 64,lstm_input_size=6,output_dim = len(all_train_dataset.label_to_index))\n",
    "classifier_ = LSTMNetwork(**configs[\"full_model_kwargs\"])\n",
    "logger= Logger(name= \"classification\",verbose= True)\n",
    "logger.default_step_size = 500\n",
    "classification_trainer = NNClassificationTrainer(classifier = classifier_,device= device,logger= logger)\n",
    "#classification_trainer.train(train_dataset= train_fixed_length_dataset,test_dataset= test_fixed_length_dataset,epochs=500,batch_size= 64,lr= .0003,use_balanced_sampler= configs[\"full_trainer_config\"][\"use_sampler\"])"
   ]
  },
  {
   "cell_type": "code",
   "execution_count": 116,
   "metadata": {},
   "outputs": [
    {
     "ename": "RuntimeError",
     "evalue": "input.size(-1) must be equal to input_size. Expected 7, got 3",
     "output_type": "error",
     "traceback": [
      "\u001b[0;31m---------------------------------------------------------------------------\u001b[0m",
      "\u001b[0;31mRuntimeError\u001b[0m                              Traceback (most recent call last)",
      "Cell \u001b[0;32mIn[116], line 2\u001b[0m\n\u001b[1;32m      1\u001b[0m classification_trainer\u001b[38;5;241m.\u001b[39mbest[\u001b[38;5;124m\"\u001b[39m\u001b[38;5;124mscore\u001b[39m\u001b[38;5;124m\"\u001b[39m]\n\u001b[0;32m----> 2\u001b[0m \u001b[43mEvaluator\u001b[49m\u001b[43m(\u001b[49m\u001b[43mmodel\u001b[49m\u001b[38;5;241;43m=\u001b[39;49m\u001b[43m \u001b[49m\u001b[43mclassification_trainer\u001b[49m\u001b[38;5;241;43m.\u001b[39;49m\u001b[43mbest\u001b[49m\u001b[43m[\u001b[49m\u001b[38;5;124;43m\"\u001b[39;49m\u001b[38;5;124;43mmodel\u001b[39;49m\u001b[38;5;124;43m\"\u001b[39;49m\u001b[43m]\u001b[49m\u001b[43m,\u001b[49m\u001b[43m \u001b[49m\u001b[43mdevice\u001b[49m\u001b[38;5;241;43m=\u001b[39;49m\u001b[43mdevice\u001b[49m\u001b[43m)\u001b[49m\u001b[38;5;241;43m.\u001b[39;49m\u001b[43mgetMetrices\u001b[49m\u001b[43m(\u001b[49m\u001b[43mdataset\u001b[49m\u001b[38;5;241;43m=\u001b[39;49m\u001b[43m \u001b[49m\u001b[43mtest_fixed_length_dataset\u001b[49m\u001b[43m)\u001b[49m\n",
      "File \u001b[0;32m~/Desktop/UNSW/flowprintOptimal/sekigo/utils/evaluations.py:98\u001b[0m, in \u001b[0;36mEvaluator.getMetrices\u001b[0;34m(self, dataset)\u001b[0m\n\u001b[1;32m     97\u001b[0m \u001b[38;5;28;01mdef\u001b[39;00m \u001b[38;5;21mgetMetrices\u001b[39m(\u001b[38;5;28mself\u001b[39m,dataset):\n\u001b[0;32m---> 98\u001b[0m     predictions,y_true \u001b[38;5;241m=\u001b[39m \u001b[38;5;28;43mself\u001b[39;49m\u001b[38;5;241;43m.\u001b[39;49m\u001b[43mpredictOnDataset\u001b[49m\u001b[43m(\u001b[49m\u001b[43mdataset\u001b[49m\u001b[38;5;241;43m=\u001b[39;49m\u001b[43m \u001b[49m\u001b[43mdataset\u001b[49m\u001b[43m)\u001b[49m\n\u001b[1;32m     99\u001b[0m     labels \u001b[38;5;241m=\u001b[39m \u001b[38;5;28mlist\u001b[39m(\u001b[38;5;28mrange\u001b[39m(\u001b[38;5;241m0\u001b[39m,\u001b[38;5;28mlen\u001b[39m(dataset\u001b[38;5;241m.\u001b[39mlabel_to_index)))\n\u001b[1;32m    100\u001b[0m     metrices \u001b[38;5;241m=\u001b[39m  \u001b[38;5;28mself\u001b[39m\u001b[38;5;241m.\u001b[39mclassificationScores(predicted\u001b[38;5;241m=\u001b[39m predictions,y_true\u001b[38;5;241m=\u001b[39m y_true,labels\u001b[38;5;241m=\u001b[39m labels)\n",
      "File \u001b[0;32m~/Desktop/UNSW/flowprintOptimal/sekigo/utils/evaluations.py:87\u001b[0m, in \u001b[0;36mEvaluator.predictOnDataset\u001b[0;34m(self, dataset)\u001b[0m\n\u001b[1;32m     85\u001b[0m \u001b[38;5;28;01mfor\u001b[39;00m batch \u001b[38;5;129;01min\u001b[39;00m dataloader:\n\u001b[1;32m     86\u001b[0m     batch_X,batch_y \u001b[38;5;241m=\u001b[39m batch[\u001b[38;5;124m\"\u001b[39m\u001b[38;5;124mdata\u001b[39m\u001b[38;5;124m\"\u001b[39m]\u001b[38;5;241m.\u001b[39mfloat()\u001b[38;5;241m.\u001b[39mto(\u001b[38;5;28mself\u001b[39m\u001b[38;5;241m.\u001b[39mdevice), batch[\u001b[38;5;124m\"\u001b[39m\u001b[38;5;124mlabel\u001b[39m\u001b[38;5;124m\"\u001b[39m]\u001b[38;5;241m.\u001b[39mto(\u001b[38;5;28mself\u001b[39m\u001b[38;5;241m.\u001b[39mdevice)\n\u001b[0;32m---> 87\u001b[0m     predicted \u001b[38;5;241m=\u001b[39m \u001b[38;5;28;43mself\u001b[39;49m\u001b[38;5;241;43m.\u001b[39;49m\u001b[43mmodel\u001b[49m\u001b[43m(\u001b[49m\u001b[43mbatch_X\u001b[49m\u001b[43m)\u001b[49m[\u001b[38;5;241m0\u001b[39m] \u001b[38;5;66;03m# (BS,num_class)\u001b[39;00m\n\u001b[1;32m     88\u001b[0m     predicted \u001b[38;5;241m=\u001b[39m torch\u001b[38;5;241m.\u001b[39margmax(predicted,dim\u001b[38;5;241m=\u001b[39m \u001b[38;5;241m-\u001b[39m\u001b[38;5;241m1\u001b[39m)\u001b[38;5;241m.\u001b[39mcpu()\u001b[38;5;241m.\u001b[39mnumpy()\n\u001b[1;32m     89\u001b[0m     predictions\u001b[38;5;241m.\u001b[39mextend(predicted)\n",
      "File \u001b[0;32m~/.local/lib/python3.10/site-packages/torch/nn/modules/module.py:1532\u001b[0m, in \u001b[0;36mModule._wrapped_call_impl\u001b[0;34m(self, *args, **kwargs)\u001b[0m\n\u001b[1;32m   1530\u001b[0m     \u001b[38;5;28;01mreturn\u001b[39;00m \u001b[38;5;28mself\u001b[39m\u001b[38;5;241m.\u001b[39m_compiled_call_impl(\u001b[38;5;241m*\u001b[39margs, \u001b[38;5;241m*\u001b[39m\u001b[38;5;241m*\u001b[39mkwargs)  \u001b[38;5;66;03m# type: ignore[misc]\u001b[39;00m\n\u001b[1;32m   1531\u001b[0m \u001b[38;5;28;01melse\u001b[39;00m:\n\u001b[0;32m-> 1532\u001b[0m     \u001b[38;5;28;01mreturn\u001b[39;00m \u001b[38;5;28;43mself\u001b[39;49m\u001b[38;5;241;43m.\u001b[39;49m\u001b[43m_call_impl\u001b[49m\u001b[43m(\u001b[49m\u001b[38;5;241;43m*\u001b[39;49m\u001b[43margs\u001b[49m\u001b[43m,\u001b[49m\u001b[43m \u001b[49m\u001b[38;5;241;43m*\u001b[39;49m\u001b[38;5;241;43m*\u001b[39;49m\u001b[43mkwargs\u001b[49m\u001b[43m)\u001b[49m\n",
      "File \u001b[0;32m~/.local/lib/python3.10/site-packages/torch/nn/modules/module.py:1541\u001b[0m, in \u001b[0;36mModule._call_impl\u001b[0;34m(self, *args, **kwargs)\u001b[0m\n\u001b[1;32m   1536\u001b[0m \u001b[38;5;66;03m# If we don't have any hooks, we want to skip the rest of the logic in\u001b[39;00m\n\u001b[1;32m   1537\u001b[0m \u001b[38;5;66;03m# this function, and just call forward.\u001b[39;00m\n\u001b[1;32m   1538\u001b[0m \u001b[38;5;28;01mif\u001b[39;00m \u001b[38;5;129;01mnot\u001b[39;00m (\u001b[38;5;28mself\u001b[39m\u001b[38;5;241m.\u001b[39m_backward_hooks \u001b[38;5;129;01mor\u001b[39;00m \u001b[38;5;28mself\u001b[39m\u001b[38;5;241m.\u001b[39m_backward_pre_hooks \u001b[38;5;129;01mor\u001b[39;00m \u001b[38;5;28mself\u001b[39m\u001b[38;5;241m.\u001b[39m_forward_hooks \u001b[38;5;129;01mor\u001b[39;00m \u001b[38;5;28mself\u001b[39m\u001b[38;5;241m.\u001b[39m_forward_pre_hooks\n\u001b[1;32m   1539\u001b[0m         \u001b[38;5;129;01mor\u001b[39;00m _global_backward_pre_hooks \u001b[38;5;129;01mor\u001b[39;00m _global_backward_hooks\n\u001b[1;32m   1540\u001b[0m         \u001b[38;5;129;01mor\u001b[39;00m _global_forward_hooks \u001b[38;5;129;01mor\u001b[39;00m _global_forward_pre_hooks):\n\u001b[0;32m-> 1541\u001b[0m     \u001b[38;5;28;01mreturn\u001b[39;00m \u001b[43mforward_call\u001b[49m\u001b[43m(\u001b[49m\u001b[38;5;241;43m*\u001b[39;49m\u001b[43margs\u001b[49m\u001b[43m,\u001b[49m\u001b[43m \u001b[49m\u001b[38;5;241;43m*\u001b[39;49m\u001b[38;5;241;43m*\u001b[39;49m\u001b[43mkwargs\u001b[49m\u001b[43m)\u001b[49m\n\u001b[1;32m   1543\u001b[0m \u001b[38;5;28;01mtry\u001b[39;00m:\n\u001b[1;32m   1544\u001b[0m     result \u001b[38;5;241m=\u001b[39m \u001b[38;5;28;01mNone\u001b[39;00m\n",
      "File \u001b[0;32m~/Desktop/UNSW/flowprintOptimal/sekigo/modeling/neuralNetworks.py:46\u001b[0m, in \u001b[0;36mLSTMNetwork.forward\u001b[0;34m(self, X)\u001b[0m\n\u001b[1;32m     37\u001b[0m \u001b[38;5;28;01mdef\u001b[39;00m \u001b[38;5;21mforward\u001b[39m(\u001b[38;5;28mself\u001b[39m,X):\n\u001b[1;32m     38\u001b[0m     \u001b[38;5;124;03m\"\"\"\u001b[39;00m\n\u001b[1;32m     39\u001b[0m \u001b[38;5;124;03m    X is the timeseries input of shape \u001b[39;00m\n\u001b[1;32m     40\u001b[0m \u001b[38;5;124;03m    (BS,Seq len, lstm_input_size)\u001b[39;00m\n\u001b[0;32m   (...)\u001b[0m\n\u001b[1;32m     44\u001b[0m \u001b[38;5;124;03m    The output is of shape (BS,num_classes)\u001b[39;00m\n\u001b[1;32m     45\u001b[0m \u001b[38;5;124;03m    \"\"\"\u001b[39;00m\n\u001b[0;32m---> 46\u001b[0m     lstm_out, _ \u001b[38;5;241m=\u001b[39m \u001b[38;5;28;43mself\u001b[39;49m\u001b[38;5;241;43m.\u001b[39;49m\u001b[43mlstm\u001b[49m\u001b[43m(\u001b[49m\u001b[43mX\u001b[49m\u001b[43m)\u001b[49m\n\u001b[1;32m     47\u001b[0m     \u001b[38;5;28;01mif\u001b[39;00m \u001b[38;5;28misinstance\u001b[39m(X,torch\u001b[38;5;241m.\u001b[39mTensor):\n\u001b[1;32m     48\u001b[0m         lstm_out \u001b[38;5;241m=\u001b[39m lstm_out[:,\u001b[38;5;241m-\u001b[39m\u001b[38;5;241m1\u001b[39m,:]\n",
      "File \u001b[0;32m~/.local/lib/python3.10/site-packages/torch/nn/modules/module.py:1532\u001b[0m, in \u001b[0;36mModule._wrapped_call_impl\u001b[0;34m(self, *args, **kwargs)\u001b[0m\n\u001b[1;32m   1530\u001b[0m     \u001b[38;5;28;01mreturn\u001b[39;00m \u001b[38;5;28mself\u001b[39m\u001b[38;5;241m.\u001b[39m_compiled_call_impl(\u001b[38;5;241m*\u001b[39margs, \u001b[38;5;241m*\u001b[39m\u001b[38;5;241m*\u001b[39mkwargs)  \u001b[38;5;66;03m# type: ignore[misc]\u001b[39;00m\n\u001b[1;32m   1531\u001b[0m \u001b[38;5;28;01melse\u001b[39;00m:\n\u001b[0;32m-> 1532\u001b[0m     \u001b[38;5;28;01mreturn\u001b[39;00m \u001b[38;5;28;43mself\u001b[39;49m\u001b[38;5;241;43m.\u001b[39;49m\u001b[43m_call_impl\u001b[49m\u001b[43m(\u001b[49m\u001b[38;5;241;43m*\u001b[39;49m\u001b[43margs\u001b[49m\u001b[43m,\u001b[49m\u001b[43m \u001b[49m\u001b[38;5;241;43m*\u001b[39;49m\u001b[38;5;241;43m*\u001b[39;49m\u001b[43mkwargs\u001b[49m\u001b[43m)\u001b[49m\n",
      "File \u001b[0;32m~/.local/lib/python3.10/site-packages/torch/nn/modules/module.py:1541\u001b[0m, in \u001b[0;36mModule._call_impl\u001b[0;34m(self, *args, **kwargs)\u001b[0m\n\u001b[1;32m   1536\u001b[0m \u001b[38;5;66;03m# If we don't have any hooks, we want to skip the rest of the logic in\u001b[39;00m\n\u001b[1;32m   1537\u001b[0m \u001b[38;5;66;03m# this function, and just call forward.\u001b[39;00m\n\u001b[1;32m   1538\u001b[0m \u001b[38;5;28;01mif\u001b[39;00m \u001b[38;5;129;01mnot\u001b[39;00m (\u001b[38;5;28mself\u001b[39m\u001b[38;5;241m.\u001b[39m_backward_hooks \u001b[38;5;129;01mor\u001b[39;00m \u001b[38;5;28mself\u001b[39m\u001b[38;5;241m.\u001b[39m_backward_pre_hooks \u001b[38;5;129;01mor\u001b[39;00m \u001b[38;5;28mself\u001b[39m\u001b[38;5;241m.\u001b[39m_forward_hooks \u001b[38;5;129;01mor\u001b[39;00m \u001b[38;5;28mself\u001b[39m\u001b[38;5;241m.\u001b[39m_forward_pre_hooks\n\u001b[1;32m   1539\u001b[0m         \u001b[38;5;129;01mor\u001b[39;00m _global_backward_pre_hooks \u001b[38;5;129;01mor\u001b[39;00m _global_backward_hooks\n\u001b[1;32m   1540\u001b[0m         \u001b[38;5;129;01mor\u001b[39;00m _global_forward_hooks \u001b[38;5;129;01mor\u001b[39;00m _global_forward_pre_hooks):\n\u001b[0;32m-> 1541\u001b[0m     \u001b[38;5;28;01mreturn\u001b[39;00m \u001b[43mforward_call\u001b[49m\u001b[43m(\u001b[49m\u001b[38;5;241;43m*\u001b[39;49m\u001b[43margs\u001b[49m\u001b[43m,\u001b[49m\u001b[43m \u001b[49m\u001b[38;5;241;43m*\u001b[39;49m\u001b[38;5;241;43m*\u001b[39;49m\u001b[43mkwargs\u001b[49m\u001b[43m)\u001b[49m\n\u001b[1;32m   1543\u001b[0m \u001b[38;5;28;01mtry\u001b[39;00m:\n\u001b[1;32m   1544\u001b[0m     result \u001b[38;5;241m=\u001b[39m \u001b[38;5;28;01mNone\u001b[39;00m\n",
      "File \u001b[0;32m~/.local/lib/python3.10/site-packages/torch/nn/modules/rnn.py:892\u001b[0m, in \u001b[0;36mLSTM.forward\u001b[0;34m(self, input, hx)\u001b[0m\n\u001b[1;32m    888\u001b[0m     c_zeros \u001b[38;5;241m=\u001b[39m torch\u001b[38;5;241m.\u001b[39mzeros(\u001b[38;5;28mself\u001b[39m\u001b[38;5;241m.\u001b[39mnum_layers \u001b[38;5;241m*\u001b[39m num_directions,\n\u001b[1;32m    889\u001b[0m                           max_batch_size, \u001b[38;5;28mself\u001b[39m\u001b[38;5;241m.\u001b[39mhidden_size,\n\u001b[1;32m    890\u001b[0m                           dtype\u001b[38;5;241m=\u001b[39m\u001b[38;5;28minput\u001b[39m\u001b[38;5;241m.\u001b[39mdtype, device\u001b[38;5;241m=\u001b[39m\u001b[38;5;28minput\u001b[39m\u001b[38;5;241m.\u001b[39mdevice)\n\u001b[1;32m    891\u001b[0m     hx \u001b[38;5;241m=\u001b[39m (h_zeros, c_zeros)\n\u001b[0;32m--> 892\u001b[0m     \u001b[38;5;28;43mself\u001b[39;49m\u001b[38;5;241;43m.\u001b[39;49m\u001b[43mcheck_forward_args\u001b[49m\u001b[43m(\u001b[49m\u001b[38;5;28;43minput\u001b[39;49m\u001b[43m,\u001b[49m\u001b[43m \u001b[49m\u001b[43mhx\u001b[49m\u001b[43m,\u001b[49m\u001b[43m \u001b[49m\u001b[43mbatch_sizes\u001b[49m\u001b[43m)\u001b[49m\n\u001b[1;32m    893\u001b[0m \u001b[38;5;28;01melse\u001b[39;00m:\n\u001b[1;32m    894\u001b[0m     \u001b[38;5;28;01mif\u001b[39;00m is_batched:\n",
      "File \u001b[0;32m~/.local/lib/python3.10/site-packages/torch/nn/modules/rnn.py:821\u001b[0m, in \u001b[0;36mLSTM.check_forward_args\u001b[0;34m(self, input, hidden, batch_sizes)\u001b[0m\n\u001b[1;32m    816\u001b[0m \u001b[38;5;28;01mdef\u001b[39;00m \u001b[38;5;21mcheck_forward_args\u001b[39m(\u001b[38;5;28mself\u001b[39m,  \u001b[38;5;66;03m# type: ignore[override]\u001b[39;00m\n\u001b[1;32m    817\u001b[0m                        \u001b[38;5;28minput\u001b[39m: Tensor,\n\u001b[1;32m    818\u001b[0m                        hidden: Tuple[Tensor, Tensor],\n\u001b[1;32m    819\u001b[0m                        batch_sizes: Optional[Tensor],\n\u001b[1;32m    820\u001b[0m                        ):\n\u001b[0;32m--> 821\u001b[0m     \u001b[38;5;28;43mself\u001b[39;49m\u001b[38;5;241;43m.\u001b[39;49m\u001b[43mcheck_input\u001b[49m\u001b[43m(\u001b[49m\u001b[38;5;28;43minput\u001b[39;49m\u001b[43m,\u001b[49m\u001b[43m \u001b[49m\u001b[43mbatch_sizes\u001b[49m\u001b[43m)\u001b[49m\n\u001b[1;32m    822\u001b[0m     \u001b[38;5;28mself\u001b[39m\u001b[38;5;241m.\u001b[39mcheck_hidden_size(hidden[\u001b[38;5;241m0\u001b[39m], \u001b[38;5;28mself\u001b[39m\u001b[38;5;241m.\u001b[39mget_expected_hidden_size(\u001b[38;5;28minput\u001b[39m, batch_sizes),\n\u001b[1;32m    823\u001b[0m                            \u001b[38;5;124m'\u001b[39m\u001b[38;5;124mExpected hidden[0] size \u001b[39m\u001b[38;5;132;01m{}\u001b[39;00m\u001b[38;5;124m, got \u001b[39m\u001b[38;5;132;01m{}\u001b[39;00m\u001b[38;5;124m'\u001b[39m)\n\u001b[1;32m    824\u001b[0m     \u001b[38;5;28mself\u001b[39m\u001b[38;5;241m.\u001b[39mcheck_hidden_size(hidden[\u001b[38;5;241m1\u001b[39m], \u001b[38;5;28mself\u001b[39m\u001b[38;5;241m.\u001b[39mget_expected_cell_size(\u001b[38;5;28minput\u001b[39m, batch_sizes),\n\u001b[1;32m    825\u001b[0m                            \u001b[38;5;124m'\u001b[39m\u001b[38;5;124mExpected hidden[1] size \u001b[39m\u001b[38;5;132;01m{}\u001b[39;00m\u001b[38;5;124m, got \u001b[39m\u001b[38;5;132;01m{}\u001b[39;00m\u001b[38;5;124m'\u001b[39m)\n",
      "File \u001b[0;32m~/.local/lib/python3.10/site-packages/torch/nn/modules/rnn.py:240\u001b[0m, in \u001b[0;36mRNNBase.check_input\u001b[0;34m(self, input, batch_sizes)\u001b[0m\n\u001b[1;32m    237\u001b[0m     \u001b[38;5;28;01mraise\u001b[39;00m \u001b[38;5;167;01mRuntimeError\u001b[39;00m(\n\u001b[1;32m    238\u001b[0m         \u001b[38;5;124mf\u001b[39m\u001b[38;5;124m'\u001b[39m\u001b[38;5;124minput must have \u001b[39m\u001b[38;5;132;01m{\u001b[39;00mexpected_input_dim\u001b[38;5;132;01m}\u001b[39;00m\u001b[38;5;124m dimensions, got \u001b[39m\u001b[38;5;132;01m{\u001b[39;00m\u001b[38;5;28minput\u001b[39m\u001b[38;5;241m.\u001b[39mdim()\u001b[38;5;132;01m}\u001b[39;00m\u001b[38;5;124m'\u001b[39m)\n\u001b[1;32m    239\u001b[0m \u001b[38;5;28;01mif\u001b[39;00m \u001b[38;5;28mself\u001b[39m\u001b[38;5;241m.\u001b[39minput_size \u001b[38;5;241m!=\u001b[39m \u001b[38;5;28minput\u001b[39m\u001b[38;5;241m.\u001b[39msize(\u001b[38;5;241m-\u001b[39m\u001b[38;5;241m1\u001b[39m):\n\u001b[0;32m--> 240\u001b[0m     \u001b[38;5;28;01mraise\u001b[39;00m \u001b[38;5;167;01mRuntimeError\u001b[39;00m(\n\u001b[1;32m    241\u001b[0m         \u001b[38;5;124mf\u001b[39m\u001b[38;5;124m'\u001b[39m\u001b[38;5;124minput.size(-1) must be equal to input_size. Expected \u001b[39m\u001b[38;5;132;01m{\u001b[39;00m\u001b[38;5;28mself\u001b[39m\u001b[38;5;241m.\u001b[39minput_size\u001b[38;5;132;01m}\u001b[39;00m\u001b[38;5;124m, got \u001b[39m\u001b[38;5;132;01m{\u001b[39;00m\u001b[38;5;28minput\u001b[39m\u001b[38;5;241m.\u001b[39msize(\u001b[38;5;241m-\u001b[39m\u001b[38;5;241m1\u001b[39m)\u001b[38;5;132;01m}\u001b[39;00m\u001b[38;5;124m'\u001b[39m)\n",
      "\u001b[0;31mRuntimeError\u001b[0m: input.size(-1) must be equal to input_size. Expected 7, got 3"
     ]
    }
   ],
   "source": [
    "classification_trainer.best[\"score\"]\n",
    "Evaluator(model= classification_trainer.best[\"model\"], device=device).getMetrices(dataset= test_fixed_length_dataset)"
   ]
  },
  {
   "cell_type": "code",
   "execution_count": 117,
   "metadata": {},
   "outputs": [
    {
     "data": {
      "text/plain": [
       "device(type='cuda')"
      ]
     },
     "execution_count": 117,
     "metadata": {},
     "output_type": "execute_result"
    }
   ],
   "source": [
    "device"
   ]
  },
  {
   "cell_type": "code",
   "execution_count": 118,
   "metadata": {},
   "outputs": [
    {
     "ename": "AttributeError",
     "evalue": "'TimeslotRepresentation' object has no attribute 'lengths'",
     "output_type": "error",
     "traceback": [
      "\u001b[0;31m---------------------------------------------------------------------------\u001b[0m",
      "\u001b[0;31mAttributeError\u001b[0m                            Traceback (most recent call last)",
      "Cell \u001b[0;32mIn[118], line 2\u001b[0m\n\u001b[1;32m      1\u001b[0m \u001b[38;5;28;01mfrom\u001b[39;00m \u001b[38;5;21;01mflowprintOptimal\u001b[39;00m\u001b[38;5;21;01m.\u001b[39;00m\u001b[38;5;21;01msekigo\u001b[39;00m\u001b[38;5;21;01m.\u001b[39;00m\u001b[38;5;21;01mflowUtils\u001b[39;00m\u001b[38;5;21;01m.\u001b[39;00m\u001b[38;5;21;01mpacketDropping\u001b[39;00m \u001b[38;5;28;01mimport\u001b[39;00m getPacketDroppedPacketDataset\n\u001b[0;32m----> 2\u001b[0m dropped_test_dataset \u001b[38;5;241m=\u001b[39m \u001b[43mgetPacketDroppedPacketDataset\u001b[49m\u001b[43m(\u001b[49m\u001b[43mpacket_dataset\u001b[49m\u001b[38;5;241;43m=\u001b[39;49m\u001b[43m \u001b[49m\u001b[43mtest_dataset\u001b[49m\u001b[43m,\u001b[49m\u001b[43m \u001b[49m\u001b[43mmax_drop_rate\u001b[49m\u001b[38;5;241;43m=\u001b[39;49m\u001b[43m \u001b[49m\u001b[38;5;241;43m.08\u001b[39;49m\u001b[43m)\u001b[49m\n\u001b[1;32m      3\u001b[0m test_dropped_fixed_length_dataset \u001b[38;5;241m=\u001b[39m PacketFlowDataset(flows\u001b[38;5;241m=\u001b[39m dropped_test_dataset\u001b[38;5;241m.\u001b[39mflows, label_to_index\u001b[38;5;241m=\u001b[39m train_fixed_length_dataset\u001b[38;5;241m.\u001b[39mlabel_to_index, aug\u001b[38;5;241m=\u001b[39m \u001b[38;5;28;01mNone\u001b[39;00m, fixed_length\u001b[38;5;241m=\u001b[39m \u001b[38;5;241m20\u001b[39m)\n\u001b[1;32m      4\u001b[0m Evaluator(model\u001b[38;5;241m=\u001b[39m classification_trainer\u001b[38;5;241m.\u001b[39mbest[\u001b[38;5;124m\"\u001b[39m\u001b[38;5;124mmodel\u001b[39m\u001b[38;5;124m\"\u001b[39m], device\u001b[38;5;241m=\u001b[39mtorch\u001b[38;5;241m.\u001b[39mdevice(\u001b[38;5;124m\"\u001b[39m\u001b[38;5;124mcpu\u001b[39m\u001b[38;5;124m\"\u001b[39m))\u001b[38;5;241m.\u001b[39mgetMetrices(dataset\u001b[38;5;241m=\u001b[39m test_dropped_fixed_length_dataset)\n",
      "File \u001b[0;32m~/Desktop/UNSW/flowprintOptimal/sekigo/flowUtils/packetDropping.py:15\u001b[0m, in \u001b[0;36mgetPacketDroppedPacketDataset\u001b[0;34m(packet_dataset, max_drop_rate)\u001b[0m\n\u001b[1;32m     13\u001b[0m aug_flows \u001b[38;5;241m=\u001b[39m []\n\u001b[1;32m     14\u001b[0m \u001b[38;5;28;01mfor\u001b[39;00m flow \u001b[38;5;129;01min\u001b[39;00m flows:\n\u001b[0;32m---> 15\u001b[0m     aug_flows\u001b[38;5;241m.\u001b[39mappend(\u001b[43mdropPacketFromPacketRep\u001b[49m\u001b[43m(\u001b[49m\u001b[43mflow_rep\u001b[49m\u001b[38;5;241;43m=\u001b[39;49m\u001b[43m \u001b[49m\u001b[43mflow\u001b[49m\u001b[43m,\u001b[49m\u001b[43m \u001b[49m\u001b[43mmax_drop_rate\u001b[49m\u001b[38;5;241;43m=\u001b[39;49m\u001b[43m \u001b[49m\u001b[43mmax_drop_rate\u001b[49m\u001b[43m,\u001b[49m\u001b[43m \u001b[49m\u001b[43mmin_length\u001b[49m\u001b[38;5;241;43m=\u001b[39;49m\u001b[43m \u001b[49m\u001b[38;5;241;43m8\u001b[39;49m\u001b[43m)\u001b[49m)\n\u001b[1;32m     17\u001b[0m aug_dataset \u001b[38;5;241m=\u001b[39m PacketFlowDataset(flows\u001b[38;5;241m=\u001b[39m aug_flows, label_to_index\u001b[38;5;241m=\u001b[39m packet_dataset\u001b[38;5;241m.\u001b[39mlabel_to_index, aug\u001b[38;5;241m=\u001b[39m packet_dataset\u001b[38;5;241m.\u001b[39maug,\n\u001b[1;32m     18\u001b[0m                                 fixed_length\u001b[38;5;241m=\u001b[39m packet_dataset\u001b[38;5;241m.\u001b[39mfixed_length,truncate_length\u001b[38;5;241m=\u001b[39m packet_dataset\u001b[38;5;241m.\u001b[39mtruncate_length                                    \n\u001b[1;32m     19\u001b[0m                                 )\n\u001b[1;32m     20\u001b[0m \u001b[38;5;28;01mreturn\u001b[39;00m aug_dataset\n",
      "File \u001b[0;32m~/Desktop/UNSW/flowprintOptimal/sekigo/flowUtils/commons.py:217\u001b[0m, in \u001b[0;36mdropPacketFromPacketRep\u001b[0;34m(flow_rep, max_drop_rate, min_length)\u001b[0m\n\u001b[1;32m    212\u001b[0m drop_rate \u001b[38;5;241m=\u001b[39m \u001b[38;5;28mmin\u001b[39m(max_drop_rate, (\u001b[38;5;241m1\u001b[39m \u001b[38;5;241m-\u001b[39m min_length\u001b[38;5;241m/\u001b[39m\u001b[38;5;28mlen\u001b[39m(flow_rep)))    \n\u001b[1;32m    213\u001b[0m drop_rate \u001b[38;5;241m=\u001b[39m np\u001b[38;5;241m.\u001b[39mrandom\u001b[38;5;241m.\u001b[39mrandom()\u001b[38;5;241m*\u001b[39mdrop_rate\n\u001b[0;32m--> 217\u001b[0m lengths \u001b[38;5;241m=\u001b[39m np\u001b[38;5;241m.\u001b[39marray(\u001b[43mflow_rep\u001b[49m\u001b[38;5;241;43m.\u001b[39;49m\u001b[43mlengths\u001b[49m\u001b[38;5;241m.\u001b[39mcopy())\n\u001b[1;32m    218\u001b[0m inter_arrival_times \u001b[38;5;241m=\u001b[39m np\u001b[38;5;241m.\u001b[39marray(flow_rep\u001b[38;5;241m.\u001b[39minter_arrival_times\u001b[38;5;241m.\u001b[39mcopy())\n\u001b[1;32m    219\u001b[0m directions \u001b[38;5;241m=\u001b[39m np\u001b[38;5;241m.\u001b[39marray(flow_rep\u001b[38;5;241m.\u001b[39mdirections\u001b[38;5;241m.\u001b[39mcopy())\n",
      "\u001b[0;31mAttributeError\u001b[0m: 'TimeslotRepresentation' object has no attribute 'lengths'"
     ]
    }
   ],
   "source": [
    "from flowprintOptimal.sekigo.flowUtils.packetDropping import getPacketDroppedPacketDataset\n",
    "dropped_test_dataset = getPacketDroppedPacketDataset(packet_dataset= test_dataset, max_drop_rate= .08)\n",
    "test_dropped_fixed_length_dataset = PacketFlowDataset(flows= dropped_test_dataset.flows, label_to_index= train_fixed_length_dataset.label_to_index, aug= None, fixed_length= 20)\n",
    "Evaluator(model= classification_trainer.best[\"model\"], device=torch.device(\"cpu\")).getMetrices(dataset= test_dropped_fixed_length_dataset)"
   ]
  },
  {
   "cell_type": "code",
   "execution_count": 119,
   "metadata": {},
   "outputs": [],
   "source": [
    "class Rewarder:\n",
    "    def __init__(self,max_length,l,num_labels : int):\n",
    "        self.max_length = max_length\n",
    "        self.l = l # l is smaller than 1\n",
    "        self.num_labels = num_labels\n",
    "\n",
    "    def reward(self,state : State,action : int):\n",
    "        if state.label == action:\n",
    "            # reward 1 on a correct prediction\n",
    "            return 1, True\n",
    "        else:\n",
    "            # either incorrect or wait\n",
    "            # wait \n",
    "            # treat the wait action with a negative reward\n",
    "            if action == self.num_labels:\n",
    "                if state.length == len(state.timeseries):\n",
    "                    # it is the last timestamp\n",
    "                    if state.label == -1:\n",
    "                        return 0, True#-self.l*(state.length/self.max_length),True\n",
    "                    else:\n",
    "                        return -self.l, True\n",
    "                else:\n",
    "                    if state.label == -1:\n",
    "                        return 0, False\n",
    "                    else:\n",
    "                        return  -self.l/self.max_length, False#-self.l*(state.length/self.max_length), False\n",
    "            else:\n",
    "                # incorrect\n",
    "                return -1,True"
   ]
  },
  {
   "cell_type": "code",
   "execution_count": null,
   "metadata": {},
   "outputs": [],
   "source": []
  },
  {
   "cell_type": "code",
   "execution_count": 120,
   "metadata": {},
   "outputs": [],
   "source": [
    "rewarder = Rewarder(**configs[\"rewarder_config\"])\n",
    "memory_filler = MemoryFiller(dataset= train_dataset,rewarder= rewarder, min_length= configs[\"memory_fillter_config\"][\"min_length\"],\n",
    "                              max_length= rewarder.max_length,ood_config= configs[\"memory_fillter_config\"][\"ood_config\"], use_balancer= configs[\"memory_fillter_config\"][\"use_balancer\"]\n",
    "                              )"
   ]
  },
  {
   "cell_type": "code",
   "execution_count": 121,
   "metadata": {},
   "outputs": [
    {
     "name": "stdout",
     "output_type": "stream",
     "text": [
      "216440\n"
     ]
    }
   ],
   "source": [
    "memory = memory_filler.processDataset()\n",
    "print(len(memory))"
   ]
  },
  {
   "cell_type": "code",
   "execution_count": 122,
   "metadata": {},
   "outputs": [],
   "source": [
    "memory_dataset = MemoryDataset(memories= memory,num_classes= len(train_dataset.label_to_index),\n",
    "                               min_length= memory_filler.min_length,max_length= memory_filler.max_length)\n",
    "predictor = LSTMDuelingNetwork(**configs[\"early_model_kwargs\"])\n",
    "logger = Logger(verbose= True)\n",
    "logger.default_step_size = 1000"
   ]
  },
  {
   "cell_type": "code",
   "execution_count": 123,
   "metadata": {},
   "outputs": [
    {
     "name": "stdout",
     "output_type": "stream",
     "text": [
      " 1    116536\n",
      " 2     52292\n",
      " 0     24692\n",
      "-1     22920\n",
      "Name: count, dtype: int64\n"
     ]
    }
   ],
   "source": [
    "labels = []\n",
    "\n",
    "for m in memory_dataset:\n",
    "    labels.append(m[\"label\"])\n",
    "\n",
    "print(pd.Series(labels).value_counts())"
   ]
  },
  {
   "cell_type": "code",
   "execution_count": 124,
   "metadata": {},
   "outputs": [],
   "source": [
    "ddq_model = EarlyClassificationtrainer(predictor= predictor,train_dataset = train_dataset,test_dataset= test_dataset,memory_dataset= memory_dataset,\n",
    "                                       ood_dataset= ood_dataset,use_sampler= configs[\"early_trainer_config\"][\"use_sampler\"],\n",
    "                                       logger= logger,device=device,model_replacement_steps= 500)"
   ]
  },
  {
   "cell_type": "code",
   "execution_count": 125,
   "metadata": {},
   "outputs": [
    {
     "name": "stdout",
     "output_type": "stream",
     "text": [
      " ---- 1000 metric q_loss = 0.4868958595395088\n",
      " ---- 1 metric test_eval_f1 = 0.2611439842209073\n",
      " ---- 1 metric test_eval_time = 6.163776493256262\n",
      " ---- 1 metric incorrect_ood_test = 0.0\n",
      " ---- 1 metric ood_eval = 1.0\n",
      " ---- 1 metric ood_eval_time = 14.96078431372549\n",
      " ---- 2000 metric q_loss = 0.4170663709193468\n",
      " ---- 2 metric test_eval_f1 = 0.3068060846775283\n",
      " ---- 2 metric test_eval_time = 3.9402697495183046\n",
      " ---- 2 metric incorrect_ood_test = 0.0\n",
      " ---- 2 metric ood_eval = 1.0\n",
      " ---- 2 metric ood_eval_time = 14.96078431372549\n",
      " ---- 1 metric train_eval_f1 = 0.34237235062421956\n",
      " ---- 1 metric train_eval_time = 4.354558610709117\n",
      " ---- 1 metric incorrect_ood_train = 0.0\n",
      " ---- 3000 metric q_loss = 0.3888692612349987\n",
      " ---- 3 metric test_eval_f1 = 0.9404013962416456\n",
      " ---- 3 metric test_eval_time = 10.335922330097087\n",
      " ---- 3 metric incorrect_ood_test = 0.007707129094412331\n",
      " ---- 3 metric ood_eval = 0.9934640522875817\n",
      " ---- 3 metric ood_eval_time = 14.941176470588236\n",
      " ---- 4000 metric q_loss = 0.3654761043190956\n",
      " ---- 4 metric test_eval_f1 = 0.9663441167518849\n",
      " ---- 4 metric test_eval_time = 10.1252408477842\n",
      " ---- 4 metric incorrect_ood_test = 0.0\n",
      " ---- 4 metric ood_eval = 0.9934640522875817\n",
      " ---- 4 metric ood_eval_time = 14.928104575163399\n",
      " ---- 2 metric train_eval_f1 = 0.8874929073121449\n",
      " ---- 2 metric train_eval_time = 10.665697674418604\n",
      " ---- 2 metric incorrect_ood_train = 0.004341534008683068\n",
      " ---- 5000 metric q_loss = 0.33805597795546055\n",
      " ---- 5 metric test_eval_f1 = 0.9832161388558922\n",
      " ---- 5 metric test_eval_time = 8.375722543352602\n",
      " ---- 5 metric incorrect_ood_test = 0.0\n",
      " ---- 5 metric ood_eval = 0.9934640522875817\n",
      " ---- 5 metric ood_eval_time = 14.934640522875817\n",
      " ---- 6000 metric q_loss = 0.32151619538664816\n",
      " ---- 6 metric test_eval_f1 = 0.9921264160839244\n",
      " ---- 6 metric test_eval_time = 7.495183044315993\n",
      " ---- 6 metric incorrect_ood_test = 0.0\n",
      " ---- 6 metric ood_eval = 1.0\n",
      " ---- 6 metric ood_eval_time = 14.96078431372549\n",
      " ---- 3 metric train_eval_f1 = 0.9100595682162714\n",
      " ---- 3 metric train_eval_time = 8.51088534107402\n",
      " ---- 3 metric incorrect_ood_train = 0.002894356005788712\n",
      " ---- 7000 metric q_loss = 0.3141027778983116\n",
      " ---- 7 metric test_eval_f1 = 0.9921218798564778\n",
      " ---- 7 metric test_eval_time = 9.281853281853282\n",
      " ---- 7 metric incorrect_ood_test = 0.0019267822736030828\n",
      " ---- 7 metric ood_eval = 1.0\n",
      " ---- 7 metric ood_eval_time = 14.96078431372549\n",
      " ---- 8000 metric q_loss = 0.30555783641338347\n",
      " ---- 8 metric test_eval_f1 = 0.9940178262764726\n",
      " ---- 8 metric test_eval_time = 8.704633204633204\n",
      " ---- 8 metric incorrect_ood_test = 0.0019267822736030828\n",
      " ---- 8 metric ood_eval = 0.9978213507625272\n",
      " ---- 8 metric ood_eval_time = 14.949891067538127\n",
      " ---- 4 metric train_eval_f1 = 0.9436604367571508\n",
      " ---- 4 metric train_eval_time = 10.466311197285506\n",
      " ---- 4 metric incorrect_ood_train = 0.00482392667631452\n",
      " ---- 9000 metric q_loss = 0.29917412240803243\n",
      " ---- 9 metric test_eval_f1 = 0.9817630495225688\n",
      " ---- 9 metric test_eval_time = 7.13102119460501\n",
      " ---- 9 metric incorrect_ood_test = 0.0\n",
      " ---- 9 metric ood_eval = 1.0\n",
      " ---- 9 metric ood_eval_time = 14.96078431372549\n",
      " ---- 10000 metric q_loss = 0.28981876322627065\n",
      " ---- 10 metric test_eval_f1 = 0.9836083937542686\n",
      " ---- 10 metric test_eval_time = 6.732177263969171\n",
      " ---- 10 metric incorrect_ood_test = 0.0\n",
      " ---- 10 metric ood_eval = 0.9978213507625272\n",
      " ---- 10 metric ood_eval_time = 14.952069716775599\n",
      " ---- 5 metric train_eval_f1 = 0.9461034400440531\n",
      " ---- 5 metric train_eval_time = 8.019323671497585\n",
      " ---- 5 metric incorrect_ood_train = 0.001447178002894356\n",
      " ---- 11000 metric q_loss = 0.2778054620176554\n",
      " ---- 11 metric test_eval_f1 = 0.9900940610788082\n",
      " ---- 11 metric test_eval_time = 5.853564547206166\n",
      " ---- 11 metric incorrect_ood_test = 0.0\n",
      " ---- 11 metric ood_eval = 0.9978213507625272\n",
      " ---- 11 metric ood_eval_time = 14.954248366013072\n",
      " ---- 12000 metric q_loss = 0.2730512144491076\n",
      " ---- 12 metric test_eval_f1 = 0.9873278093499008\n",
      " ---- 12 metric test_eval_time = 5.897880539499036\n",
      " ---- 12 metric incorrect_ood_test = 0.0\n",
      " ---- 12 metric ood_eval = 1.0\n",
      " ---- 12 metric ood_eval_time = 14.96078431372549\n",
      " ---- 6 metric train_eval_f1 = 0.9331388166286539\n",
      " ---- 6 metric train_eval_time = 6.733108108108108\n",
      " ---- 6 metric incorrect_ood_train = 0.000482392667631452\n",
      " ---- 13000 metric q_loss = 0.2588273502886295\n",
      " ---- 13 metric test_eval_f1 = 0.9851131799926981\n",
      " ---- 13 metric test_eval_time = 8.876447876447877\n",
      " ---- 13 metric incorrect_ood_test = 0.0019267822736030828\n",
      " ---- 13 metric ood_eval = 1.0\n",
      " ---- 13 metric ood_eval_time = 14.96078431372549\n",
      " ---- 14000 metric q_loss = 0.24424512376636268\n",
      " ---- 14 metric test_eval_f1 = 0.9931389845487892\n",
      " ---- 14 metric test_eval_time = 7.799614643545279\n",
      " ---- 14 metric incorrect_ood_test = 0.0\n",
      " ---- 14 metric ood_eval = 0.9978213507625272\n",
      " ---- 14 metric ood_eval_time = 14.954248366013072\n",
      " ---- 7 metric train_eval_f1 = 0.9519110894550016\n",
      " ---- 7 metric train_eval_time = 8.882551957467376\n",
      " ---- 7 metric incorrect_ood_train = 0.001929570670525808\n",
      " ---- 15000 metric q_loss = 0.22400388051569461\n",
      " ---- 15 metric test_eval_f1 = 0.990202417382721\n",
      " ---- 15 metric test_eval_time = 6.878612716763006\n",
      " ---- 15 metric incorrect_ood_test = 0.0\n",
      " ---- 15 metric ood_eval = 0.9978213507625272\n",
      " ---- 15 metric ood_eval_time = 14.958605664488017\n",
      " ---- 16000 metric q_loss = 0.20400102958083152\n",
      " ---- 16 metric test_eval_f1 = 0.9970280989888832\n",
      " ---- 16 metric test_eval_time = 7.853564547206166\n",
      " ---- 16 metric incorrect_ood_test = 0.0\n",
      " ---- 16 metric ood_eval = 1.0\n",
      " ---- 16 metric ood_eval_time = 14.96078431372549\n",
      " ---- 8 metric train_eval_f1 = 0.957863863055029\n",
      " ---- 8 metric train_eval_time = 9.000483325277912\n",
      " ---- 8 metric incorrect_ood_train = 0.001929570670525808\n",
      " ---- 17000 metric q_loss = 0.18802434173226357\n",
      " ---- 17 metric test_eval_f1 = 0.9922700546852514\n",
      " ---- 17 metric test_eval_time = 6.5163776493256265\n",
      " ---- 17 metric incorrect_ood_test = 0.0\n",
      " ---- 17 metric ood_eval = 1.0\n",
      " ---- 17 metric ood_eval_time = 14.96078431372549\n",
      " ---- 18000 metric q_loss = 0.169215656273067\n",
      " ---- 18 metric test_eval_f1 = 0.9883659766700702\n",
      " ---- 18 metric test_eval_time = 6.475915221579961\n",
      " ---- 18 metric incorrect_ood_test = 0.0\n",
      " ---- 18 metric ood_eval = 1.0\n",
      " ---- 18 metric ood_eval_time = 14.96078431372549\n",
      " ---- 9 metric train_eval_f1 = 0.9462013385538501\n",
      " ---- 9 metric train_eval_time = 7.731978713110789\n",
      " ---- 9 metric incorrect_ood_train = 0.002894356005788712\n",
      " ---- 19000 metric q_loss = 0.1554021211899817\n",
      " ---- 19 metric test_eval_f1 = 0.9922700546852514\n",
      " ---- 19 metric test_eval_time = 5.884393063583815\n",
      " ---- 19 metric incorrect_ood_test = 0.0\n",
      " ---- 19 metric ood_eval = 0.9978213507625272\n",
      " ---- 19 metric ood_eval_time = 14.930283224400872\n"
     ]
    },
    {
     "ename": "KeyboardInterrupt",
     "evalue": "",
     "output_type": "error",
     "traceback": [
      "\u001b[0;31m---------------------------------------------------------------------------\u001b[0m",
      "\u001b[0;31mKeyboardInterrupt\u001b[0m                         Traceback (most recent call last)",
      "Cell \u001b[0;32mIn[125], line 1\u001b[0m\n\u001b[0;32m----> 1\u001b[0m \u001b[43mddq_model\u001b[49m\u001b[38;5;241;43m.\u001b[39;49m\u001b[43mtrain\u001b[49m\u001b[43m(\u001b[49m\u001b[43mepochs\u001b[49m\u001b[38;5;241;43m=\u001b[39;49m\u001b[43m \u001b[49m\u001b[38;5;241;43m20\u001b[39;49m\u001b[43m,\u001b[49m\u001b[43mbatch_size\u001b[49m\u001b[38;5;241;43m=\u001b[39;49m\u001b[43m \u001b[49m\u001b[38;5;241;43m128\u001b[39;49m\u001b[43m,\u001b[49m\u001b[43mlr\u001b[49m\u001b[38;5;241;43m=\u001b[39;49m\u001b[43m \u001b[49m\u001b[38;5;241;43m.0003\u001b[39;49m\u001b[43m,\u001b[49m\u001b[43mlam\u001b[49m\u001b[38;5;241;43m=\u001b[39;49m\u001b[43m \u001b[49m\u001b[38;5;241;43m.99\u001b[39;49m\u001b[43m)\u001b[49m  \n",
      "File \u001b[0;32m~/Desktop/UNSW/flowprintOptimal/sekigo/earlyClassification/DQL/trainers.py:185\u001b[0m, in \u001b[0;36mEarlyClassificationtrainer.train\u001b[0;34m(self, epochs, batch_size, lr, lam)\u001b[0m\n\u001b[1;32m    183\u001b[0m \u001b[38;5;28;01mfor\u001b[39;00m epoch \u001b[38;5;129;01min\u001b[39;00m \u001b[38;5;28mrange\u001b[39m(epochs):\n\u001b[1;32m    184\u001b[0m     \u001b[38;5;28;01mfor\u001b[39;00m batch \u001b[38;5;129;01min\u001b[39;00m train_dataloader:\n\u001b[0;32m--> 185\u001b[0m         \u001b[38;5;28;43mself\u001b[39;49m\u001b[38;5;241;43m.\u001b[39;49m\u001b[43mtrainStep\u001b[49m\u001b[43m(\u001b[49m\u001b[43msteps\u001b[49m\u001b[43m \u001b[49m\u001b[38;5;241;43m=\u001b[39;49m\u001b[43m \u001b[49m\u001b[43msteps\u001b[49m\u001b[43m,\u001b[49m\u001b[43mbatch\u001b[49m\u001b[38;5;241;43m=\u001b[39;49m\u001b[43m \u001b[49m\u001b[43mbatch\u001b[49m\u001b[43m,\u001b[49m\u001b[43mlam\u001b[49m\u001b[38;5;241;43m=\u001b[39;49m\u001b[43m \u001b[49m\u001b[43mlam\u001b[49m\u001b[43m,\u001b[49m\u001b[43m \u001b[49m\u001b[43mpredictor_optimizer\u001b[49m\u001b[38;5;241;43m=\u001b[39;49m\u001b[43m \u001b[49m\u001b[43mpredictor_optimizer\u001b[49m\u001b[43m)\u001b[49m\n\u001b[1;32m    186\u001b[0m         steps \u001b[38;5;241m+\u001b[39m\u001b[38;5;241m=\u001b[39m \u001b[38;5;241m1\u001b[39m            \n\u001b[1;32m    188\u001b[0m         \u001b[38;5;28;01mif\u001b[39;00m steps\u001b[38;5;241m%\u001b[39m\u001b[38;5;241m1000\u001b[39m \u001b[38;5;241m==\u001b[39m \u001b[38;5;241m0\u001b[39m:\n",
      "File \u001b[0;32m~/Desktop/UNSW/flowprintOptimal/sekigo/earlyClassification/DQL/trainers.py:122\u001b[0m, in \u001b[0;36mEarlyClassificationtrainer.trainStep\u001b[0;34m(self, steps, batch, lam, predictor_optimizer)\u001b[0m\n\u001b[1;32m    120\u001b[0m loss \u001b[38;5;241m=\u001b[39m q_loss\n\u001b[1;32m    121\u001b[0m predictor_optimizer\u001b[38;5;241m.\u001b[39mzero_grad()\n\u001b[0;32m--> 122\u001b[0m \u001b[43mloss\u001b[49m\u001b[38;5;241;43m.\u001b[39;49m\u001b[43mbackward\u001b[49m\u001b[43m(\u001b[49m\u001b[43m)\u001b[49m\n\u001b[1;32m    123\u001b[0m predictor_optimizer\u001b[38;5;241m.\u001b[39mstep()\n\u001b[1;32m    124\u001b[0m \u001b[38;5;28mself\u001b[39m\u001b[38;5;241m.\u001b[39mlogger\u001b[38;5;241m.\u001b[39maddMetric(metric_name\u001b[38;5;241m=\u001b[39m \u001b[38;5;124m\"\u001b[39m\u001b[38;5;124mq_loss\u001b[39m\u001b[38;5;124m\"\u001b[39m, value\u001b[38;5;241m=\u001b[39m q_loss\u001b[38;5;241m.\u001b[39mitem())\n",
      "File \u001b[0;32m~/.local/lib/python3.10/site-packages/torch/_tensor.py:525\u001b[0m, in \u001b[0;36mTensor.backward\u001b[0;34m(self, gradient, retain_graph, create_graph, inputs)\u001b[0m\n\u001b[1;32m    515\u001b[0m \u001b[38;5;28;01mif\u001b[39;00m has_torch_function_unary(\u001b[38;5;28mself\u001b[39m):\n\u001b[1;32m    516\u001b[0m     \u001b[38;5;28;01mreturn\u001b[39;00m handle_torch_function(\n\u001b[1;32m    517\u001b[0m         Tensor\u001b[38;5;241m.\u001b[39mbackward,\n\u001b[1;32m    518\u001b[0m         (\u001b[38;5;28mself\u001b[39m,),\n\u001b[0;32m   (...)\u001b[0m\n\u001b[1;32m    523\u001b[0m         inputs\u001b[38;5;241m=\u001b[39minputs,\n\u001b[1;32m    524\u001b[0m     )\n\u001b[0;32m--> 525\u001b[0m \u001b[43mtorch\u001b[49m\u001b[38;5;241;43m.\u001b[39;49m\u001b[43mautograd\u001b[49m\u001b[38;5;241;43m.\u001b[39;49m\u001b[43mbackward\u001b[49m\u001b[43m(\u001b[49m\n\u001b[1;32m    526\u001b[0m \u001b[43m    \u001b[49m\u001b[38;5;28;43mself\u001b[39;49m\u001b[43m,\u001b[49m\u001b[43m \u001b[49m\u001b[43mgradient\u001b[49m\u001b[43m,\u001b[49m\u001b[43m \u001b[49m\u001b[43mretain_graph\u001b[49m\u001b[43m,\u001b[49m\u001b[43m \u001b[49m\u001b[43mcreate_graph\u001b[49m\u001b[43m,\u001b[49m\u001b[43m \u001b[49m\u001b[43minputs\u001b[49m\u001b[38;5;241;43m=\u001b[39;49m\u001b[43minputs\u001b[49m\n\u001b[1;32m    527\u001b[0m \u001b[43m\u001b[49m\u001b[43m)\u001b[49m\n",
      "File \u001b[0;32m~/.local/lib/python3.10/site-packages/torch/autograd/__init__.py:267\u001b[0m, in \u001b[0;36mbackward\u001b[0;34m(tensors, grad_tensors, retain_graph, create_graph, grad_variables, inputs)\u001b[0m\n\u001b[1;32m    262\u001b[0m     retain_graph \u001b[38;5;241m=\u001b[39m create_graph\n\u001b[1;32m    264\u001b[0m \u001b[38;5;66;03m# The reason we repeat the same comment below is that\u001b[39;00m\n\u001b[1;32m    265\u001b[0m \u001b[38;5;66;03m# some Python versions print out the first line of a multi-line function\u001b[39;00m\n\u001b[1;32m    266\u001b[0m \u001b[38;5;66;03m# calls in the traceback and some print out the last line\u001b[39;00m\n\u001b[0;32m--> 267\u001b[0m \u001b[43m_engine_run_backward\u001b[49m\u001b[43m(\u001b[49m\n\u001b[1;32m    268\u001b[0m \u001b[43m    \u001b[49m\u001b[43mtensors\u001b[49m\u001b[43m,\u001b[49m\n\u001b[1;32m    269\u001b[0m \u001b[43m    \u001b[49m\u001b[43mgrad_tensors_\u001b[49m\u001b[43m,\u001b[49m\n\u001b[1;32m    270\u001b[0m \u001b[43m    \u001b[49m\u001b[43mretain_graph\u001b[49m\u001b[43m,\u001b[49m\n\u001b[1;32m    271\u001b[0m \u001b[43m    \u001b[49m\u001b[43mcreate_graph\u001b[49m\u001b[43m,\u001b[49m\n\u001b[1;32m    272\u001b[0m \u001b[43m    \u001b[49m\u001b[43minputs\u001b[49m\u001b[43m,\u001b[49m\n\u001b[1;32m    273\u001b[0m \u001b[43m    \u001b[49m\u001b[43mallow_unreachable\u001b[49m\u001b[38;5;241;43m=\u001b[39;49m\u001b[38;5;28;43;01mTrue\u001b[39;49;00m\u001b[43m,\u001b[49m\n\u001b[1;32m    274\u001b[0m \u001b[43m    \u001b[49m\u001b[43maccumulate_grad\u001b[49m\u001b[38;5;241;43m=\u001b[39;49m\u001b[38;5;28;43;01mTrue\u001b[39;49;00m\u001b[43m,\u001b[49m\n\u001b[1;32m    275\u001b[0m \u001b[43m\u001b[49m\u001b[43m)\u001b[49m\n",
      "File \u001b[0;32m~/.local/lib/python3.10/site-packages/torch/autograd/graph.py:744\u001b[0m, in \u001b[0;36m_engine_run_backward\u001b[0;34m(t_outputs, *args, **kwargs)\u001b[0m\n\u001b[1;32m    742\u001b[0m     unregister_hooks \u001b[38;5;241m=\u001b[39m _register_logging_hooks_on_whole_graph(t_outputs)\n\u001b[1;32m    743\u001b[0m \u001b[38;5;28;01mtry\u001b[39;00m:\n\u001b[0;32m--> 744\u001b[0m     \u001b[38;5;28;01mreturn\u001b[39;00m \u001b[43mVariable\u001b[49m\u001b[38;5;241;43m.\u001b[39;49m\u001b[43m_execution_engine\u001b[49m\u001b[38;5;241;43m.\u001b[39;49m\u001b[43mrun_backward\u001b[49m\u001b[43m(\u001b[49m\u001b[43m  \u001b[49m\u001b[38;5;66;43;03m# Calls into the C++ engine to run the backward pass\u001b[39;49;00m\n\u001b[1;32m    745\u001b[0m \u001b[43m        \u001b[49m\u001b[43mt_outputs\u001b[49m\u001b[43m,\u001b[49m\u001b[43m \u001b[49m\u001b[38;5;241;43m*\u001b[39;49m\u001b[43margs\u001b[49m\u001b[43m,\u001b[49m\u001b[43m \u001b[49m\u001b[38;5;241;43m*\u001b[39;49m\u001b[38;5;241;43m*\u001b[39;49m\u001b[43mkwargs\u001b[49m\n\u001b[1;32m    746\u001b[0m \u001b[43m    \u001b[49m\u001b[43m)\u001b[49m  \u001b[38;5;66;03m# Calls into the C++ engine to run the backward pass\u001b[39;00m\n\u001b[1;32m    747\u001b[0m \u001b[38;5;28;01mfinally\u001b[39;00m:\n\u001b[1;32m    748\u001b[0m     \u001b[38;5;28;01mif\u001b[39;00m attach_logging_hooks:\n",
      "\u001b[0;31mKeyboardInterrupt\u001b[0m: "
     ]
    }
   ],
   "source": [
    "ddq_model.train(epochs= 20,batch_size= 128,lr= .0003,lam= .99)  "
   ]
  },
  {
   "cell_type": "code",
   "execution_count": null,
   "metadata": {},
   "outputs": [],
   "source": []
  },
  {
   "cell_type": "code",
   "execution_count": null,
   "metadata": {},
   "outputs": [],
   "source": [
    "#configs[\"name\"] = \"utmobilenet_timeslot_ood\""
   ]
  },
  {
   "cell_type": "code",
   "execution_count": 126,
   "metadata": {},
   "outputs": [],
   "source": [
    "documenter = Documenter(train_dataset= train_dataset,test_dataset= test_dataset, ood_dataset = ood_dataset,full_model= classification_trainer.best[\"model\"], early_model= ddq_model.best[\"model\"],\n",
    "                        configs= configs\n",
    "                        )"
   ]
  },
  {
   "cell_type": "code",
   "execution_count": 127,
   "metadata": {},
   "outputs": [],
   "source": [
    "documenter.document(name= configs[\"name\"])"
   ]
  },
  {
   "cell_type": "code",
   "execution_count": 128,
   "metadata": {},
   "outputs": [
    {
     "data": {
      "text/plain": [
       "({'chat': 0, 'streaming': 1, 'control': 2}, 519)"
      ]
     },
     "execution_count": 128,
     "metadata": {},
     "output_type": "execute_result"
    }
   ],
   "source": [
    "test_dataset.label_to_index, len(test_dataset)"
   ]
  },
  {
   "cell_type": "code",
   "execution_count": 129,
   "metadata": {},
   "outputs": [
    {
     "data": {
      "text/plain": [
       "{'micro_f1': 0.9980732177263969,\n",
       " 'macro_f1': 0.9970280989888832,\n",
       " 'accuracy': 0.9980732177263969,\n",
       " 'cm': array([[ 67,   1,   0],\n",
       "        [  0, 331,   0],\n",
       "        [  0,   0, 120]]),\n",
       " 'time': 7.853564547206166,\n",
       " 'incorrect_ood': 0.0,\n",
       " 'ood_accuracy': 1.0,\n",
       " 'ood_time': 14.96078431372549}"
      ]
     },
     "execution_count": 129,
     "metadata": {},
     "output_type": "execute_result"
    }
   ],
   "source": [
    "EarlyEvaluation(min_steps= 1,device= device,model= ddq_model.best[\"model\"]).getMetrices(dataset= test_dataset,ood_dataset= ood_dataset)"
   ]
  },
  {
   "cell_type": "code",
   "execution_count": null,
   "metadata": {},
   "outputs": [],
   "source": []
  },
  {
   "cell_type": "code",
   "execution_count": null,
   "metadata": {},
   "outputs": [
    {
     "data": {
      "text/plain": [
       "[<matplotlib.lines.Line2D at 0x74878ae2de40>]"
      ]
     },
     "execution_count": 28,
     "metadata": {},
     "output_type": "execute_result"
    },
    {
     "data": {
      "image/png": "[encoded data removed]",
      "text/plain": [
       "<Figure size 640x480 with 1 Axes>"
      ]
     },
     "metadata": {},
     "output_type": "display_data"
    }
   ],
   "source": [
    "plt.plot(logger.getMetric(\"test_eval_f1\"))"
   ]
  },
  {
   "cell_type": "code",
   "execution_count": null,
   "metadata": {},
   "outputs": [
    {
     "ename": "RuntimeError",
     "evalue": "CUDA error: unspecified launch failure\nCUDA kernel errors might be asynchronously reported at some other API call, so the stacktrace below might be incorrect.\nFor debugging consider passing CUDA_LAUNCH_BLOCKING=1.\nCompile with `TORCH_USE_CUDA_DSA` to enable device-side assertions.\n",
     "output_type": "error",
     "traceback": [
      "\u001b[0;31m---------------------------------------------------------------------------\u001b[0m",
      "\u001b[0;31mRuntimeError\u001b[0m                              Traceback (most recent call last)",
      "Cell \u001b[0;32mIn[17], line 1\u001b[0m\n\u001b[0;32m----> 1\u001b[0m res \u001b[38;5;241m=\u001b[39m \u001b[43mddq_model\u001b[49m\u001b[38;5;241;43m.\u001b[39;49m\u001b[43meval\u001b[49m\u001b[43m(\u001b[49m\u001b[43mdataset\u001b[49m\u001b[38;5;241;43m=\u001b[39;49m\u001b[43m \u001b[49m\u001b[43mtest_dataset\u001b[49m\u001b[43m)\u001b[49m\n\u001b[1;32m      2\u001b[0m res\n",
      "File \u001b[0;32m~/Desktop/UNSW/flowprintOptimal/sekigo/earlyClassification/DQL/trainers.py:153\u001b[0m, in \u001b[0;36mEarlyClassificationtrainer.eval\u001b[0;34m(self, dataset)\u001b[0m\n\u001b[1;32m    152\u001b[0m \u001b[38;5;28;01mdef\u001b[39;00m \u001b[38;5;21meval\u001b[39m(\u001b[38;5;28mself\u001b[39m,dataset : BaseFlowDataset):\n\u001b[0;32m--> 153\u001b[0m     predictions \u001b[38;5;241m=\u001b[39m \u001b[38;5;28;43mself\u001b[39;49m\u001b[38;5;241;43m.\u001b[39;49m\u001b[43mpredictOnDataset\u001b[49m\u001b[43m(\u001b[49m\u001b[43mdataset\u001b[49m\u001b[38;5;241;43m=\u001b[39;49m\u001b[43m \u001b[49m\u001b[43mdataset\u001b[49m\u001b[43m)\u001b[49m\n\u001b[1;32m    154\u001b[0m     labels \u001b[38;5;241m=\u001b[39m \u001b[38;5;28mlist\u001b[39m(\u001b[38;5;28mmap\u001b[39m(\u001b[38;5;28;01mlambda\u001b[39;00m x : x[\u001b[38;5;124m\"\u001b[39m\u001b[38;5;124mlabel\u001b[39m\u001b[38;5;124m\"\u001b[39m], dataset))\n\u001b[1;32m    156\u001b[0m     predicted_labels,time \u001b[38;5;241m=\u001b[39m [],[]\n",
      "File \u001b[0;32m~/Desktop/UNSW/flowprintOptimal/sekigo/earlyClassification/DQL/trainers.py:140\u001b[0m, in \u001b[0;36mEarlyClassificationtrainer.predictOnDataset\u001b[0;34m(self, dataset)\u001b[0m\n\u001b[1;32m    138\u001b[0m predictions \u001b[38;5;241m=\u001b[39m []\n\u001b[1;32m    139\u001b[0m \u001b[38;5;28;01mfor\u001b[39;00m batch \u001b[38;5;129;01min\u001b[39;00m dataloader:\n\u001b[0;32m--> 140\u001b[0m     batch_X,batch_y \u001b[38;5;241m=\u001b[39m \u001b[43mbatch\u001b[49m\u001b[43m[\u001b[49m\u001b[38;5;124;43m\"\u001b[39;49m\u001b[38;5;124;43mdata\u001b[39;49m\u001b[38;5;124;43m\"\u001b[39;49m\u001b[43m]\u001b[49m\u001b[38;5;241;43m.\u001b[39;49m\u001b[43mfloat\u001b[49m\u001b[43m(\u001b[49m\u001b[43m)\u001b[49m\u001b[38;5;241;43m.\u001b[39;49m\u001b[43mto\u001b[49m\u001b[43m(\u001b[49m\u001b[38;5;28;43mself\u001b[39;49m\u001b[38;5;241;43m.\u001b[39;49m\u001b[43mdevice\u001b[49m\u001b[43m)\u001b[49m, batch[\u001b[38;5;124m\"\u001b[39m\u001b[38;5;124mlabel\u001b[39m\u001b[38;5;124m\"\u001b[39m]\u001b[38;5;241m.\u001b[39mto(\u001b[38;5;28mself\u001b[39m\u001b[38;5;241m.\u001b[39mdevice)\n\u001b[1;32m    141\u001b[0m     predicted \u001b[38;5;241m=\u001b[39m \u001b[38;5;28mself\u001b[39m\u001b[38;5;241m.\u001b[39mpredictStep(batch_X \u001b[38;5;241m=\u001b[39m batch_X)\u001b[38;5;241m.\u001b[39mcpu()\u001b[38;5;241m.\u001b[39mnumpy() \u001b[38;5;66;03m# (BS,seq_len)\u001b[39;00m\n\u001b[1;32m    142\u001b[0m     processed_predictions \u001b[38;5;241m=\u001b[39m \u001b[38;5;28mmap\u001b[39m(\u001b[38;5;28;01mlambda\u001b[39;00m x : \u001b[38;5;28mself\u001b[39m\u001b[38;5;241m.\u001b[39m__processSinglePrediction(x,\u001b[38;5;28mlen\u001b[39m(dataset\u001b[38;5;241m.\u001b[39mlabel_to_index)), predicted)\n",
      "\u001b[0;31mRuntimeError\u001b[0m: CUDA error: unspecified launch failure\nCUDA kernel errors might be asynchronously reported at some other API call, so the stacktrace below might be incorrect.\nFor debugging consider passing CUDA_LAUNCH_BLOCKING=1.\nCompile with `TORCH_USE_CUDA_DSA` to enable device-side assertions.\n"
     ]
    }
   ],
   "source": [
    "res = ddq_model.eval(dataset= test_dataset)\n",
    "res"
   ]
  },
  {
   "cell_type": "code",
   "execution_count": null,
   "metadata": {},
   "outputs": [],
   "source": [
    "preds = ddq_model.predictOnDataset(dataset= test_dataset)\n",
    "preds = np.array(preds)[:,0]\n",
    "labels = list(map(lambda x : x[\"label\"], test_dataset))"
   ]
  },
  {
   "cell_type": "code",
   "execution_count": null,
   "metadata": {},
   "outputs": [],
   "source": [
    "preds[(preds == -1)] = 0"
   ]
  },
  {
   "cell_type": "code",
   "execution_count": null,
   "metadata": {},
   "outputs": [
    {
     "data": {
      "text/plain": [
       "{'BROWSERS': 0, 'P2P': 1, 'OTHER': 2, 'Skype': 3, 'MAIL': 4}"
      ]
     },
     "execution_count": 27,
     "metadata": {},
     "output_type": "execute_result"
    }
   ],
   "source": [
    "test_dataset.label_to_index"
   ]
  },
  {
   "cell_type": "code",
   "execution_count": null,
   "metadata": {},
   "outputs": [
    {
     "data": {
      "text/plain": [
       "array([[1796,    6,  302,  347,    6],\n",
       "       [  23, 2398,   17,    8,    8],\n",
       "       [ 501,   10, 1258,  209,   21],\n",
       "       [ 195,   12,   63, 1811,    3],\n",
       "       [  66,   13,   22,   16, 1113]])"
      ]
     },
     "execution_count": 26,
     "metadata": {},
     "output_type": "execute_result"
    }
   ],
   "source": [
    "\n",
    "\n",
    "confusion_matrix(y_true= labels,y_pred= preds)"
   ]
  },
  {
   "cell_type": "code",
   "execution_count": null,
   "metadata": {},
   "outputs": [],
   "source": [
    "test_dataset.label_to_index\n",
    "index_to_label = {x:y for y,x in test_dataset.label_to_index.items()}"
   ]
  },
  {
   "cell_type": "code",
   "execution_count": null,
   "metadata": {},
   "outputs": [],
   "source": [
    "labels = np.array(test_dataset.get_labels())\n",
    "unique_labels = np.unique(labels)\n",
    "res = ddq_model.predictOnDataset(test_dataset)\n",
    "res = np.array(res)[:,1]"
   ]
  },
  {
   "cell_type": "code",
   "execution_count": null,
   "metadata": {},
   "outputs": [],
   "source": [
    "ut_dct = dict()\n",
    "for label in unique_labels:\n",
    "    ut_dct[index_to_label[label]] =  res[labels == label].mean()"
   ]
  },
  {
   "cell_type": "code",
   "execution_count": null,
   "metadata": {},
   "outputs": [
    {
     "data": {
      "text/plain": [
       "{'google-maps': 9.732919254658386,\n",
       " 'youtube': 11.95539033457249,\n",
       " 'instagram': 12.003968253968255,\n",
       " 'pinterest': 9.855371900826446,\n",
       " 'spotify': 11.63953488372093,\n",
       " 'facebook': 11.846456692913385,\n",
       " 'google-drive': 8.884146341463415,\n",
       " 'twitter': 10.19186046511628,\n",
       " 'netflix': 9.655581947743467,\n",
       " 'reddit': 11.238235294117647,\n",
       " 'hangout': 8.974025974025974,\n",
       " 'messenger': 12.655913978494624,\n",
       " 'gmail': 11.673684210526316}"
      ]
     },
     "execution_count": 129,
     "metadata": {},
     "output_type": "execute_result"
    }
   ],
   "source": [
    "ut_dct"
   ]
  },
  {
   "cell_type": "code",
   "execution_count": null,
   "metadata": {},
   "outputs": [
    {
     "data": {
      "image/png": "[encoded data removed]",
      "text/plain": [
       "<Figure size 1500x600 with 3 Axes>"
      ]
     },
     "metadata": {},
     "output_type": "display_data"
    }
   ],
   "source": [
    "import matplotlib.pyplot as plt\n",
    "import numpy as np\n",
    "import matplotlib.gridspec as gridspec\n",
    "\n",
    "def getDataDct(dct):\n",
    "    X,y = [],[]\n",
    "    for key,value in dct.items():\n",
    "        X.append(key)\n",
    "        y.append(value)\n",
    "    return X,y\n",
    "# Sample data for 4 datasets, each containing classes and corresponding values\n",
    "class_data = {\n",
    "    'UTMobileNet-2021': ut_dct,\n",
    "    'VNAT': {'Streaming': 6.19, 'Control': 6.25, 'Chat': 6.05, 'FT': 7.07},\n",
    "    'UNIBS-2009': {'Mail': 9.75, 'Skype': 10.17, 'Browsers': 6.48, 'P2P': 7.28, 'Others': 8.62},\n",
    "}\n",
    "\n",
    "\n",
    "\n",
    "f, axes = plt.subplots(1, len(class_data), sharex='col', sharey='row', figsize=(15, 6),gridspec_kw={'width_ratios':[11,4,5]})\n",
    "\n",
    "for i,dataset in enumerate(class_data):\n",
    "    X,y = getDataDct(class_data[dataset])\n",
    "    axes[i].bar(X,y)\n",
    "    axes[i].set_title(dataset)\n",
    "    axes[i].tick_params(axis='x', rotation=70,labelsize = 11)\n",
    "    if i == 0:\n",
    "        axes[i].set_ylabel('Number of Packets')  # Set y-axis label\n",
    "\n",
    "\n",
    "\n",
    "plt.tight_layout()\n",
    "plt.show()\n"
   ]
  },
  {
   "cell_type": "code",
   "execution_count": null,
   "metadata": {},
   "outputs": [
    {
     "data": {
      "text/plain": [
       "9.732919254658386"
      ]
     },
     "execution_count": 91,
     "metadata": {},
     "output_type": "execute_result"
    }
   ],
   "source": [
    "res[labels == 0].mean()"
   ]
  },
  {
   "cell_type": "code",
   "execution_count": null,
   "metadata": {},
   "outputs": [
    {
     "data": {
      "text/plain": [
       "[<matplotlib.lines.Line2D at 0x765f801d4220>]"
      ]
     },
     "execution_count": 31,
     "metadata": {},
     "output_type": "execute_result"
    },
    {
     "data": {
      "image/png": "[encoded data removed]",
      "text/plain": [
       "<Figure size 640x480 with 1 Axes>"
      ]
     },
     "metadata": {},
     "output_type": "display_data"
    }
   ],
   "source": [
    "plt.plot(logger.getMetric(\"test_eval_f1\"))"
   ]
  },
  {
   "cell_type": "code",
   "execution_count": null,
   "metadata": {},
   "outputs": [
    {
     "data": {
      "text/plain": [
       "64"
      ]
     },
     "execution_count": 32,
     "metadata": {},
     "output_type": "execute_result"
    }
   ],
   "source": [
    "np.argmax(np.array(logger.getMetric(metric_name= \"test_eval_f1\")))"
   ]
  },
  {
   "cell_type": "code",
   "execution_count": null,
   "metadata": {},
   "outputs": [
    {
     "data": {
      "text/plain": [
       "7.814477468839885"
      ]
     },
     "execution_count": 34,
     "metadata": {},
     "output_type": "execute_result"
    }
   ],
   "source": [
    "logger.getMetric(metric_name= \"test_eval_time\")[64]"
   ]
  },
  {
   "cell_type": "code",
   "execution_count": null,
   "metadata": {},
   "outputs": [
    {
     "data": {
      "text/plain": [
       "0.9775886864813039"
      ]
     },
     "execution_count": 35,
     "metadata": {},
     "output_type": "execute_result"
    }
   ],
   "source": [
    "logger.getMetric(metric_name= \"test_eval_f1\")[64]"
   ]
  },
  {
   "cell_type": "code",
   "execution_count": null,
   "metadata": {},
   "outputs": [],
   "source": []
  }
 ],
 "metadata": {
  "kernelspec": {
   "display_name": "Python 3",
   "language": "python",
   "name": "python3"
  },
  "language_info": {
   "codemirror_mode": {
    "name": "ipython",
    "version": 3
   },
   "file_extension": ".py",
   "mimetype": "text/x-python",
   "name": "python",
   "nbconvert_exporter": "python",
   "pygments_lexer": "ipython3",
   "version": "3.10.12"
  }
 },
 "nbformat": 4,
 "nbformat_minor": 2
}
