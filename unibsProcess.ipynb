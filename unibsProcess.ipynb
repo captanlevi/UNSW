{
 "cells": [
  {
   "cell_type": "code",
   "execution_count": 1,
   "metadata": {},
   "outputs": [],
   "source": [
    "from scapy.all import *\n",
    "import json\n",
    "import numpy as np\n",
    "import datetime\n",
    "from tqdm import tqdm\n",
    "import pandas as pd\n",
    "from flowprintOptimal.sekigo.core.flowRepresentation import PacketFlowRepressentation\n",
    "from flowprintOptimal.sekigo.flowUtils.commons import saveFlows,loadFlows,normalizePacketRep"
   ]
  },
  {
   "cell_type": "code",
   "execution_count": 2,
   "metadata": {},
   "outputs": [],
   "source": [
    "lines = []\n",
    "with open(\"data/unibs/groundtruth.log\") as f:\n",
    "    for i,line in enumerate(f):\n",
    "        #line = json.loads(line)\n",
    "        if i != 0:\n",
    "            lines.append(line.replace(\"\\n\", \"\").strip().split(\":\"))"
   ]
  },
  {
   "cell_type": "code",
   "execution_count": 3,
   "metadata": {},
   "outputs": [
    {
     "data": {
      "text/plain": [
       "['1254511279.597053',\n",
       " '245.234.7.140',\n",
       " '108.191.65.104',\n",
       " '55449',\n",
       " '4662',\n",
       " 'NOMATCH',\n",
       " 'amule',\n",
       " 'TCP']"
      ]
     },
     "execution_count": 3,
     "metadata": {},
     "output_type": "execute_result"
    }
   ],
   "source": [
    "lines[-12]"
   ]
  },
  {
   "cell_type": "code",
   "execution_count": 8,
   "metadata": {},
   "outputs": [],
   "source": [
    "conns = dict()\n",
    "rev_conns = []\n",
    "for line in lines:\n",
    "    conn = (line[1], line[2], line[3], line[4],line[7])\n",
    "    rev_conn = (line[2], line[1], line[4], line[3])\n",
    "    rev_conns.append(rev_conn)\n",
    "    if conn not in conns:\n",
    "        conns[conn] = dict(label = line[6], timestamp = line[0])\n",
    "\n",
    "\n",
    "for rev_conn in rev_conns:\n",
    "    assert rev_conn not in conns\n",
    "\n"
   ]
  },
  {
   "cell_type": "code",
   "execution_count": 12,
   "metadata": {},
   "outputs": [
    {
     "data": {
      "text/plain": [
       "{'label': 'firefox-bin', 'timestamp': '1254472293.798359'}"
      ]
     },
     "execution_count": 12,
     "metadata": {},
     "output_type": "execute_result"
    }
   ],
   "source": [
    "conns[list(conns.keys())[np.random.randint(len(conns))]]"
   ]
  },
  {
   "cell_type": "code",
   "execution_count": null,
   "metadata": {},
   "outputs": [],
   "source": []
  },
  {
   "cell_type": "code",
   "execution_count": 6,
   "metadata": {},
   "outputs": [
    {
     "name": "stderr",
     "output_type": "stream",
     "text": [
      "4190465it [08:05, 8637.98it/s]\n",
      "3322174it [06:16, 8827.37it/s]\n",
      "25863295it [50:22, 8555.60it/s]\n"
     ]
    }
   ],
   "source": [
    "flows = dict()\n",
    "proto_map = {17 : \"UDP\", 6 : \"TCP\"}\n",
    "\n",
    "\n",
    "def addPacketToFlows(key,length,direction,timestamp,label):\n",
    "    if key not in flows:\n",
    "        flows[key] = dict(lengths = [],directions = [], timestamps = [])\n",
    "    flows[key][\"lengths\"].append(length)\n",
    "    flows[key][\"directions\"].append(direction)\n",
    "    flows[key][\"timestamps\"].append(timestamp)\n",
    "    flows[key][\"label\"] = label\n",
    "\n",
    "\n",
    "\n",
    "pcap_paths = [\"data/unibs/unibs20090930.anon.pcap\", \"data/unibs/unibs20091001.anon.pcap\",\"data/unibs/unibs20091002.anon.pcap\"]\n",
    "for pcap_path in pcap_paths:\n",
    "\n",
    "    with PcapReader(pcap_path) as pcap:\n",
    "        for packet in tqdm(pcap):\n",
    "            payload = packet.payload\n",
    "            src,dst,sport,dport,proto = payload.src,payload.dst,str(payload.sport),str(payload.dport),proto_map[payload.proto]\n",
    "            conn = (src,dst,sport,dport,proto)\n",
    "            rev_conn = (dst,src,dport,sport,proto)\n",
    "            length = payload.len\n",
    "            timestamp = datetime.datetime.fromtimestamp(float(packet.time))\n",
    "            \n",
    "\n",
    "            if conn in conns:\n",
    "                label = conns[conn]\n",
    "                addPacketToFlows(key= conn,length= length,direction= 0,timestamp= timestamp,label= label)\n",
    "            elif rev_conn in conns:\n",
    "                label = conns[rev_conn]\n",
    "                addPacketToFlows(key= rev_conn, length= length,direction= 1, timestamp= timestamp, label= label)\n",
    "\n",
    "for key in list(flows.keys()):\n",
    "    t1 = flows[key][\"timestamps\"][0]\n",
    "    t2 = float(flows[key][\"label\"][\"timestamp\"])\n",
    "    t2 = datetime.datetime.fromtimestamp(t2)\n",
    "\n",
    "    if t1 != t2:\n",
    "        flows.pop(key)\n",
    "            "
   ]
  },
  {
   "cell_type": "code",
   "execution_count": 7,
   "metadata": {},
   "outputs": [],
   "source": [
    "packet_flow_reps = []\n",
    "for value in flows.values():\n",
    "    lengths = value[\"lengths\"]\n",
    "    directions = value[\"directions\"]\n",
    "    timestamps = value[\"timestamps\"]\n",
    "    label = value[\"label\"][\"label\"]\n",
    "    lengths = [x for _, x in sorted(zip(timestamps, lengths), key=lambda pair: pair[0])]\n",
    "    directions = [x for _, x in sorted(zip(timestamps, directions), key=lambda pair: pair[0])]\n",
    "    timestamps.sort()\n",
    "    lengths,inter_arrival_times,directions = normalizePacketRep(lengths= lengths,timestamps= timestamps,directions= directions)\n",
    "    packet_flow_reps.append(PacketFlowRepressentation(lengths= lengths,directions= directions, inter_arrival_times= inter_arrival_times,class_type= label))"
   ]
  },
  {
   "cell_type": "code",
   "execution_count": 8,
   "metadata": {},
   "outputs": [
    {
     "data": {
      "text/plain": [
       "75388"
      ]
     },
     "execution_count": 8,
     "metadata": {},
     "output_type": "execute_result"
    }
   ],
   "source": [
    "len(flows)"
   ]
  },
  {
   "cell_type": "code",
   "execution_count": 9,
   "metadata": {},
   "outputs": [],
   "source": [
    "saveFlows(path= \"data/unibs/unibs.json\",flows= packet_flow_reps)"
   ]
  },
  {
   "cell_type": "code",
   "execution_count": 10,
   "metadata": {},
   "outputs": [],
   "source": [
    "all_inter_arrival_times = []\n",
    "for p in packet_flow_reps:\n",
    "    all_inter_arrival_times.extend(p.inter_arrival_times)"
   ]
  },
  {
   "cell_type": "code",
   "execution_count": 11,
   "metadata": {},
   "outputs": [
    {
     "data": {
      "text/plain": [
       "1.0076848550404414"
      ]
     },
     "execution_count": 11,
     "metadata": {},
     "output_type": "execute_result"
    }
   ],
   "source": []
  },
  {
   "cell_type": "code",
   "execution_count": 12,
   "metadata": {},
   "outputs": [],
   "source": [
    "packet_flow_reps = list(filter(lambda x : len(x) >= 30,packet_flow_reps))"
   ]
  },
  {
   "cell_type": "code",
   "execution_count": 13,
   "metadata": {},
   "outputs": [
    {
     "data": {
      "text/plain": [
       "23205"
      ]
     },
     "execution_count": 13,
     "metadata": {},
     "output_type": "execute_result"
    }
   ],
   "source": [
    "len(packet_flow_reps)"
   ]
  },
  {
   "cell_type": "code",
   "execution_count": 14,
   "metadata": {},
   "outputs": [
    {
     "data": {
      "text/plain": [
       "[0.042666666666666665,\n",
       " 0.04,\n",
       " 0.034666666666666665,\n",
       " 0.10266666666666667,\n",
       " 0.034666666666666665,\n",
       " 0.98,\n",
       " 0.196,\n",
       " 0.034666666666666665,\n",
       " 0.12733333333333333,\n",
       " 0.034666666666666665,\n",
       " 0.06333333333333334,\n",
       " 0.034666666666666665,\n",
       " 0.06333333333333334,\n",
       " 0.092,\n",
       " 0.034666666666666665,\n",
       " 0.034666666666666665,\n",
       " 0.066,\n",
       " 0.034666666666666665,\n",
       " 0.058666666666666666,\n",
       " 0.034666666666666665,\n",
       " 0.059333333333333335,\n",
       " 0.034666666666666665,\n",
       " 0.058,\n",
       " 0.034666666666666665,\n",
       " 0.05266666666666667,\n",
       " 0.034666666666666665,\n",
       " 0.05466666666666667,\n",
       " 0.034666666666666665,\n",
       " 0.05266666666666667,\n",
       " 0.058666666666666666,\n",
       " 0.034666666666666665,\n",
       " 0.034666666666666665,\n",
       " 0.034666666666666665,\n",
       " 0.05,\n",
       " 0.034666666666666665,\n",
       " 0.02666666666666667,\n",
       " 0.02666666666666667]"
      ]
     },
     "execution_count": 14,
     "metadata": {},
     "output_type": "execute_result"
    }
   ],
   "source": [
    "packet_flow_reps[0].lengths"
   ]
  },
  {
   "cell_type": "code",
   "execution_count": 15,
   "metadata": {},
   "outputs": [
    {
     "data": {
      "text/plain": [
       "firefox-bin         7316\n",
       "Safari              5010\n",
       "Mail                3813\n",
       "Transmission        1958\n",
       "amule               1763\n",
       "Skype                550\n",
       "Safari Webpage P     492\n",
       "firefox.exe          481\n",
       "firefox              407\n",
       "PubSubAgent          268\n",
       "privoxy              236\n",
       "bittorrent.exe       235\n",
       "thunderbird-bin      164\n",
       "Safari Webpage       143\n",
       "ashWebSv.exe          69\n",
       "opera                 64\n",
       "adeona-client.ex      50\n",
       "svn                   28\n",
       "ssh                   27\n",
       "kdeinit4              26\n",
       "Microsoft Messen      21\n",
       "Skype.exe             19\n",
       "iTunes                13\n",
       "SubmitDiagInfo         8\n",
       "DashboardClient        7\n",
       "iCal                   6\n",
       "svchost.exe            5\n",
       "skype                  5\n",
       "Adobe Updater          3\n",
       "Skim                   2\n",
       "GoogleSoftwareUp       2\n",
       "Software Update        2\n",
       "msmsgs.exe             2\n",
       "ntpd                   2\n",
       "thunderbird.exe        2\n",
       "Microsoft AutoUp       1\n",
       "Microsoft AU Dae       1\n",
       "SubmitReport           1\n",
       "SoftwareUpdateCh       1\n",
       "freshclam              1\n",
       "GoogleSoftwareU        1\n",
       "Name: count, dtype: int64"
      ]
     },
     "execution_count": 15,
     "metadata": {},
     "output_type": "execute_result"
    }
   ],
   "source": [
    "pd.Series(map(lambda x : x.class_type,packet_flow_reps)).value_counts()"
   ]
  },
  {
   "cell_type": "code",
   "execution_count": null,
   "metadata": {},
   "outputs": [],
   "source": []
  }
 ],
 "metadata": {
  "kernelspec": {
   "display_name": "Python 3",
   "language": "python",
   "name": "python3"
  },
  "language_info": {
   "codemirror_mode": {
    "name": "ipython",
    "version": 3
   },
   "file_extension": ".py",
   "mimetype": "text/x-python",
   "name": "python",
   "nbconvert_exporter": "python",
   "pygments_lexer": "ipython3",
   "version": "3.10.12"
  }
 },
 "nbformat": 4,
 "nbformat_minor": 2
}
