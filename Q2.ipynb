{
 "cells": [
  {
   "cell_type": "code",
   "execution_count": 1,
   "metadata": {},
   "outputs": [],
   "source": [
    "from tqdm import tqdm\n",
    "from typing import List, Dict\n",
    "import datetime\n",
    "import numpy as np\n",
    "import pandas as pd\n",
    "import matplotlib.pyplot as plt\n",
    "from flowprintOptimal.sekigo.core.flowRepresentation import FlowRepresentation,PacketFlowRepressentation,TimeslotRepresentation\n",
    "from flowprintOptimal.sekigo.dataAnalysis.vNATDataFrameProcessor import VNATDataFrameProcessor\n",
    "from flowprintOptimal.sekigo.core.flowConfig import FlowConfig\n",
    "import random\n",
    "from flowprintOptimal.sekigo.flowUtils.flowDatasets import PacketFlowDataset, BaseFlowDataset, DDQNActivityDataset\n",
    "from torch.utils.data import Dataset,DataLoader\n",
    "from torchsampler import ImbalancedDatasetSampler\n",
    "from sklearn.model_selection import train_test_split\n",
    "from flowprintOptimal.sekigo.flowUtils.commons import normalizePacketRep\n",
    "import os\n",
    "from joblib import Parallel, delayed\n",
    "from flowprintOptimal.sekigo.flowUtils.commons import saveFlows,loadFlows\n",
    "from flowprintOptimal.sekigo.dataAnalysis.dataFrameProcessor import UTMobileNetProcessor\n",
    "from flowprintOptimal.sekigo.flowUtils.dataGetter import getTrainTestOOD\n",
    "from sklearn.metrics import confusion_matrix\n",
    "import json\n",
    "from flowprintOptimal.sekigo.modeling.trainers import NNClassificationTrainer\n",
    "from flowprintOptimal.sekigo.modeling.neuralNetworks import LSTMNetwork,TransformerGenerator,CNNNetwork1D, LSTMDuelingNetwork\n",
    "from flowprintOptimal.sekigo.modeling.loggers import Logger\n",
    "import torch\n",
    "device = torch.device(\"cuda\" if torch.cuda.is_available() else \"cpu\")\n",
    "#device = torch.device(\"cpu\")\n",
    "from flowprintOptimal.sekigo.earlyClassification.DQL.core import MemoryElement,Rewarder,State,SumTree\n",
    "from flowprintOptimal.sekigo.earlyClassification.DQL.pMemory import PMemory\n",
    "from flowprintOptimal.sekigo.earlyClassification.DQL.memoryFiller import MemoryFiller\n",
    "from flowprintOptimal.sekigo.earlyClassification.DQL.datasets import MemoryDataset\n",
    "from flowprintOptimal.sekigo.earlyClassification.DQL.trainers import EarlyClassificationtrainer,PEarlyClassificationTrainer\n",
    "from flowprintOptimal.sekigo.utils.documentor import Documenter\n",
    "from flowprintOptimal.sekigo.utils.evaluations import Evaluator,EarlyEvaluation\n",
    "import warnings\n",
    "from copy import deepcopy\n",
    "import torch.nn as nn\n",
    "\n",
    "\n",
    "\n",
    "warnings.filterwarnings('ignore')"
   ]
  },
  {
   "cell_type": "code",
   "execution_count": 2,
   "metadata": {},
   "outputs": [],
   "source": [
    "configs = dict(\n",
    "    name = \"UNIBS_no_sample_ood_dueling_P\",\n",
    "    description = \"No Sample UTMobileNet dueling, reward function gives out 0 for ood with priority (.35,.4)\",\n",
    "    \n",
    "    common_config = dict(\n",
    "        max_timesteps = 15,\n",
    "        min_timesteps = 8\n",
    "    ),\n",
    "    \n",
    "    full_model_kwargs = dict(\n",
    "        lstm_hidden_size = 256,\n",
    "        layers= 2, lstm_input_size = 3\n",
    "    ),\n",
    "\n",
    "    early_model_kwargs = dict(\n",
    "        lstm_input_size= 3,lstm_hidden_size= 256,layers = 2                    \n",
    "    ),\n",
    "    \n",
    "    data_config = dict(\n",
    "        dataset_name = \"unibs\",\n",
    "        subsampleConfig = None,#dict(max_gap = 20, min_gap = 5),                             \n",
    "        max_flow_length = 80, # in seconds  ( each flow sample cannot excede this length)\n",
    "        test_size = .2,\n",
    "        ood_classes = [\"Skype\"],\n",
    "        do_balance = False,\n",
    "        data_type = \"packet_representation\"\n",
    "\n",
    "    ),\n",
    "\n",
    "    rewarder_config = dict(\n",
    "        l = .5\n",
    "    ),\n",
    "\n",
    "    dataset_config = dict(\n",
    "        aug = [0,.2]\n",
    "    ),\n",
    "\n",
    "    memory_fillter_config = dict(\n",
    "        ood_config = dict(ood_aug = [.6,.9], ood_prob = .2),\n",
    "        min_length = 5,\n",
    "        use_balancer = False\n",
    "    ),\n",
    "    full_trainer_config = dict(\n",
    "        use_sampler = False\n",
    "    ),\n",
    "    early_trainer_config = dict(\n",
    "        use_sampler = False  # this is for giving more weight to wait samples\n",
    "    )\n",
    "\n",
    ")"
   ]
  },
  {
   "cell_type": "code",
   "execution_count": 3,
   "metadata": {},
   "outputs": [
    {
     "name": "stdout",
     "output_type": "stream",
     "text": [
      "full class distrubation\n",
      "BROWSERS    42855\n",
      "P2P         21514\n",
      "OTHER        5218\n",
      "MAIL         4521\n",
      "Skype        1280\n",
      "Name: count, dtype: int64\n",
      "using no sampling\n",
      "filtering max_flow_length = 80\n",
      "post num packet filter class distrubation\n",
      "BROWSERS    39999\n",
      "P2P         20831\n",
      "OTHER        4779\n",
      "MAIL         4516\n",
      "Skype        1056\n",
      "Name: count, dtype: int64\n",
      "------------------------------\n",
      "train class distrubation\n",
      "BROWSERS    31933\n",
      "P2P         16668\n",
      "OTHER        3873\n",
      "MAIL         3626\n",
      "Name: count, dtype: int64\n",
      "test class distrubation\n",
      "BROWSERS    8066\n",
      "P2P         4163\n",
      "OTHER        906\n",
      "MAIL         890\n",
      "Name: count, dtype: int64\n"
     ]
    }
   ],
   "source": [
    "train_flows,test_flows,ood_flows = getTrainTestOOD(**configs[\"data_config\"], max_timesteps= configs[\"common_config\"][\"max_timesteps\"],\n",
    "                                                   min_timesteps= configs[\"common_config\"][\"min_timesteps\"]\n",
    "                                                   )"
   ]
  },
  {
   "cell_type": "code",
   "execution_count": 4,
   "metadata": {},
   "outputs": [],
   "source": [
    "if configs[\"data_config\"][\"data_type\"] == \"packet_representation\":\n",
    "    train_dataset = PacketFlowDataset(flows= train_flows,label_to_index= None,aug= configs[\"dataset_config\"][\"aug\"])\n",
    "    test_dataset = PacketFlowDataset(flows= test_flows,label_to_index= train_dataset.label_to_index)\n",
    "    ood_dataset = PacketFlowDataset(flows= ood_flows, label_to_index= None) if (ood_flows != None and len(ood_flows) != 0) else None\n",
    "else:\n",
    "    train_dataset = DDQNActivityDataset(flows= train_flows,label_to_index= None, aug= configs[\"dataset_config\"][\"aug\"])\n",
    "    test_dataset = DDQNActivityDataset(flows= test_flows,label_to_index= train_dataset.label_to_index)\n",
    "    ood_dataset = DDQNActivityDataset(flows= ood_flows, label_to_index= None) if (ood_flows != None and len(ood_flows) != 0) else None\n",
    "\n",
    "    configs[\"early_model_kwargs\"][\"lstm_input_size\"] = 7\n",
    "    configs[\"full_model_kwargs\"][\"lstm_input_size\"] = 7\n",
    "\n",
    "\n",
    "num_labels = len(train_dataset.label_to_index)\n",
    "configs[\"full_model_kwargs\"][\"output_dim\"] = num_labels \n",
    "configs[\"early_model_kwargs\"][\"output_dim\"] = num_labels + 1\n",
    "configs[\"rewarder_config\"][\"num_labels\"] = num_labels\n",
    "configs[\"rewarder_config\"][\"max_length\"] = configs[\"common_config\"][\"max_timesteps\"]"
   ]
  },
  {
   "cell_type": "code",
   "execution_count": 5,
   "metadata": {},
   "outputs": [],
   "source": [
    "#classifier_ = CNNNetwork1D( **configs[\"full_model_kwargs\"])#LSTMNetwork(lstm_hidden_size= 64,lstm_input_size=6,output_dim = len(all_train_dataset.label_to_index))\n",
    "classifier_ = LSTMNetwork(**configs[\"full_model_kwargs\"])\n",
    "logger= Logger(name= \"classification\",verbose= True)\n",
    "logger.default_step_size = 500\n",
    "classification_trainer = NNClassificationTrainer(classifier = classifier_,device= device,logger= logger)\n",
    "#classification_trainer.train(train_dataset= train_dataset,test_dataset= test_dataset,epochs=500,batch_size= 64,lr= .0003,use_balanced_sampler= configs[\"full_trainer_config\"][\"use_sampler\"])"
   ]
  },
  {
   "cell_type": "code",
   "execution_count": 6,
   "metadata": {},
   "outputs": [],
   "source": [
    "class Rewarder:\n",
    "    def __init__(self,max_length,l,num_labels : int):\n",
    "        self.max_length = max_length\n",
    "        self.l = l # l is smaller than 1\n",
    "        self.num_labels = num_labels\n",
    "\n",
    "    def reward(self,state : State,action : int):\n",
    "        if state.label == action:\n",
    "            # reward 1 on a correct prediction\n",
    "            return 1, True\n",
    "        else:\n",
    "            # either incorrect or wait\n",
    "            # wait \n",
    "            # treat the wait action with a negative reward\n",
    "            if action == self.num_labels:\n",
    "                if state.length == len(state.timeseries):\n",
    "                    # it is the last timestamp\n",
    "                    if state.label == -1:\n",
    "                        return 0, True#-self.l*(state.length/self.max_length),True\n",
    "                    else:\n",
    "                        return -self.l/self.max_length, True\n",
    "                else:\n",
    "                    if state.label == -1:\n",
    "                        return 0, False\n",
    "                    else:\n",
    "                        return  -self.l/self.max_length, False#-self.l*(state.length/self.max_length), False\n",
    "            else:\n",
    "                # incorrect\n",
    "                return -1,True"
   ]
  },
  {
   "cell_type": "code",
   "execution_count": 7,
   "metadata": {},
   "outputs": [],
   "source": [
    "rewarder = Rewarder(**configs[\"rewarder_config\"])\n",
    "memory_filler = MemoryFiller(dataset= train_dataset,rewarder= rewarder, min_length= configs[\"memory_fillter_config\"][\"min_length\"],\n",
    "                              max_length= rewarder.max_length,ood_config= configs[\"memory_fillter_config\"][\"ood_config\"], use_balancer= configs[\"memory_fillter_config\"][\"use_balancer\"]\n",
    "                              )"
   ]
  },
  {
   "cell_type": "code",
   "execution_count": 8,
   "metadata": {},
   "outputs": [
    {
     "name": "stdout",
     "output_type": "stream",
     "text": [
      "5668240\n"
     ]
    }
   ],
   "source": [
    "memory = memory_filler.processDataset()\n",
    "print(len(memory))"
   ]
  },
  {
   "cell_type": "code",
   "execution_count": 9,
   "metadata": {},
   "outputs": [],
   "source": [
    "p_memory = PMemory(memories= memory, capacity= 500000,batch_size= 128)\n",
    "predictor = LSTMDuelingNetwork(**configs[\"early_model_kwargs\"])\n",
    "logger = Logger(verbose= True)\n",
    "logger.default_step_size = 1000"
   ]
  },
  {
   "cell_type": "code",
   "execution_count": 10,
   "metadata": {},
   "outputs": [],
   "source": [
    "ddq_model = PEarlyClassificationTrainer(predictor= predictor,train_dataset = train_dataset,test_dataset= test_dataset,p_memory= p_memory,\n",
    "                                       ood_dataset= ood_dataset,min_length= configs[\"memory_fillter_config\"][\"min_length\"],\n",
    "                                       logger= logger,device=device,model_replacement_steps= 500)"
   ]
  },
  {
   "cell_type": "code",
   "execution_count": 11,
   "metadata": {},
   "outputs": [
    {
     "name": "stdout",
     "output_type": "stream",
     "text": [
      " ---- 1000 metric q_loss = 0.1400518084615469\n",
      " ---- 1 metric test_eval_f1 = 0.42173298726449615\n",
      " ---- 1 metric test_eval_time = 5.18602495543672\n",
      " ---- 1 metric incorrect_ood_test = 0.0\n",
      " ---- 1 metric ood_eval = 0.03598484848484849\n",
      " ---- 1 metric ood_eval_time = 6.035037878787879\n",
      " ---- 2000 metric q_loss = 0.13656904004514217\n",
      " ---- 2 metric test_eval_f1 = 0.46157585889996067\n",
      " ---- 2 metric test_eval_time = 6.5310459886841725\n",
      " ---- 2 metric incorrect_ood_test = 0.017040998217468805\n",
      " ---- 2 metric ood_eval = 0.10037878787878787\n",
      " ---- 2 metric ood_eval_time = 11.043560606060606\n",
      " ---- 1 metric train_eval_f1 = 0.4143934977332132\n",
      " ---- 1 metric train_eval_time = 6.282545998831775\n",
      " ---- 1 metric incorrect_ood_train = 0.023458110516934045\n",
      " ---- 3000 metric q_loss = 0.13939678977429867\n",
      " ---- 3 metric test_eval_f1 = 0.4514036797478512\n",
      " ---- 3 metric test_eval_time = 5.591268992082174\n",
      " ---- 3 metric incorrect_ood_test = 0.000427807486631016\n",
      " ---- 3 metric ood_eval = 0.04924242424242424\n",
      " ---- 3 metric ood_eval_time = 6.627840909090909\n",
      " ---- 4000 metric q_loss = 0.13870356768369674\n",
      " ---- 4 metric test_eval_f1 = 0.6696376280301777\n",
      " ---- 4 metric test_eval_time = 7.144573899025427\n",
      " ---- 4 metric incorrect_ood_test = 0.02695187165775401\n",
      " ---- 4 metric ood_eval = 0.07481060606060606\n",
      " ---- 4 metric ood_eval_time = 8.094696969696969\n",
      " ---- 2 metric train_eval_f1 = 0.6327077662008014\n",
      " ---- 2 metric train_eval_time = 7.602685992864748\n",
      " ---- 2 metric incorrect_ood_train = 0.04568627450980392\n",
      " ---- 5000 metric q_loss = 0.1365237613618374\n",
      " ---- 5 metric test_eval_f1 = 0.6596587436099661\n",
      " ---- 5 metric test_eval_time = 6.285105460849466\n",
      " ---- 5 metric incorrect_ood_test = 0.012905525846702317\n",
      " ---- 5 metric ood_eval = 0.05303030303030303\n",
      " ---- 5 metric ood_eval_time = 6.516098484848484\n",
      " ---- 6000 metric q_loss = 0.13490300822257995\n",
      " ---- 6 metric test_eval_f1 = 0.7013694858042472\n",
      " ---- 6 metric test_eval_time = 7.174209638377467\n",
      " ---- 6 metric incorrect_ood_test = 0.027950089126559715\n",
      " ---- 6 metric ood_eval = 0.08712121212121213\n",
      " ---- 6 metric ood_eval_time = 7.78219696969697\n",
      " ---- 3 metric train_eval_f1 = 0.6686488343716216\n",
      " ---- 3 metric train_eval_time = 7.65518521957107\n",
      " ---- 3 metric incorrect_ood_train = 0.04001782531194296\n",
      " ---- 7000 metric q_loss = 0.1335268634930253\n",
      " ---- 7 metric test_eval_f1 = 0.6992270154222986\n",
      " ---- 7 metric test_eval_time = 6.550141191803635\n",
      " ---- 7 metric incorrect_ood_test = 0.015258467023172906\n",
      " ---- 7 metric ood_eval = 0.05303030303030303\n",
      " ---- 7 metric ood_eval_time = 7.644886363636363\n",
      " ---- 8000 metric q_loss = 0.13316473251581193\n",
      " ---- 8 metric test_eval_f1 = 0.6956242660967957\n",
      " ---- 8 metric test_eval_time = 6.068806679142075\n",
      " ---- 8 metric incorrect_ood_test = 0.009340463458110517\n",
      " ---- 8 metric ood_eval = 0.054924242424242424\n",
      " ---- 8 metric ood_eval_time = 6.736742424242424\n",
      " ---- 4 metric train_eval_f1 = 0.6708686504665808\n",
      " ---- 4 metric train_eval_time = 6.310281959637532\n",
      " ---- 4 metric incorrect_ood_train = 0.01251336898395722\n",
      " ---- 9000 metric q_loss = 0.13250158154219388\n",
      " ---- 9 metric test_eval_f1 = 0.7004722600688025\n",
      " ---- 9 metric test_eval_time = 5.794058553386912\n",
      " ---- 9 metric incorrect_ood_test = 0.006345811051693405\n",
      " ---- 9 metric ood_eval = 0.03787878787878788\n",
      " ---- 9 metric ood_eval_time = 6.256628787878788\n",
      " ---- 10000 metric q_loss = 0.13003238479793072\n",
      " ---- 10 metric test_eval_f1 = 0.7107831099379119\n",
      " ---- 10 metric test_eval_time = 5.719060911888913\n",
      " ---- 10 metric incorrect_ood_test = 0.0038502673796791446\n",
      " ---- 10 metric ood_eval = 0.045454545454545456\n",
      " ---- 10 metric ood_eval_time = 6.5397727272727275\n",
      " ---- 5 metric train_eval_f1 = 0.6794464991241735\n",
      " ---- 5 metric train_eval_time = 5.883899821109123\n",
      " ---- 5 metric incorrect_ood_train = 0.0035650623885918\n",
      " ---- 11000 metric q_loss = 0.1285913506373763\n",
      " ---- 11 metric test_eval_f1 = 0.7026192996763002\n",
      " ---- 11 metric test_eval_time = 5.764097406795488\n",
      " ---- 11 metric incorrect_ood_test = 0.007415329768270945\n",
      " ---- 11 metric ood_eval = 0.04450757575757576\n",
      " ---- 11 metric ood_eval_time = 6.46969696969697\n",
      " ---- 12000 metric q_loss = 0.12957593501359224\n",
      " ---- 12 metric test_eval_f1 = 0.7009884395870991\n",
      " ---- 12 metric test_eval_time = 6.3364990287071015\n",
      " ---- 12 metric incorrect_ood_test = 0.008983957219251337\n",
      " ---- 12 metric ood_eval = 0.058712121212121215\n",
      " ---- 12 metric ood_eval_time = 6.419507575757576\n",
      " ---- 6 metric train_eval_f1 = 0.6857128014065326\n",
      " ---- 6 metric train_eval_time = 6.295588288385862\n",
      " ---- 6 metric incorrect_ood_train = 0.01251336898395722\n",
      " ---- 13000 metric q_loss = 0.12829907954111694\n",
      " ---- 13 metric test_eval_f1 = 0.7117669049989513\n",
      " ---- 13 metric test_eval_time = 6.416979226774379\n",
      " ---- 13 metric incorrect_ood_test = 0.011479500891265598\n",
      " ---- 13 metric ood_eval = 0.056818181818181816\n",
      " ---- 13 metric ood_eval_time = 8.709280303030303\n",
      " ---- 14000 metric q_loss = 0.13025735603272914\n",
      " ---- 14 metric test_eval_f1 = 0.7123973854662123\n",
      " ---- 14 metric test_eval_time = 6.515588747099768\n",
      " ---- 14 metric incorrect_ood_test = 0.01661319073083779\n",
      " ---- 14 metric ood_eval = 0.04261363636363636\n",
      " ---- 14 metric ood_eval_time = 8.563446969696969\n",
      " ---- 7 metric train_eval_f1 = 0.6936812772219056\n",
      " ---- 7 metric train_eval_time = 6.872766222352424\n",
      " ---- 7 metric incorrect_ood_train = 0.026452762923351157\n",
      " ---- 15000 metric q_loss = 0.12813867332786322\n",
      " ---- 15 metric test_eval_f1 = 0.7078783613933233\n",
      " ---- 15 metric test_eval_time = 5.422703402632904\n",
      " ---- 15 metric incorrect_ood_test = 0.008841354723707664\n",
      " ---- 15 metric ood_eval = 0.036931818181818184\n",
      " ---- 15 metric ood_eval_time = 6.339015151515151\n",
      " ---- 16000 metric q_loss = 0.12998924964666367\n",
      " ---- 16 metric test_eval_f1 = 0.730621994297182\n",
      " ---- 16 metric test_eval_time = 9.36870026525199\n",
      " ---- 16 metric incorrect_ood_test = 0.032299465240641714\n",
      " ---- 16 metric ood_eval = 0.032196969696969696\n",
      " ---- 16 metric ood_eval_time = 5.660037878787879\n",
      " ---- 8 metric train_eval_f1 = 0.7189571364555019\n",
      " ---- 8 metric train_eval_time = 9.236499385691333\n",
      " ---- 8 metric incorrect_ood_train = 0.05695187165775401\n",
      " ---- 17000 metric q_loss = 0.12916286734491586\n",
      " ---- 17 metric test_eval_f1 = 0.7402340863147283\n",
      " ---- 17 metric test_eval_time = 5.538516558186109\n",
      " ---- 17 metric incorrect_ood_test = 0.003137254901960784\n",
      " ---- 17 metric ood_eval = 0.028409090909090908\n",
      " ---- 17 metric ood_eval_time = 5.485795454545454\n",
      " ---- 18000 metric q_loss = 0.12839487639069558\n",
      " ---- 18 metric test_eval_f1 = 0.7769250696376093\n",
      " ---- 18 metric test_eval_time = 6.922258945250754\n",
      " ---- 18 metric incorrect_ood_test = 0.007629233511586453\n",
      " ---- 18 metric ood_eval = 0.03409090909090909\n",
      " ---- 18 metric ood_eval_time = 5.809659090909091\n",
      " ---- 9 metric train_eval_f1 = 0.7553985428799034\n",
      " ---- 9 metric train_eval_time = 7.049347743716508\n",
      " ---- 9 metric incorrect_ood_train = 0.012067736185383244\n",
      " ---- 19000 metric q_loss = 0.12770399785786868\n",
      " ---- 19 metric test_eval_f1 = 0.7790941787522894\n",
      " ---- 19 metric test_eval_time = 6.1016050444253365\n",
      " ---- 19 metric incorrect_ood_test = 0.004919786096256685\n",
      " ---- 19 metric ood_eval = 0.04924242424242424\n",
      " ---- 19 metric ood_eval_time = 7.142992424242424\n",
      " ---- 20000 metric q_loss = 0.12720942249894143\n",
      " ---- 20 metric test_eval_f1 = 0.7578129010295339\n",
      " ---- 20 metric test_eval_time = 5.333214132456015\n",
      " ---- 20 metric incorrect_ood_test = 0.0030659536541889484\n",
      " ---- 20 metric ood_eval = 0.03125\n",
      " ---- 20 metric ood_eval_time = 5.429924242424242\n",
      " ---- 10 metric train_eval_f1 = 0.7304008216849802\n",
      " ---- 10 metric train_eval_time = 5.502178864121371\n",
      " ---- 10 metric incorrect_ood_train = 0.006007130124777184\n",
      " ---- 21000 metric q_loss = 0.1278714644908905\n",
      " ---- 21 metric test_eval_f1 = 0.769670650902592\n",
      " ---- 21 metric test_eval_time = 5.276947285601889\n",
      " ---- 21 metric incorrect_ood_test = 0.003137254901960784\n",
      " ---- 21 metric ood_eval = 0.04071969696969697\n",
      " ---- 21 metric ood_eval_time = 5.922348484848484\n",
      " ---- 22000 metric q_loss = 0.12773870464414358\n",
      " ---- 22 metric test_eval_f1 = 0.7759684064878852\n",
      " ---- 22 metric test_eval_time = 5.60394765071873\n",
      " ---- 22 metric incorrect_ood_test = 0.002994652406417112\n",
      " ---- 22 metric ood_eval = 0.03409090909090909\n",
      " ---- 22 metric ood_eval_time = 5.553030303030303\n",
      " ---- 11 metric train_eval_f1 = 0.7480780738325915\n",
      " ---- 11 metric train_eval_time = 5.727388125078218\n",
      " ---- 11 metric incorrect_ood_train = 0.0029768270944741534\n",
      " ---- 23000 metric q_loss = 0.12692550682276488\n",
      " ---- 23 metric test_eval_f1 = 0.7972066992912725\n",
      " ---- 23 metric test_eval_time = 5.946976210948696\n",
      " ---- 23 metric incorrect_ood_test = 0.004919786096256685\n",
      " ---- 23 metric ood_eval = 0.03977272727272727\n",
      " ---- 23 metric ood_eval_time = 6.389204545454546\n",
      " ---- 24000 metric q_loss = 0.12762884482741355\n",
      " ---- 24 metric test_eval_f1 = 0.8124433491664231\n",
      " ---- 24 metric test_eval_time = 5.617469879518072\n",
      " ---- 24 metric incorrect_ood_test = 0.005775401069518717\n",
      " ---- 24 metric ood_eval = 0.030303030303030304\n",
      " ---- 24 metric ood_eval_time = 5.506628787878788\n",
      " ---- 12 metric train_eval_f1 = 0.779753281371379\n",
      " ---- 12 metric train_eval_time = 5.732834830634605\n",
      " ---- 12 metric incorrect_ood_train = 0.0059358288770053474\n",
      " ---- 25000 metric q_loss = 0.12854834891855715\n",
      " ---- 25 metric test_eval_f1 = 0.8335474322217533\n",
      " ---- 25 metric test_eval_time = 6.175257731958763\n",
      " ---- 25 metric incorrect_ood_test = 0.004064171122994653\n",
      " ---- 25 metric ood_eval = 0.03314393939393939\n",
      " ---- 25 metric ood_eval_time = 5.807765151515151\n",
      " ---- 26000 metric q_loss = 0.12790885543078184\n",
      " ---- 26 metric test_eval_f1 = 0.8235108025296605\n",
      " ---- 26 metric test_eval_time = 6.834993907246792\n",
      " ---- 26 metric incorrect_ood_test = 0.005276292335115865\n",
      " ---- 26 metric ood_eval = 0.038825757575757576\n",
      " ---- 26 metric ood_eval_time = 6.839962121212121\n",
      " ---- 13 metric train_eval_f1 = 0.7960661390352168\n",
      " ---- 13 metric train_eval_time = 6.705351525283575\n",
      " ---- 13 metric incorrect_ood_train = 0.00839572192513369\n",
      " ---- 27000 metric q_loss = 0.1270721866339445\n",
      " ---- 27 metric test_eval_f1 = 0.8718161168135687\n",
      " ---- 27 metric test_eval_time = 6.589020452099032\n",
      " ---- 27 metric incorrect_ood_test = 0.006417112299465241\n",
      " ---- 27 metric ood_eval = 0.048295454545454544\n",
      " ---- 27 metric ood_eval_time = 6.418560606060606\n",
      " ---- 28000 metric q_loss = 0.12719650796800852\n",
      " ---- 28 metric test_eval_f1 = 0.8693688900057437\n",
      " ---- 28 metric test_eval_time = 6.186378378378379\n",
      " ---- 28 metric incorrect_ood_test = 0.0106951871657754\n",
      " ---- 28 metric ood_eval = 0.0634469696969697\n",
      " ---- 28 metric ood_eval_time = 6.834280303030303\n",
      " ---- 14 metric train_eval_f1 = 0.8382856604894915\n",
      " ---- 14 metric train_eval_time = 6.41258513258948\n",
      " ---- 14 metric incorrect_ood_train = 0.01590017825311943\n",
      " ---- 29000 metric q_loss = 0.12658905842900275\n",
      " ---- 29 metric test_eval_f1 = 0.8776883143567976\n",
      " ---- 29 metric test_eval_time = 6.435312679288583\n",
      " ---- 29 metric incorrect_ood_test = 0.005775401069518717\n",
      " ---- 29 metric ood_eval = 0.04450757575757576\n",
      " ---- 29 metric ood_eval_time = 6.03030303030303\n",
      " ---- 30000 metric q_loss = 0.1272842195481062\n",
      " ---- 30 metric test_eval_f1 = 0.879799681095734\n",
      " ---- 30 metric test_eval_time = 6.1380075914917995\n",
      " ---- 30 metric incorrect_ood_test = 0.004420677361853832\n",
      " ---- 30 metric ood_eval = 0.04924242424242424\n",
      " ---- 30 metric ood_eval_time = 5.929924242424242\n",
      " ---- 15 metric train_eval_f1 = 0.8504500252800615\n",
      " ---- 15 metric train_eval_time = 6.3859579816843235\n",
      " ---- 15 metric incorrect_ood_train = 0.00730837789661319\n",
      " ---- 31000 metric q_loss = 0.12586000737547876\n",
      " ---- 31 metric test_eval_f1 = 0.8795427641390476\n",
      " ---- 31 metric test_eval_time = 6.57844611528822\n",
      " ---- 31 metric incorrect_ood_test = 0.0042780748663101605\n",
      " ---- 31 metric ood_eval = 0.03977272727272727\n",
      " ---- 31 metric ood_eval_time = 6.43655303030303\n",
      " ---- 32000 metric q_loss = 0.12677991449087858\n",
      " ---- 32 metric test_eval_f1 = 0.884323834338951\n",
      " ---- 32 metric test_eval_time = 5.864273455377575\n",
      " ---- 32 metric incorrect_ood_test = 0.0029233511586452764\n",
      " ---- 32 metric ood_eval = 0.03409090909090909\n",
      " ---- 32 metric ood_eval_time = 6.610795454545454\n",
      " ---- 16 metric train_eval_f1 = 0.8558357926134599\n",
      " ---- 16 metric train_eval_time = 5.979369258045452\n",
      " ---- 16 metric incorrect_ood_train = 0.004652406417112299\n",
      " ---- 33000 metric q_loss = 0.12789852686971426\n",
      " ---- 33 metric test_eval_f1 = 0.8879594008334534\n",
      " ---- 33 metric test_eval_time = 5.852680486061472\n",
      " ---- 33 metric incorrect_ood_test = 0.0024955436720142605\n",
      " ---- 33 metric ood_eval = 0.04734848484848485\n",
      " ---- 33 metric ood_eval_time = 6.901515151515151\n",
      " ---- 34000 metric q_loss = 0.1291258075758815\n",
      " ---- 34 metric test_eval_f1 = 0.8350111893466527\n",
      " ---- 34 metric test_eval_time = 6.355553966096846\n",
      " ---- 34 metric incorrect_ood_test = 0.003137254901960784\n",
      " ---- 34 metric ood_eval = 0.05113636363636364\n",
      " ---- 34 metric ood_eval_time = 7.446969696969697\n",
      " ---- 17 metric train_eval_f1 = 0.8053116823002759\n",
      " ---- 17 metric train_eval_time = 6.242464967924596\n",
      " ---- 17 metric incorrect_ood_train = 0.005240641711229946\n",
      " ---- 35000 metric q_loss = 0.12787926466017963\n",
      " ---- 35 metric test_eval_f1 = 0.8928116070720463\n",
      " ---- 35 metric test_eval_time = 5.849341540223303\n",
      " ---- 35 metric incorrect_ood_test = 0.0037789661319073083\n",
      " ---- 35 metric ood_eval = 0.041666666666666664\n",
      " ---- 35 metric ood_eval_time = 6.8418560606060606\n",
      " ---- 36000 metric q_loss = 0.12594783499836923\n",
      " ---- 36 metric test_eval_f1 = 0.9052186731694786\n",
      " ---- 36 metric test_eval_time = 5.860440188652279\n",
      " ---- 36 metric incorrect_ood_test = 0.002210338680926916\n",
      " ---- 36 metric ood_eval = 0.035037878787878785\n",
      " ---- 36 metric ood_eval_time = 6.12405303030303\n",
      " ---- 18 metric train_eval_f1 = 0.8710389249298122\n",
      " ---- 18 metric train_eval_time = 5.992165840920067\n",
      " ---- 18 metric incorrect_ood_train = 0.0034046345811051693\n",
      " ---- 37000 metric q_loss = 0.1267487437054515\n",
      " ---- 37 metric test_eval_f1 = 0.8929971377430066\n",
      " ---- 37 metric test_eval_time = 6.776177166200817\n",
      " ---- 37 metric incorrect_ood_test = 0.0051336898395721925\n",
      " ---- 37 metric ood_eval = 0.02556818181818182\n",
      " ---- 37 metric ood_eval_time = 5.700757575757576\n",
      " ---- 38000 metric q_loss = 0.12843734389543535\n",
      " ---- 38 metric test_eval_f1 = 0.8903980786628588\n",
      " ---- 38 metric test_eval_time = 5.948248749106504\n",
      " ---- 38 metric incorrect_ood_test = 0.0024955436720142605\n",
      " ---- 38 metric ood_eval = 0.035037878787878785\n",
      " ---- 38 metric ood_eval_time = 5.952651515151516\n",
      " ---- 19 metric train_eval_f1 = 0.8663013556664368\n",
      " ---- 19 metric train_eval_time = 6.09484595141338\n",
      " ---- 19 metric incorrect_ood_train = 0.00429590017825312\n",
      " ---- 39000 metric q_loss = 0.12898687088489533\n",
      " ---- 39 metric test_eval_f1 = 0.9125305454623581\n",
      " ---- 39 metric test_eval_time = 8.778559632368781\n",
      " ---- 39 metric incorrect_ood_test = 0.006987522281639929\n",
      " ---- 39 metric ood_eval = 0.058712121212121215\n",
      " ---- 39 metric ood_eval_time = 8.137310606060606\n",
      " ---- 40000 metric q_loss = 0.13050218466296792\n",
      " ---- 40 metric test_eval_f1 = 0.8973259825521605\n",
      " ---- 40 metric test_eval_time = 5.812379524523452\n",
      " ---- 40 metric incorrect_ood_test = 0.0012834224598930481\n",
      " ---- 40 metric ood_eval = 0.029356060606060608\n",
      " ---- 40 metric ood_eval_time = 5.59469696969697\n",
      " ---- 20 metric train_eval_f1 = 0.8673318027010819\n",
      " ---- 20 metric train_eval_time = 5.921007052941702\n",
      " ---- 20 metric incorrect_ood_train = 0.0016934046345811052\n",
      " ---- 41000 metric q_loss = 0.13014393875747918\n",
      " ---- 41 metric test_eval_f1 = 0.8402344850955648\n",
      " ---- 41 metric test_eval_time = 6.065995286050996\n",
      " ---- 41 metric incorrect_ood_test = 0.001711229946524064\n",
      " ---- 41 metric ood_eval = 0.0946969696969697\n",
      " ---- 41 metric ood_eval_time = 7.181818181818182\n",
      " ---- 42000 metric q_loss = 0.12969771115481854\n",
      " ---- 42 metric test_eval_f1 = 0.8966190525079163\n",
      " ---- 42 metric test_eval_time = 6.202546130739522\n",
      " ---- 42 metric incorrect_ood_test = 0.0030659536541889484\n",
      " ---- 42 metric ood_eval = 0.035037878787878785\n",
      " ---- 42 metric ood_eval_time = 5.90719696969697\n",
      " ---- 21 metric train_eval_f1 = 0.8752093531465414\n",
      " ---- 21 metric train_eval_time = 6.329452373287549\n",
      " ---- 21 metric incorrect_ood_train = 0.0033155080213903743\n",
      " ---- 43000 metric q_loss = 0.1306989688053727\n",
      " ---- 43 metric test_eval_f1 = 0.9001290071930592\n",
      " ---- 43 metric test_eval_time = 5.9241112938988625\n",
      " ---- 43 metric incorrect_ood_test = 0.003137254901960784\n",
      " ---- 43 metric ood_eval = 0.048295454545454544\n",
      " ---- 43 metric ood_eval_time = 5.84280303030303\n",
      " ---- 44000 metric q_loss = 0.1297729794383049\n",
      " ---- 44 metric test_eval_f1 = 0.9091607655271896\n",
      " ---- 44 metric test_eval_time = 7.893315182345776\n",
      " ---- 44 metric incorrect_ood_test = 0.0048484848484848485\n",
      " ---- 44 metric ood_eval = 0.03977272727272727\n",
      " ---- 44 metric ood_eval_time = 5.7481060606060606\n",
      " ---- 22 metric train_eval_f1 = 0.8957520366172464\n",
      " ---- 22 metric train_eval_time = 7.842896395668337\n",
      " ---- 22 metric incorrect_ood_train = 0.0074331550802139035\n",
      " ---- 45000 metric q_loss = 0.13126429975777865\n",
      " ---- 45 metric test_eval_f1 = 0.9228181654373762\n",
      " ---- 45 metric test_eval_time = 6.576288144072036\n",
      " ---- 45 metric incorrect_ood_test = 0.0022816399286987523\n",
      " ---- 45 metric ood_eval = 0.041666666666666664\n",
      " ---- 45 metric ood_eval_time = 5.8664772727272725\n",
      " ---- 46000 metric q_loss = 0.13028287441283465\n",
      " ---- 46 metric test_eval_f1 = 0.9002030092134143\n",
      " ---- 46 metric test_eval_time = 5.561271882815292\n",
      " ---- 46 metric incorrect_ood_test = 0.0021390374331550803\n",
      " ---- 46 metric ood_eval = 0.048295454545454544\n",
      " ---- 46 metric ood_eval_time = 6.065340909090909\n",
      " ---- 23 metric train_eval_f1 = 0.8732053449761195\n",
      " ---- 23 metric train_eval_time = 5.719541627187729\n",
      " ---- 23 metric incorrect_ood_train = 0.002905525846702317\n",
      " ---- 47000 metric q_loss = 0.13236123149096965\n",
      " ---- 47 metric test_eval_f1 = 0.905478520075133\n",
      " ---- 47 metric test_eval_time = 6.24664477441462\n",
      " ---- 47 metric incorrect_ood_test = 0.0012121212121212121\n",
      " ---- 47 metric ood_eval = 0.03977272727272727\n",
      " ---- 47 metric ood_eval_time = 6.06344696969697\n",
      " ---- 48000 metric q_loss = 0.13424940551817416\n",
      " ---- 48 metric test_eval_f1 = 0.9035374780665242\n",
      " ---- 48 metric test_eval_time = 5.693752231345948\n",
      " ---- 48 metric incorrect_ood_test = 0.00142602495543672\n",
      " ---- 48 metric ood_eval = 0.07954545454545454\n",
      " ---- 48 metric ood_eval_time = 6.425189393939394\n",
      " ---- 24 metric train_eval_f1 = 0.8716159941264084\n",
      " ---- 24 metric train_eval_time = 5.851331546023235\n",
      " ---- 24 metric incorrect_ood_train = 0.00267379679144385\n",
      " ---- 49000 metric q_loss = 0.13300344583392143\n",
      " ---- 49 metric test_eval_f1 = 0.9050433912342843\n",
      " ---- 49 metric test_eval_time = 6.765899671287695\n",
      " ---- 49 metric incorrect_ood_test = 0.002210338680926916\n",
      " ---- 49 metric ood_eval = 0.07102272727272728\n",
      " ---- 49 metric ood_eval_time = 6.494318181818182\n",
      " ---- 50000 metric q_loss = 0.1297674451544881\n",
      " ---- 50 metric test_eval_f1 = 0.9291140651548551\n",
      " ---- 50 metric test_eval_time = 8.03330462245191\n",
      " ---- 50 metric incorrect_ood_test = 0.0066310160427807486\n",
      " ---- 50 metric ood_eval = 0.043560606060606064\n",
      " ---- 50 metric ood_eval_time = 5.921401515151516\n",
      " ---- 25 metric train_eval_f1 = 0.9091193058738566\n",
      " ---- 25 metric train_eval_time = 7.91699276865093\n",
      " ---- 25 metric incorrect_ood_train = 0.011532976827094475\n",
      " ---- 51000 metric q_loss = 0.13115005853027106\n",
      " ---- 51 metric test_eval_f1 = 0.9154890681808315\n",
      " ---- 51 metric test_eval_time = 6.6888761795825\n",
      " ---- 51 metric incorrect_ood_test = 0.0026381461675579324\n",
      " ---- 51 metric ood_eval = 0.05303030303030303\n",
      " ---- 51 metric ood_eval_time = 6.169507575757576\n",
      " ---- 52000 metric q_loss = 0.1303730076700449\n",
      " ---- 52 metric test_eval_f1 = 0.9083430606738437\n",
      " ---- 52 metric test_eval_time = 6.101502145922747\n",
      " ---- 52 metric incorrect_ood_test = 0.0032085561497326204\n",
      " ---- 52 metric ood_eval = 0.09185606060606061\n",
      " ---- 52 metric ood_eval_time = 7.1543560606060606\n",
      " ---- 26 metric train_eval_f1 = 0.8861490461120155\n",
      " ---- 26 metric train_eval_time = 6.237734293803534\n",
      " ---- 26 metric incorrect_ood_train = 0.005240641711229946\n",
      " ---- 53000 metric q_loss = 0.12903843080997468\n",
      " ---- 53 metric test_eval_f1 = 0.9087933527188424\n",
      " ---- 53 metric test_eval_time = 6.547607124973174\n",
      " ---- 53 metric incorrect_ood_test = 0.003279857397504456\n",
      " ---- 53 metric ood_eval = 0.058712121212121215\n",
      " ---- 53 metric ood_eval_time = 6.169507575757576\n"
     ]
    },
    {
     "ename": "KeyboardInterrupt",
     "evalue": "",
     "output_type": "error",
     "traceback": [
      "\u001b[0;31m---------------------------------------------------------------------------\u001b[0m",
      "\u001b[0;31mKeyboardInterrupt\u001b[0m                         Traceback (most recent call last)",
      "Cell \u001b[0;32mIn[11], line 1\u001b[0m\n\u001b[0;32m----> 1\u001b[0m \u001b[43mddq_model\u001b[49m\u001b[38;5;241;43m.\u001b[39;49m\u001b[43mtrain\u001b[49m\u001b[43m(\u001b[49m\u001b[43miterations\u001b[49m\u001b[38;5;241;43m=\u001b[39;49m\u001b[43m \u001b[49m\u001b[38;5;241;43m500000\u001b[39;49m\u001b[43m,\u001b[49m\u001b[43m \u001b[49m\u001b[43mlr\u001b[49m\u001b[43m \u001b[49m\u001b[38;5;241;43m=\u001b[39;49m\u001b[43m \u001b[49m\u001b[38;5;241;43m3e-4\u001b[39;49m\u001b[43m,\u001b[49m\u001b[43m \u001b[49m\u001b[43mlam\u001b[49m\u001b[43m \u001b[49m\u001b[38;5;241;43m=\u001b[39;49m\u001b[43m \u001b[49m\u001b[38;5;241;43m.99\u001b[39;49m\u001b[43m)\u001b[49m\n",
      "File \u001b[0;32m~/Desktop/UNSW/flowprintOptimal/sekigo/earlyClassification/DQL/trainers.py:245\u001b[0m, in \u001b[0;36mPEarlyClassificationTrainer.train\u001b[0;34m(self, iterations, lr, lam)\u001b[0m\n\u001b[1;32m    243\u001b[0m \u001b[38;5;28;01mfor\u001b[39;00m step \u001b[38;5;129;01min\u001b[39;00m \u001b[38;5;28mrange\u001b[39m(\u001b[38;5;241m1\u001b[39m,iterations \u001b[38;5;241m+\u001b[39m \u001b[38;5;241m1\u001b[39m):\n\u001b[1;32m    244\u001b[0m     batch \u001b[38;5;241m=\u001b[39m \u001b[38;5;28mself\u001b[39m\u001b[38;5;241m.\u001b[39mp_memory\u001b[38;5;241m.\u001b[39msample()\n\u001b[0;32m--> 245\u001b[0m     abs_errors \u001b[38;5;241m=\u001b[39m \u001b[38;5;28;43mself\u001b[39;49m\u001b[38;5;241;43m.\u001b[39;49m\u001b[43mtrainStep\u001b[49m\u001b[43m(\u001b[49m\u001b[43msteps\u001b[49m\u001b[43m \u001b[49m\u001b[38;5;241;43m=\u001b[39;49m\u001b[43m \u001b[49m\u001b[43mstep\u001b[49m\u001b[43m,\u001b[49m\u001b[43mbatch\u001b[49m\u001b[38;5;241;43m=\u001b[39;49m\u001b[43m \u001b[49m\u001b[43mbatch\u001b[49m\u001b[43m,\u001b[49m\u001b[43mlam\u001b[49m\u001b[38;5;241;43m=\u001b[39;49m\u001b[43m \u001b[49m\u001b[43mlam\u001b[49m\u001b[43m,\u001b[49m\u001b[43m \u001b[49m\u001b[43mpredictor_optimizer\u001b[49m\u001b[38;5;241;43m=\u001b[39;49m\u001b[43m \u001b[49m\u001b[43mpredictor_optimizer\u001b[49m\u001b[43m)\u001b[49m\n\u001b[1;32m    246\u001b[0m     \u001b[38;5;28mself\u001b[39m\u001b[38;5;241m.\u001b[39mp_memory\u001b[38;5;241m.\u001b[39mbatch_update(tree_idx\u001b[38;5;241m=\u001b[39m batch[\u001b[38;5;124m\"\u001b[39m\u001b[38;5;124mtree_indices\u001b[39m\u001b[38;5;124m\"\u001b[39m], abs_errors\u001b[38;5;241m=\u001b[39m abs_errors)     \n\u001b[1;32m    248\u001b[0m     \u001b[38;5;28;01mif\u001b[39;00m step\u001b[38;5;241m%\u001b[39m\u001b[38;5;241m1000\u001b[39m \u001b[38;5;241m==\u001b[39m \u001b[38;5;241m0\u001b[39m:\n",
      "File \u001b[0;32m~/Desktop/UNSW/flowprintOptimal/sekigo/earlyClassification/DQL/trainers.py:112\u001b[0m, in \u001b[0;36mEarlyClassificationtrainer.trainStep\u001b[0;34m(self, steps, batch, lam, predictor_optimizer)\u001b[0m\n\u001b[1;32m    107\u001b[0m \u001b[38;5;124;03m\"\"\"\u001b[39;00m\n\u001b[1;32m    108\u001b[0m \u001b[38;5;124;03mstate and next state is (BS,num_classes)\u001b[39;00m\n\u001b[1;32m    109\u001b[0m \u001b[38;5;124;03m\"\"\"\u001b[39;00m\n\u001b[1;32m    110\u001b[0m \u001b[38;5;66;03m#self.trainFullClassifier(batch_size= batch[\"action\"].shape[0],predictor_optimizer= predictor_optimizer)\u001b[39;00m\n\u001b[0;32m--> 112\u001b[0m predicted_values_for_taken_action,target \u001b[38;5;241m=\u001b[39m \u001b[38;5;28;43mself\u001b[39;49m\u001b[38;5;241;43m.\u001b[39;49m\u001b[43mcalcQLearning\u001b[49m\u001b[43m(\u001b[49m\u001b[43mbatch\u001b[49m\u001b[38;5;241;43m=\u001b[39;49m\u001b[43m \u001b[49m\u001b[43mbatch\u001b[49m\u001b[43m,\u001b[49m\u001b[43m \u001b[49m\u001b[43mlam\u001b[49m\u001b[38;5;241;43m=\u001b[39;49m\u001b[43m \u001b[49m\u001b[43mlam\u001b[49m\u001b[43m)\u001b[49m\n\u001b[1;32m    115\u001b[0m weight \u001b[38;5;241m=\u001b[39m torch\u001b[38;5;241m.\u001b[39mones_like(target)\u001b[38;5;241m.\u001b[39mto(\u001b[38;5;28mself\u001b[39m\u001b[38;5;241m.\u001b[39mdevice)\n\u001b[1;32m    116\u001b[0m \u001b[38;5;28;01mif\u001b[39;00m \u001b[38;5;124m\"\u001b[39m\u001b[38;5;124mIS_weights\u001b[39m\u001b[38;5;124m\"\u001b[39m \u001b[38;5;129;01min\u001b[39;00m batch:\n",
      "File \u001b[0;32m~/Desktop/UNSW/flowprintOptimal/sekigo/earlyClassification/DQL/trainers.py:96\u001b[0m, in \u001b[0;36mEarlyClassificationtrainer.calcQLearning\u001b[0;34m(self, batch, lam)\u001b[0m\n\u001b[1;32m     94\u001b[0m \u001b[38;5;28;01mwith\u001b[39;00m torch\u001b[38;5;241m.\u001b[39mno_grad():\n\u001b[1;32m     95\u001b[0m     next_state_max_actions_model \u001b[38;5;241m=\u001b[39m torch\u001b[38;5;241m.\u001b[39margmax(\u001b[38;5;28mself\u001b[39m\u001b[38;5;241m.\u001b[39mpredictor(next_state)[\u001b[38;5;241m0\u001b[39m],dim \u001b[38;5;241m=\u001b[39m \u001b[38;5;241m-\u001b[39m\u001b[38;5;241m1\u001b[39m,keepdim\u001b[38;5;241m=\u001b[39m \u001b[38;5;28;01mTrue\u001b[39;00m)\n\u001b[0;32m---> 96\u001b[0m     next_state_values_lag_model \u001b[38;5;241m=\u001b[39m \u001b[38;5;28;43mself\u001b[39;49m\u001b[38;5;241;43m.\u001b[39;49m\u001b[43mlag_predictor\u001b[49m\u001b[43m(\u001b[49m\u001b[43mnext_state\u001b[49m\u001b[43m)\u001b[49m[\u001b[38;5;241m0\u001b[39m]\n\u001b[1;32m     97\u001b[0m     next_state_values_for_max_action \u001b[38;5;241m=\u001b[39m torch\u001b[38;5;241m.\u001b[39mgather(\u001b[38;5;28minput\u001b[39m\u001b[38;5;241m=\u001b[39m next_state_values_lag_model, dim\u001b[38;5;241m=\u001b[39m \u001b[38;5;241m1\u001b[39m, index\u001b[38;5;241m=\u001b[39m next_state_max_actions_model) \u001b[38;5;66;03m# (BS,1)\u001b[39;00m\n\u001b[1;32m     98\u001b[0m     next_state_values_for_max_action \u001b[38;5;241m=\u001b[39m next_state_values_for_max_action\u001b[38;5;241m*\u001b[39m(\u001b[38;5;241m~\u001b[39m(is_terminal\u001b[38;5;241m.\u001b[39munsqueeze(\u001b[38;5;241m-\u001b[39m\u001b[38;5;241m1\u001b[39m)))\n",
      "File \u001b[0;32m~/.local/lib/python3.10/site-packages/torch/nn/modules/module.py:1532\u001b[0m, in \u001b[0;36mModule._wrapped_call_impl\u001b[0;34m(self, *args, **kwargs)\u001b[0m\n\u001b[1;32m   1530\u001b[0m     \u001b[38;5;28;01mreturn\u001b[39;00m \u001b[38;5;28mself\u001b[39m\u001b[38;5;241m.\u001b[39m_compiled_call_impl(\u001b[38;5;241m*\u001b[39margs, \u001b[38;5;241m*\u001b[39m\u001b[38;5;241m*\u001b[39mkwargs)  \u001b[38;5;66;03m# type: ignore[misc]\u001b[39;00m\n\u001b[1;32m   1531\u001b[0m \u001b[38;5;28;01melse\u001b[39;00m:\n\u001b[0;32m-> 1532\u001b[0m     \u001b[38;5;28;01mreturn\u001b[39;00m \u001b[38;5;28;43mself\u001b[39;49m\u001b[38;5;241;43m.\u001b[39;49m\u001b[43m_call_impl\u001b[49m\u001b[43m(\u001b[49m\u001b[38;5;241;43m*\u001b[39;49m\u001b[43margs\u001b[49m\u001b[43m,\u001b[49m\u001b[43m \u001b[49m\u001b[38;5;241;43m*\u001b[39;49m\u001b[38;5;241;43m*\u001b[39;49m\u001b[43mkwargs\u001b[49m\u001b[43m)\u001b[49m\n",
      "File \u001b[0;32m~/.local/lib/python3.10/site-packages/torch/nn/modules/module.py:1541\u001b[0m, in \u001b[0;36mModule._call_impl\u001b[0;34m(self, *args, **kwargs)\u001b[0m\n\u001b[1;32m   1536\u001b[0m \u001b[38;5;66;03m# If we don't have any hooks, we want to skip the rest of the logic in\u001b[39;00m\n\u001b[1;32m   1537\u001b[0m \u001b[38;5;66;03m# this function, and just call forward.\u001b[39;00m\n\u001b[1;32m   1538\u001b[0m \u001b[38;5;28;01mif\u001b[39;00m \u001b[38;5;129;01mnot\u001b[39;00m (\u001b[38;5;28mself\u001b[39m\u001b[38;5;241m.\u001b[39m_backward_hooks \u001b[38;5;129;01mor\u001b[39;00m \u001b[38;5;28mself\u001b[39m\u001b[38;5;241m.\u001b[39m_backward_pre_hooks \u001b[38;5;129;01mor\u001b[39;00m \u001b[38;5;28mself\u001b[39m\u001b[38;5;241m.\u001b[39m_forward_hooks \u001b[38;5;129;01mor\u001b[39;00m \u001b[38;5;28mself\u001b[39m\u001b[38;5;241m.\u001b[39m_forward_pre_hooks\n\u001b[1;32m   1539\u001b[0m         \u001b[38;5;129;01mor\u001b[39;00m _global_backward_pre_hooks \u001b[38;5;129;01mor\u001b[39;00m _global_backward_hooks\n\u001b[1;32m   1540\u001b[0m         \u001b[38;5;129;01mor\u001b[39;00m _global_forward_hooks \u001b[38;5;129;01mor\u001b[39;00m _global_forward_pre_hooks):\n\u001b[0;32m-> 1541\u001b[0m     \u001b[38;5;28;01mreturn\u001b[39;00m \u001b[43mforward_call\u001b[49m\u001b[43m(\u001b[49m\u001b[38;5;241;43m*\u001b[39;49m\u001b[43margs\u001b[49m\u001b[43m,\u001b[49m\u001b[43m \u001b[49m\u001b[38;5;241;43m*\u001b[39;49m\u001b[38;5;241;43m*\u001b[39;49m\u001b[43mkwargs\u001b[49m\u001b[43m)\u001b[49m\n\u001b[1;32m   1543\u001b[0m \u001b[38;5;28;01mtry\u001b[39;00m:\n\u001b[1;32m   1544\u001b[0m     result \u001b[38;5;241m=\u001b[39m \u001b[38;5;28;01mNone\u001b[39;00m\n",
      "File \u001b[0;32m~/Desktop/UNSW/flowprintOptimal/sekigo/modeling/neuralNetworks.py:95\u001b[0m, in \u001b[0;36mLSTMDuelingNetwork.forward\u001b[0;34m(self, X)\u001b[0m\n\u001b[1;32m     93\u001b[0m     lstm_out \u001b[38;5;241m=\u001b[39m lstm_out[:,\u001b[38;5;241m-\u001b[39m\u001b[38;5;241m1\u001b[39m,:]\n\u001b[1;32m     94\u001b[0m \u001b[38;5;28;01melse\u001b[39;00m:\n\u001b[0;32m---> 95\u001b[0m     lstm_out \u001b[38;5;241m=\u001b[39m \u001b[38;5;28;43mself\u001b[39;49m\u001b[38;5;241;43m.\u001b[39;49m\u001b[43m_unpackAndGetFeatureFromLSTMOutput\u001b[49m\u001b[43m(\u001b[49m\u001b[43mlstm_out\u001b[49m\u001b[38;5;241;43m=\u001b[39;49m\u001b[43m \u001b[49m\u001b[43mlstm_out\u001b[49m\u001b[43m)\u001b[49m\n\u001b[1;32m     98\u001b[0m \u001b[38;5;66;03m#lstm_out = lstm_out#/torch.linalg.norm(lstm_out,dim = -1,keepdims = True)\u001b[39;00m\n\u001b[1;32m     99\u001b[0m values \u001b[38;5;241m=\u001b[39m \u001b[38;5;28mself\u001b[39m\u001b[38;5;241m.\u001b[39mvalue_linear(lstm_out)\n",
      "File \u001b[0;32m~/Desktop/UNSW/flowprintOptimal/sekigo/modeling/neuralNetworks.py:26\u001b[0m, in \u001b[0;36mBaseLSTMNetwork._unpackAndGetFeatureFromLSTMOutput\u001b[0;34m(self, lstm_out)\u001b[0m\n\u001b[1;32m     25\u001b[0m \u001b[38;5;28;01mdef\u001b[39;00m \u001b[38;5;21m_unpackAndGetFeatureFromLSTMOutput\u001b[39m(\u001b[38;5;28mself\u001b[39m,lstm_out : nn\u001b[38;5;241m.\u001b[39mutils\u001b[38;5;241m.\u001b[39mrnn\u001b[38;5;241m.\u001b[39mPackedSequence):\n\u001b[0;32m---> 26\u001b[0m     lstm_out \u001b[38;5;241m=\u001b[39m \u001b[43munpack_sequence\u001b[49m\u001b[43m(\u001b[49m\u001b[43mlstm_out\u001b[49m\u001b[43m)\u001b[49m\n\u001b[1;32m     27\u001b[0m     lstm_out \u001b[38;5;241m=\u001b[39m \u001b[38;5;28mlist\u001b[39m(\u001b[38;5;28mmap\u001b[39m(\u001b[38;5;28;01mlambda\u001b[39;00m x : x[\u001b[38;5;241m-\u001b[39m\u001b[38;5;241m1\u001b[39m],lstm_out))\n\u001b[1;32m     28\u001b[0m     lstm_out \u001b[38;5;241m=\u001b[39m torch\u001b[38;5;241m.\u001b[39mstack(lstm_out,dim\u001b[38;5;241m=\u001b[39m \u001b[38;5;241m0\u001b[39m)\n",
      "File \u001b[0;32m~/.local/lib/python3.10/site-packages/torch/nn/utils/rnn.py:516\u001b[0m, in \u001b[0;36munpack_sequence\u001b[0;34m(packed_sequences)\u001b[0m\n\u001b[1;32m    488\u001b[0m \u001b[38;5;124mr\u001b[39m\u001b[38;5;124;03m\"\"\"Unpack PackedSequence into a list of variable length Tensors.\u001b[39;00m\n\u001b[1;32m    489\u001b[0m \n\u001b[1;32m    490\u001b[0m \u001b[38;5;124;03m``packed_sequences`` should be a PackedSequence object.\u001b[39;00m\n\u001b[0;32m   (...)\u001b[0m\n\u001b[1;32m    513\u001b[0m \u001b[38;5;124;03m    a list of :class:`Tensor` objects\u001b[39;00m\n\u001b[1;32m    514\u001b[0m \u001b[38;5;124;03m\"\"\"\u001b[39;00m\n\u001b[1;32m    515\u001b[0m padded_sequences, lengths \u001b[38;5;241m=\u001b[39m pad_packed_sequence(packed_sequences, batch_first\u001b[38;5;241m=\u001b[39m\u001b[38;5;28;01mTrue\u001b[39;00m)\n\u001b[0;32m--> 516\u001b[0m unpacked_sequences \u001b[38;5;241m=\u001b[39m \u001b[43munpad_sequence\u001b[49m\u001b[43m(\u001b[49m\u001b[43mpadded_sequences\u001b[49m\u001b[43m,\u001b[49m\u001b[43m \u001b[49m\u001b[43mlengths\u001b[49m\u001b[43m,\u001b[49m\u001b[43m \u001b[49m\u001b[43mbatch_first\u001b[49m\u001b[38;5;241;43m=\u001b[39;49m\u001b[38;5;28;43;01mTrue\u001b[39;49;00m\u001b[43m)\u001b[49m\n\u001b[1;32m    517\u001b[0m \u001b[38;5;28;01mreturn\u001b[39;00m unpacked_sequences\n",
      "File \u001b[0;32m~/.local/lib/python3.10/site-packages/torch/nn/utils/rnn.py:446\u001b[0m, in \u001b[0;36munpad_sequence\u001b[0;34m(padded_sequences, lengths, batch_first)\u001b[0m\n\u001b[1;32m    444\u001b[0m     mask \u001b[38;5;241m=\u001b[39m idx \u001b[38;5;241m<\u001b[39m length\n\u001b[1;32m    445\u001b[0m     unpacked_seq \u001b[38;5;241m=\u001b[39m seq[mask]\n\u001b[0;32m--> 446\u001b[0m     \u001b[43munpadded_sequences\u001b[49m\u001b[38;5;241;43m.\u001b[39;49m\u001b[43mappend\u001b[49m\u001b[43m(\u001b[49m\u001b[43munpacked_seq\u001b[49m\u001b[43m)\u001b[49m\n\u001b[1;32m    448\u001b[0m \u001b[38;5;28;01mreturn\u001b[39;00m unpadded_sequences\n",
      "\u001b[0;31mKeyboardInterrupt\u001b[0m: "
     ]
    }
   ],
   "source": [
    "ddq_model.train(iterations= 500000, lr = 3e-4, lam = .99)"
   ]
  },
  {
   "cell_type": "code",
   "execution_count": 12,
   "metadata": {},
   "outputs": [],
   "source": [
    "documenter = Documenter(train_dataset= train_dataset,test_dataset= test_dataset, ood_dataset = ood_dataset,full_model= classification_trainer.best[\"model\"], early_model= ddq_model.best[\"model\"],\n",
    "                        configs= configs\n",
    "                        )"
   ]
  },
  {
   "cell_type": "code",
   "execution_count": 13,
   "metadata": {},
   "outputs": [],
   "source": [
    "documenter.document(name= configs[\"name\"])"
   ]
  },
  {
   "cell_type": "code",
   "execution_count": 16,
   "metadata": {},
   "outputs": [],
   "source": [
    "from sklearn.metrics import f1_score"
   ]
  },
  {
   "cell_type": "code",
   "execution_count": 58,
   "metadata": {},
   "outputs": [
    {
     "name": "stdout",
     "output_type": "stream",
     "text": [
      "tensor([[0.8008, 0.5225, 0.9946, 0.4995],\n",
      "        [0.3875, 0.8735, 0.4473, 0.8742],\n",
      "        [0.2736, 0.7370, 0.9039, 0.4186],\n",
      "        [0.5684, 0.5814, 0.0498, 0.4500],\n",
      "        [0.8719, 0.5438, 0.3256, 0.3742],\n",
      "        [0.3563, 0.9617, 0.8656, 0.3558],\n",
      "        [0.4970, 0.6278, 0.0561, 0.1948],\n",
      "        [0.1007, 0.0800, 0.0280, 0.3413],\n",
      "        [0.8641, 0.9601, 0.7356, 0.5421],\n",
      "        [0.4536, 0.6649, 0.8181, 0.3578]]) tensor([0.4536, 0.6649, 0.8181])\n"
     ]
    },
    {
     "data": {
      "text/plain": [
       "2"
      ]
     },
     "execution_count": 58,
     "metadata": {},
     "output_type": "execute_result"
    }
   ],
   "source": [
    "a = torch.rand(10,4)\n",
    "print(a, a[-1, : -1])\n",
    "torch.argmax(a[-1, : -1]).item()"
   ]
  },
  {
   "cell_type": "code",
   "execution_count": 29,
   "metadata": {},
   "outputs": [],
   "source": [
    "pred,time, labels = EarlyEvaluation(min_steps= 5, device= device, model= ddq_model.best[\"model\"]).predictOnDataset(dataset= test_dataset,enforce_prediction= False)"
   ]
  },
  {
   "cell_type": "code",
   "execution_count": 34,
   "metadata": {},
   "outputs": [
    {
     "data": {
      "text/plain": [
       "0.9167045949507788"
      ]
     },
     "execution_count": 34,
     "metadata": {},
     "output_type": "execute_result"
    }
   ],
   "source": [
    "from sklearn.metrics import f1_score\n",
    "scores = f1_score(y_true= labels, y_pred= pred, average= None)"
   ]
  },
  {
   "cell_type": "code",
   "execution_count": 35,
   "metadata": {},
   "outputs": [
    {
     "data": {
      "text/plain": [
       "array([0.68427095, 0.8716707 , 0.91332712, 0.82959831, 0.91909385,\n",
       "       0.92327366, 0.61428571, 0.87876844, 0.75036928, 0.72799209,\n",
       "       0.82420749, 0.32592593, 0.76397516])"
      ]
     },
     "execution_count": 35,
     "metadata": {},
     "output_type": "execute_result"
    }
   ],
   "source": [
    "scores"
   ]
  },
  {
   "cell_type": "code",
   "execution_count": 24,
   "metadata": {},
   "outputs": [
    {
     "data": {
      "text/plain": [
       "{'instagram': 0,\n",
       " 'hangout': 1,\n",
       " 'netflix': 2,\n",
       " 'google-maps': 3,\n",
       " 'twitter': 4,\n",
       " 'spotify': 5,\n",
       " 'facebook': 6,\n",
       " 'youtube': 7,\n",
       " 'reddit': 8,\n",
       " 'pinterest': 9,\n",
       " 'google-drive': 10,\n",
       " 'messenger': 11,\n",
       " 'gmail': 12}"
      ]
     },
     "execution_count": 24,
     "metadata": {},
     "output_type": "execute_result"
    }
   ],
   "source": [
    "test_dataset.label_to_index"
   ]
  },
  {
   "cell_type": "code",
   "execution_count": 15,
   "metadata": {},
   "outputs": [
    {
     "name": "stdout",
     "output_type": "stream",
     "text": [
      "0.12742096798578842\n"
     ]
    }
   ],
   "source": [
    "priors = []\n",
    "for i in range(len(memory)):\n",
    "    if memory[i].state.label == 3:\n",
    "        priors.append(p_memory.memory_index_to_priority[i])\n",
    "priors = np.array(priors)\n",
    "print(priors.mean())"
   ]
  },
  {
   "cell_type": "code",
   "execution_count": null,
   "metadata": {},
   "outputs": [],
   "source": [
    "batch = p_memory.sample()"
   ]
  },
  {
   "cell_type": "code",
   "execution_count": null,
   "metadata": {},
   "outputs": [
    {
     "data": {
      "text/plain": [
       "34.95147671434097"
      ]
     },
     "execution_count": 45,
     "metadata": {},
     "output_type": "execute_result"
    }
   ],
   "source": [
    "p_memory.tree.total_priority/128"
   ]
  },
  {
   "cell_type": "code",
   "execution_count": null,
   "metadata": {},
   "outputs": [
    {
     "data": {
      "text/plain": [
       "0    36\n",
       "2    35\n",
       "3    33\n",
       "1    24\n",
       "Name: count, dtype: int64"
      ]
     },
     "execution_count": 43,
     "metadata": {},
     "output_type": "execute_result"
    }
   ],
   "source": [
    "pd.Series(batch[\"label\"]).value_counts()"
   ]
  },
  {
   "cell_type": "code",
   "execution_count": 12,
   "metadata": {},
   "outputs": [
    {
     "data": {
      "text/plain": [
       "{'micro_f1': 0.8371288555779763,\n",
       " 'macro_f1': 0.7547126734628223,\n",
       " 'accuracy': 0.8371288555779763,\n",
       " 'cm': array([[304,   0,   4,   3,   3,   1,  52,   6,   7,   5,   0,  31,   1],\n",
       "        [  1, 179,   1,   4,   5,   5,   0,   2,   0,   0,   0,   1,   0],\n",
       "        [  3,   0, 499,   7,   0,   1,   6,   3,   6,   3,   0,   1,   0],\n",
       "        [  7,   2,  11, 968,   0,   4,  13,  39,   2,  12,   8,   3,   4],\n",
       "        [  1,   6,   2,   2, 720,  17,   1,   0,   3,   3,   2,   0,   0],\n",
       "        [  1,   7,   0,   0,  15, 733,   4,   0,  10,   9,   1,   3,   0],\n",
       "        [ 18,   1,   1,   5,   3,   1, 276,  10,  10,   6,   2,  27,   2],\n",
       "        [  4,   0,   0,  15,   5,   0,   2, 739,   1,   0,   2,   0,   1],\n",
       "        [ 10,   1,   4,   3,  10,   3,  34,   5, 494,  46,   4,  16,   3],\n",
       "        [ 11,   2,   2,  10,   5,   6,  13,  13,  44, 391,   4,  10,   6],\n",
       "        [  4,   1,   0,  11,   1,   0,   6,  13,   3,   4, 290,   1,   2],\n",
       "        [ 14,   0,   3,   1,   0,   0,  45,   3,  15,  10,   0,  74,   1],\n",
       "        [  1,   0,   1,   4,   3,   0,   3,   7,   0,   7,   6,   1, 141]]),\n",
       " 'incorrect_ood': 0.03228596137215336,\n",
       " 'time': 7.770971461516287}"
      ]
     },
     "execution_count": 12,
     "metadata": {},
     "output_type": "execute_result"
    }
   ],
   "source": [
    "EarlyEvaluation(min_steps= 5,device= device,model= ddq_model.best[\"model\"]).getMetrices(dataset= test_dataset,ood_dataset= ood_dataset)"
   ]
  },
  {
   "cell_type": "code",
   "execution_count": null,
   "metadata": {},
   "outputs": [],
   "source": [
    "arr = np.array(list(ddq_model.p_memory.memory_index_to_priority.values()))\n"
   ]
  },
  {
   "cell_type": "code",
   "execution_count": null,
   "metadata": {},
   "outputs": [],
   "source": [
    "batch = p_memory.sample()"
   ]
  },
  {
   "cell_type": "code",
   "execution_count": null,
   "metadata": {},
   "outputs": [
    {
     "data": {
      "text/plain": [
       "tensor(0.1818)"
      ]
     },
     "execution_count": 31,
     "metadata": {},
     "output_type": "execute_result"
    }
   ],
   "source": [
    "batch[\"IS_weights\"]"
   ]
  },
  {
   "cell_type": "code",
   "execution_count": null,
   "metadata": {},
   "outputs": [
    {
     "data": {
      "text/plain": [
       "0"
      ]
     },
     "execution_count": 46,
     "metadata": {},
     "output_type": "execute_result"
    }
   ],
   "source": [
    "p_memory.PER_b_increment_per_sampling"
   ]
  },
  {
   "cell_type": "code",
   "execution_count": null,
   "metadata": {},
   "outputs": [
    {
     "data": {
      "text/plain": [
       "0.5"
      ]
     },
     "execution_count": 47,
     "metadata": {},
     "output_type": "execute_result"
    }
   ],
   "source": [
    "p_memory.PER_b"
   ]
  },
  {
   "cell_type": "code",
   "execution_count": null,
   "metadata": {},
   "outputs": [
    {
     "data": {
      "text/plain": [
       "torch.Size([128])"
      ]
     },
     "execution_count": 29,
     "metadata": {},
     "output_type": "execute_result"
    }
   ],
   "source": [
    "batch[\"IS_weights\"]"
   ]
  },
  {
   "cell_type": "code",
   "execution_count": null,
   "metadata": {},
   "outputs": [],
   "source": []
  }
 ],
 "metadata": {
  "kernelspec": {
   "display_name": "Python 3",
   "language": "python",
   "name": "python3"
  },
  "language_info": {
   "codemirror_mode": {
    "name": "ipython",
    "version": 3
   },
   "file_extension": ".py",
   "mimetype": "text/x-python",
   "name": "python",
   "nbconvert_exporter": "python",
   "pygments_lexer": "ipython3",
   "version": "3.10.12"
  }
 },
 "nbformat": 4,
 "nbformat_minor": 2
}
